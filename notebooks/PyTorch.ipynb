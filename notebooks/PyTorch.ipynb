{
  "nbformat": 4,
  "nbformat_minor": 0,
  "metadata": {
    "colab": {
      "name": "PyTorch.ipynb",
      "provenance": [],
      "collapsed_sections": [
        "yN5JFHgzIR1f",
        "C0mEiY7CDlRN",
        "rBW2rZ-IDptN",
        "ezEdov5UDw4b",
        "FxIXWvCkGKG0",
        "UdWq-qsQYz_i",
        "eAlT9J-Q76HR"
      ],
      "authorship_tag": "ABX9TyPxuZSgvSmuZc+n0N39xIId",
      "include_colab_link": true
    },
    "kernelspec": {
      "name": "python3",
      "display_name": "Python 3"
    },
    "language_info": {
      "name": "python"
    },
    "accelerator": "GPU"
  },
  "cells": [
    {
      "cell_type": "markdown",
      "metadata": {
        "id": "view-in-github",
        "colab_type": "text"
      },
      "source": [
        "<a href=\"https://colab.research.google.com/github/tabaraei/CheatSheet/blob/master/notebooks/PyTorch.ipynb\" target=\"_parent\"><img src=\"https://colab.research.google.com/assets/colab-badge.svg\" alt=\"Open In Colab\"/></a>"
      ]
    },
    {
      "cell_type": "markdown",
      "source": [
        "### Getting Started"
      ],
      "metadata": {
        "id": "yN5JFHgzIR1f"
      }
    },
    {
      "cell_type": "code",
      "execution_count": 1,
      "metadata": {
        "colab": {
          "base_uri": "https://localhost:8080/"
        },
        "id": "uZNNCi9b-W-w",
        "outputId": "b0eb311d-2b72-41d7-ace7-30579b1302a0"
      },
      "outputs": [
        {
          "output_type": "execute_result",
          "data": {
            "text/plain": [
              "True"
            ]
          },
          "metadata": {},
          "execution_count": 1
        }
      ],
      "source": [
        "import torch\n",
        "import numpy as np\n",
        "\n",
        "# Check if GPU is available\n",
        "torch.cuda.is_available()"
      ]
    },
    {
      "cell_type": "code",
      "source": [
        "x = torch.tensor([1])\n",
        "print(x.device)\n",
        "x = x.to('cuda')\n",
        "print(x.device)\n",
        "y = torch.tensor([1], device='cuda')\n",
        "print(y.device)"
      ],
      "metadata": {
        "colab": {
          "base_uri": "https://localhost:8080/"
        },
        "id": "5UJTqnBJXovY",
        "outputId": "014d19c2-2446-45a9-dfc8-af3598a06952"
      },
      "execution_count": 2,
      "outputs": [
        {
          "output_type": "stream",
          "name": "stdout",
          "text": [
            "cpu\n",
            "cuda:0\n",
            "cuda:0\n"
          ]
        }
      ]
    },
    {
      "cell_type": "markdown",
      "source": [
        "### Define Tensors"
      ],
      "metadata": {
        "id": "C0mEiY7CDlRN"
      }
    },
    {
      "cell_type": "code",
      "source": [
        "torch.tensor([1,2,3])"
      ],
      "metadata": {
        "colab": {
          "base_uri": "https://localhost:8080/"
        },
        "id": "GPDAP-jdG3xH",
        "outputId": "22bb77e5-dfc1-43fc-cf58-d8cfb97ab601"
      },
      "execution_count": 3,
      "outputs": [
        {
          "output_type": "execute_result",
          "data": {
            "text/plain": [
              "tensor([1, 2, 3])"
            ]
          },
          "metadata": {},
          "execution_count": 3
        }
      ]
    },
    {
      "cell_type": "code",
      "source": [
        "torch.zeros(2,3, dtype=torch.int32), \\\n",
        "torch.ones(2), \\\n",
        "torch.empty(2), \\\n",
        "torch.rand(2)"
      ],
      "metadata": {
        "colab": {
          "base_uri": "https://localhost:8080/"
        },
        "id": "CyZWFB_A-wVk",
        "outputId": "807db47c-59e2-48a5-f5c5-acb5198d809e"
      },
      "execution_count": 4,
      "outputs": [
        {
          "output_type": "execute_result",
          "data": {
            "text/plain": [
              "(tensor([[0, 0, 0],\n",
              "         [0, 0, 0]], dtype=torch.int32),\n",
              " tensor([1., 1.]),\n",
              " tensor([-5.8644e-16,  3.0801e-41]),\n",
              " tensor([0.4345, 0.0029]))"
            ]
          },
          "metadata": {},
          "execution_count": 4
        }
      ]
    },
    {
      "cell_type": "code",
      "source": [
        "array = np.array([1,2,3])\n",
        "torch.from_numpy(array), \\\n",
        "torch.tensor(array), \\\n",
        "torch.tensor(array).numpy()\n",
        "# Careful that modifying numpy array will affect tensor and vice versa"
      ],
      "metadata": {
        "colab": {
          "base_uri": "https://localhost:8080/"
        },
        "id": "tR6ryJx9-yNU",
        "outputId": "115fab2a-2431-45c1-a506-c0fe40ff7042"
      },
      "execution_count": 5,
      "outputs": [
        {
          "output_type": "execute_result",
          "data": {
            "text/plain": [
              "(tensor([1, 2, 3]), tensor([1, 2, 3]), array([1, 2, 3]))"
            ]
          },
          "metadata": {},
          "execution_count": 5
        }
      ]
    },
    {
      "cell_type": "markdown",
      "source": [
        "### Mathematical Operations with Tensors"
      ],
      "metadata": {
        "id": "rBW2rZ-IDptN"
      }
    },
    {
      "cell_type": "code",
      "source": [
        "t1 = torch.ones(3)\n",
        "t2 = torch.tensor([1,2.,3]) # dtype of all values will be the same\n",
        "t2, t2.shape, t2.dtype, t2.size()"
      ],
      "metadata": {
        "colab": {
          "base_uri": "https://localhost:8080/"
        },
        "id": "DWoNms4HCel6",
        "outputId": "d8e5dd69-7de5-42d6-c8af-ad7d4cba84b3"
      },
      "execution_count": 6,
      "outputs": [
        {
          "output_type": "execute_result",
          "data": {
            "text/plain": [
              "(tensor([1., 2., 3.]), torch.Size([3]), torch.float32, torch.Size([3]))"
            ]
          },
          "metadata": {},
          "execution_count": 6
        }
      ]
    },
    {
      "cell_type": "code",
      "source": [
        "# Note: every function with underscore inplaces value\n",
        "# main operations are: add, sub, mul, div\n",
        "t1 + t2, torch.add(t1, t2), t2.add_(t1)"
      ],
      "metadata": {
        "colab": {
          "base_uri": "https://localhost:8080/"
        },
        "id": "viESPXrMCw5G",
        "outputId": "5e1852d3-aafc-4f3c-ad70-9447b86c5692"
      },
      "execution_count": 7,
      "outputs": [
        {
          "output_type": "execute_result",
          "data": {
            "text/plain": [
              "(tensor([2., 3., 4.]), tensor([2., 3., 4.]), tensor([2., 3., 4.]))"
            ]
          },
          "metadata": {},
          "execution_count": 7
        }
      ]
    },
    {
      "cell_type": "markdown",
      "source": [
        "### Slicing within Tensors"
      ],
      "metadata": {
        "id": "ezEdov5UDw4b"
      }
    },
    {
      "cell_type": "code",
      "source": [
        "t1 = torch.rand(3,4)\n",
        "t1, t1[:,1], t1[1:3, 1:4], t1[0, 0].item()"
      ],
      "metadata": {
        "colab": {
          "base_uri": "https://localhost:8080/"
        },
        "id": "C6Tdx5PBDFOg",
        "outputId": "41898d83-fe90-4043-ba3f-9b276d936151"
      },
      "execution_count": 8,
      "outputs": [
        {
          "output_type": "execute_result",
          "data": {
            "text/plain": [
              "(tensor([[0.1438, 0.8735, 0.5152, 0.1795],\n",
              "         [0.1737, 0.5774, 0.7629, 0.5976],\n",
              "         [0.1775, 0.8521, 0.2266, 0.9676]]),\n",
              " tensor([0.8735, 0.5774, 0.8521]),\n",
              " tensor([[0.5774, 0.7629, 0.5976],\n",
              "         [0.8521, 0.2266, 0.9676]]),\n",
              " 0.1438007950782776)"
            ]
          },
          "metadata": {},
          "execution_count": 8
        }
      ]
    },
    {
      "cell_type": "markdown",
      "source": [
        "### Reshaping Tensors"
      ],
      "metadata": {
        "id": "FxIXWvCkGKG0"
      }
    },
    {
      "cell_type": "code",
      "source": [
        "t1 = torch.rand(16)\n",
        "t1.view(-1, 8)"
      ],
      "metadata": {
        "colab": {
          "base_uri": "https://localhost:8080/"
        },
        "id": "Lo9_U0lnGNgc",
        "outputId": "a4eb8482-fcce-4531-d30b-59b64d498b42"
      },
      "execution_count": 9,
      "outputs": [
        {
          "output_type": "execute_result",
          "data": {
            "text/plain": [
              "tensor([[0.6165, 0.9824, 0.1246, 0.0717, 0.3715, 0.5199, 0.0811, 0.6979],\n",
              "        [0.1035, 0.7064, 0.5744, 0.6174, 0.5151, 0.5576, 0.4827, 0.7918]])"
            ]
          },
          "metadata": {},
          "execution_count": 9
        }
      ]
    },
    {
      "cell_type": "code",
      "source": [
        "torch.device(\"cuda\")"
      ],
      "metadata": {
        "colab": {
          "base_uri": "https://localhost:8080/"
        },
        "id": "b4mktJzXI1KF",
        "outputId": "ce70a2a0-a585-44fe-eaa0-b1467ce3b303"
      },
      "execution_count": 10,
      "outputs": [
        {
          "output_type": "execute_result",
          "data": {
            "text/plain": [
              "device(type='cuda')"
            ]
          },
          "metadata": {},
          "execution_count": 10
        }
      ]
    },
    {
      "cell_type": "code",
      "source": [
        "t1.device"
      ],
      "metadata": {
        "colab": {
          "base_uri": "https://localhost:8080/"
        },
        "id": "LjZGFNHgJR7J",
        "outputId": "f2e8df89-edbd-4a64-b7d7-8193f5fbd4a7"
      },
      "execution_count": 11,
      "outputs": [
        {
          "output_type": "execute_result",
          "data": {
            "text/plain": [
              "device(type='cpu')"
            ]
          },
          "metadata": {},
          "execution_count": 11
        }
      ]
    },
    {
      "cell_type": "markdown",
      "source": [
        "### Gradients"
      ],
      "metadata": {
        "id": "UdWq-qsQYz_i"
      }
    },
    {
      "cell_type": "code",
      "source": [
        "x = torch.tensor(1.0)\n",
        "y = torch.tensor(2.0)\n",
        "w = torch.tensor(1.0, requires_grad=True)\n",
        "\n",
        "# forward pass\n",
        "y_hat = w*x\n",
        "loss = (y_hat - y)**2\n",
        "print(loss)\n",
        "\n",
        "# backward pass\n",
        "loss.backward()\n",
        "print(w.grad)\n",
        "\n",
        "# x.requires_grad_(False)\n",
        "# use x.grad.zero_() at the end of loops!"
      ],
      "metadata": {
        "colab": {
          "base_uri": "https://localhost:8080/"
        },
        "id": "B3loxuxVY2Wg",
        "outputId": "20010e08-7139-4059-975a-740530844c1c"
      },
      "execution_count": 12,
      "outputs": [
        {
          "output_type": "stream",
          "name": "stdout",
          "text": [
            "tensor(1., grad_fn=<PowBackward0>)\n",
            "tensor(-2.)\n"
          ]
        }
      ]
    },
    {
      "cell_type": "markdown",
      "source": [
        "### Linear Regression"
      ],
      "metadata": {
        "id": "eAlT9J-Q76HR"
      }
    },
    {
      "cell_type": "code",
      "source": [
        "# model selection and params\n",
        "# loss function and optimizer\n",
        "# Training loop:\n",
        "# - forward pass\n",
        "# - backward pass\n",
        "# - update weights"
      ],
      "metadata": {
        "id": "wxpI-l6X7cQA"
      },
      "execution_count": null,
      "outputs": []
    },
    {
      "cell_type": "code",
      "source": [
        "# Simplest Solution Without Using AutoGrad\n",
        "\n",
        "import numpy as np\n",
        "\n",
        "X = np.array([1,2,3,4], dtype=np.float32)\n",
        "Y = np.array([2,4,6,8], dtype=np.float32)\n",
        "W = 0.0\n",
        "\n",
        "# model prediction: f = x * w\n",
        "def forward(x):\n",
        "  return W * x\n",
        "\n",
        "# loss: MSE = 1/N (wx - y)^2\n",
        "def loss(y, y_pred):\n",
        "  return ((y - y_pred)**2).mean()\n",
        "\n",
        "# gradient: grad = 1/N 2x (wx - y)\n",
        "def gradient(x, y, y_pred):\n",
        "  return np.dot(2*x, y_pred-y).mean()\n",
        "\n",
        "print(f'prediction before training: {forward(5)}')\n",
        "\n",
        "# training\n",
        "learning_rate = 0.01\n",
        "n_iters = 20\n",
        "\n",
        "for epoch in range(n_iters):\n",
        "  y_pred = forward(X)\n",
        "  err = loss(Y, y_pred)\n",
        "  dw = gradient(X, Y, y_pred)\n",
        "  W -= learning_rate*dw\n",
        "\n",
        "  if epoch % 2 == 0:\n",
        "    print(f'epoch {epoch+1}: , w = {W}, loss = {err}')"
      ],
      "metadata": {
        "colab": {
          "base_uri": "https://localhost:8080/"
        },
        "id": "AwBEDvX38BfS",
        "outputId": "edadb257-611a-42d1-abe3-1c312ac74628"
      },
      "execution_count": 13,
      "outputs": [
        {
          "output_type": "stream",
          "name": "stdout",
          "text": [
            "prediction before training: 0.0\n",
            "epoch 1: , w = 1.2, loss = 30.0\n",
            "epoch 3: , w = 1.871999988555908, loss = 0.7680001854896545\n",
            "epoch 5: , w = 1.9795200133323667, loss = 0.019660834223031998\n",
            "epoch 7: , w = 1.9967231869697568, loss = 0.0005033080233260989\n",
            "epoch 9: , w = 1.999475698471069, loss = 1.2884394891443662e-05\n",
            "epoch 11: , w = 1.9999160599708554, loss = 3.297340072094812e-07\n",
            "epoch 13: , w = 1.9999865984916685, loss = 8.487816671731707e-09\n",
            "epoch 15: , w = 1.9999978351593015, loss = 2.1679014139408537e-10\n",
            "epoch 17: , w = 1.9999996304512022, loss = 5.076827847005916e-12\n",
            "epoch 19: , w = 1.9999999165534972, loss = 1.3145040611561853e-13\n"
          ]
        }
      ]
    },
    {
      "cell_type": "code",
      "source": [
        "# Using Backward AutoGrad\n",
        "\n",
        "import torch\n",
        "\n",
        "X = torch.tensor([1,2,3,4], dtype=torch.float32)\n",
        "Y = torch.tensor([2,4,6,8], dtype=torch.float32)\n",
        "W = torch.tensor(0.0, dtype=torch.float32, requires_grad=True)\n",
        "\n",
        "# model prediction: f = x * w\n",
        "def forward(x):\n",
        "  return W * x\n",
        "\n",
        "# loss: MSE = 1/N (wx - y)^2\n",
        "def loss(y, y_pred):\n",
        "  return ((y - y_pred)**2).mean()\n",
        "\n",
        "print(f'prediction before training: {forward(5)}')\n",
        "\n",
        "# training\n",
        "learning_rate = 0.01\n",
        "n_iters = 100\n",
        "\n",
        "for epoch in range(n_iters):\n",
        "  y_pred = forward(X)\n",
        "  err = loss(Y, y_pred)\n",
        "  err.backward()\n",
        "  with torch.no_grad():\n",
        "    W -= learning_rate*W.grad\n",
        "\n",
        "  W.grad.zero_()\n",
        "  if epoch % 10 == 0:\n",
        "    print(f'epoch {epoch+1}: , w = {W}, loss = {err}')"
      ],
      "metadata": {
        "colab": {
          "base_uri": "https://localhost:8080/"
        },
        "id": "PCLWwaKHIeuz",
        "outputId": "cab10f17-473a-439e-b704-067aaf0ed520"
      },
      "execution_count": 14,
      "outputs": [
        {
          "output_type": "stream",
          "name": "stdout",
          "text": [
            "prediction before training: 0.0\n",
            "epoch 1: , w = 0.29999998211860657, loss = 30.0\n",
            "epoch 11: , w = 1.6653136014938354, loss = 1.1627856492996216\n",
            "epoch 21: , w = 1.934108853340149, loss = 0.0450688973069191\n",
            "epoch 31: , w = 1.987027645111084, loss = 0.0017468547448515892\n",
            "epoch 41: , w = 1.9974461793899536, loss = 6.770494655938819e-05\n",
            "epoch 51: , w = 1.9994971752166748, loss = 2.6243997126584873e-06\n",
            "epoch 61: , w = 1.9999010562896729, loss = 1.0175587306093803e-07\n",
            "epoch 71: , w = 1.9999804496765137, loss = 3.9741685498029256e-09\n",
            "epoch 81: , w = 1.999996304512024, loss = 1.4670220593870908e-10\n",
            "epoch 91: , w = 1.9999992847442627, loss = 5.076827847005916e-12\n"
          ]
        }
      ]
    },
    {
      "cell_type": "code",
      "source": [
        "# With Predefined Optimizer and Loss Funcionts\n",
        "\n",
        "import torch\n",
        "import torch.nn as nn\n",
        "\n",
        "X = torch.tensor([1,2,3,4], dtype=torch.float32)\n",
        "Y = torch.tensor([2,4,6,8], dtype=torch.float32)\n",
        "W = torch.tensor(0.0, dtype=torch.float32, requires_grad=True)\n",
        "\n",
        "# model prediction: f = x * w\n",
        "def forward(x):\n",
        "  return W * x\n",
        "\n",
        "# loss: MSE = 1/N (wx - y)^2\n",
        "loss = nn.MSELoss()\n",
        "\n",
        "print(f'prediction before training: {forward(5)}')\n",
        "\n",
        "# training\n",
        "learning_rate = 0.01\n",
        "n_iters = 100\n",
        "optimizer = torch.optim.SGD([W], lr=learning_rate)\n",
        "\n",
        "for epoch in range(n_iters):\n",
        "  y_pred = forward(X)\n",
        "  err = loss(Y, y_pred)\n",
        "  err.backward()\n",
        "  optimizer.step()\n",
        "  optimizer.zero_grad()\n",
        "\n",
        "  if epoch % 10 == 0:\n",
        "    print(f'epoch {epoch+1}: , w = {W}, loss = {err}')"
      ],
      "metadata": {
        "colab": {
          "base_uri": "https://localhost:8080/"
        },
        "id": "i-Vz1u-8QDNg",
        "outputId": "eaa19577-c333-4c90-d4be-90064e3cc0a6"
      },
      "execution_count": 35,
      "outputs": [
        {
          "output_type": "stream",
          "name": "stdout",
          "text": [
            "prediction before training: 0.0\n",
            "epoch 1: , w = 0.29999998211860657, loss = 30.0\n",
            "epoch 11: , w = 1.6653136014938354, loss = 1.1627856492996216\n",
            "epoch 21: , w = 1.934108853340149, loss = 0.0450688973069191\n",
            "epoch 31: , w = 1.987027645111084, loss = 0.0017468547448515892\n",
            "epoch 41: , w = 1.9974461793899536, loss = 6.770494655938819e-05\n",
            "epoch 51: , w = 1.9994971752166748, loss = 2.6243997126584873e-06\n",
            "epoch 61: , w = 1.9999010562896729, loss = 1.0175587306093803e-07\n",
            "epoch 71: , w = 1.9999804496765137, loss = 3.9741685498029256e-09\n",
            "epoch 81: , w = 1.999996304512024, loss = 1.4670220593870908e-10\n",
            "epoch 91: , w = 1.9999992847442627, loss = 5.076827847005916e-12\n"
          ]
        }
      ]
    },
    {
      "cell_type": "code",
      "source": [
        "# With Predefined Models, or Class Models\n",
        "\n",
        "import torch\n",
        "import torch.nn as nn\n",
        "\n",
        "X = torch.tensor([[1],[2],[3],[4]], dtype=torch.float32)\n",
        "Y = torch.tensor([[2],[4],[6],[8]], dtype=torch.float32)\n",
        "X_test = torch.tensor([5], dtype=torch.float32)\n",
        "n_samples, n_features = X.shape\n",
        "\n",
        "# # We could use a model class\n",
        "# class LinearRegression(nn.Module):\n",
        "#   def __init__(self, input_dim, output_dim):\n",
        "#     super(LinearRegression, self).__init__()\n",
        "#     # define layers\n",
        "#     self.lin= nn.Linear(input_dim, output_dim)\n",
        "#   def forward(self, x):\n",
        "#     return self.lin(x)\n",
        "# model = LinearRegression(n_features, n_features)\n",
        "\n",
        "# or use defined models\n",
        "model = nn.Linear(in_features=n_features, out_features=n_features)\n",
        "\n",
        "loss = nn.MSELoss()\n",
        "learning_rate = 0.01\n",
        "n_iters = 2800\n",
        "optimizer = torch.optim.SGD(model.parameters(), lr=learning_rate)\n",
        "\n",
        "print(f'prediction before training: {model(X_test).item()}')\n",
        "for epoch in range(n_iters):\n",
        "  y_pred = model(X)\n",
        "  err = loss(Y, y_pred)\n",
        "  err.backward()\n",
        "  optimizer.step()\n",
        "  optimizer.zero_grad()\n",
        "\n",
        "  if epoch % (n_iters/10) == 0:\n",
        "    [w, b] = model.parameters()\n",
        "    print(f'epoch {epoch+1}: w = {w[0,0].item():.3f}, b = {b[0].item():.3f}, loss = {err:.3f}, pred = {model(X_test).item():.3f}')"
      ],
      "metadata": {
        "colab": {
          "base_uri": "https://localhost:8080/"
        },
        "id": "WDztJ7Omj51S",
        "outputId": "1b0a2f0a-c476-42bb-a067-dc91b5f4c5f7"
      },
      "execution_count": 45,
      "outputs": [
        {
          "output_type": "stream",
          "name": "stdout",
          "text": [
            "prediction before training: -2.3496627807617188\n",
            "epoch 1: w = -0.302, b = 1.036, loss = 41.454, pred = -0.475\n",
            "epoch 281: w = 1.760, b = 0.704, loss = 0.083, pred = 9.507\n",
            "epoch 561: w = 1.897, b = 0.304, loss = 0.016, pred = 9.787\n",
            "epoch 841: w = 1.955, b = 0.131, loss = 0.003, pred = 9.908\n",
            "epoch 1121: w = 1.981, b = 0.057, loss = 0.001, pred = 9.960\n",
            "epoch 1401: w = 1.992, b = 0.025, loss = 0.000, pred = 9.983\n",
            "epoch 1681: w = 1.996, b = 0.011, loss = 0.000, pred = 9.993\n",
            "epoch 1961: w = 1.998, b = 0.005, loss = 0.000, pred = 9.997\n",
            "epoch 2241: w = 1.999, b = 0.002, loss = 0.000, pred = 9.999\n",
            "epoch 2521: w = 2.000, b = 0.001, loss = 0.000, pred = 9.999\n"
          ]
        }
      ]
    },
    {
      "cell_type": "code",
      "source": [
        "# All in One\n",
        "\n",
        "import torch\n",
        "import torch.nn as nn\n",
        "import numpy as np\n",
        "from sklearn import datasets\n",
        "import matplotlib.pyplot as plt\n",
        "\n",
        "# Prepare Data\n",
        "X_numpy, y_numpy = datasets.make_regression(n_samples=100, n_features=1, noise=20, random_state=1)\n",
        "X = torch.from_numpy(X_numpy.astype(np.float32))\n",
        "y = torch.from_numpy(y_numpy.astype(np.float32)).view(y_numpy.shape[0], 1)\n",
        "X_test = torch.tensor([5], dtype=torch.float32)\n",
        "n_samples, n_features = X.shape\n",
        "print(f'Features shape: {list(X.shape)}, Classes shape: {list(y.shape)}')\n",
        "\n",
        "# Model and Optimizer Selection\n",
        "model = nn.Linear(in_features=n_features, out_features=n_features)\n",
        "optimizer = torch.optim.SGD(model.parameters(), lr=learning_rate, momentum=0.5)\n",
        "loss = nn.MSELoss()\n",
        "learning_rate = 0.01\n",
        "n_iters = 300\n",
        "\n",
        "# Training Loop\n",
        "for epoch in range(n_iters):\n",
        "  y_pred = model(X)\n",
        "  err = loss(y_pred, y)\n",
        "  err.backward()\n",
        "  optimizer.step()\n",
        "  optimizer.zero_grad()\n",
        "\n",
        "  if epoch % (n_iters/10) == 0:\n",
        "    [w, b] = model.parameters()\n",
        "    print(f'epoch {epoch+1}: w = {w[0,0].item():.3f}, b = {b[0].item():.3f}, loss = {err:.3f}, pred = {model(X_test).item():.3f}')\n",
        "\n",
        "# Plot\n",
        "predicted = model(X).detach().numpy()\n",
        "_ = plt.plot(X_numpy, y_numpy, 'co')\n",
        "_ = plt.plot(X_numpy, predicted, 'k')"
      ],
      "metadata": {
        "colab": {
          "base_uri": "https://localhost:8080/",
          "height": 459
        },
        "id": "JwAvMW21wc-X",
        "outputId": "c402e855-ba43-42aa-8be0-f70646f6f5c3"
      },
      "execution_count": 91,
      "outputs": [
        {
          "output_type": "stream",
          "name": "stdout",
          "text": [
            "Features shape: [100, 1], Classes shape: [100, 1]\n",
            "epoch 1: w = 1.550, b = -0.548, loss = 5726.705, pred = 7.202\n",
            "epoch 31: w = 51.980, b = 4.871, loss = 1112.806, pred = 264.770\n",
            "epoch 61: w = 71.141, b = 5.086, loss = 440.355, pred = 360.791\n",
            "epoch 91: w = 78.247, b = 4.641, loss = 347.702, pred = 395.876\n",
            "epoch 121: w = 80.896, b = 4.329, loss = 334.711, pred = 408.810\n",
            "epoch 151: w = 81.888, b = 4.173, loss = 332.873, pred = 413.611\n",
            "epoch 181: w = 82.260, b = 4.103, loss = 332.611, pred = 415.402\n",
            "epoch 211: w = 82.400, b = 4.074, loss = 332.574, pred = 416.073\n",
            "epoch 241: w = 82.453, b = 4.062, loss = 332.568, pred = 416.325\n",
            "epoch 271: w = 82.472, b = 4.057, loss = 332.568, pred = 416.419\n"
          ]
        },
        {
          "output_type": "display_data",
          "data": {
            "image/png": "[encoded data removed]",
            "text/plain": [
              "<Figure size 432x288 with 1 Axes>"
            ]
          },
          "metadata": {
            "needs_background": "light"
          }
        }
      ]
    },
    {
      "cell_type": "markdown",
      "source": [
        "### Logistic Regression"
      ],
      "metadata": {
        "id": "FOWRFqEL727z"
      }
    },
    {
      "cell_type": "code",
      "source": [
        "import torch\n",
        "import torch.nn as nn\n",
        "import numpy as np\n",
        "from sklearn import datasets\n",
        "from sklearn.preprocessing import StandardScaler\n",
        "from sklearn.model_selection import train_test_split\n",
        "\n",
        "\n",
        "# Load and Split the Data\n",
        "dataset = datasets.load_breast_cancer()\n",
        "X, y = dataset.data, dataset.target\n",
        "X_train, X_test, y_train, y_test = \\\n",
        "  train_test_split(X, y, train_size=0.8, random_state=1)\n",
        "n_features = X.shape[1]\n",
        "\n",
        "# Preprocess the Data\n",
        "scalar = StandardScaler()\n",
        "X_train = scalar.fit_transform(X_train)\n",
        "X_test = scalar.fit_transform(X_test)\n",
        "\n",
        "# Prepare the \n",
        "X_train = torch.from_numpy(X_train.astype(np.float32))\n",
        "X_test = torch.from_numpy(X_test.astype(np.float32))\n",
        "y_train = torch.from_numpy(y_train.astype(np.float32)).view(y_train.shape[0], 1)\n",
        "y_test = torch.from_numpy(y_test.astype(np.float32)).view(y_test.shape[0], 1)\n",
        "\n",
        "# Model Selection\n",
        "\n",
        "# Loss and Optimizer\n",
        "\n",
        "# Training Loop"
      ],
      "metadata": {
        "id": "q7LHtNpm76rc"
      },
      "execution_count": 113,
      "outputs": []
    }
  ]
}