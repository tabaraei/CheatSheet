{
  "nbformat": 4,
  "nbformat_minor": 0,
  "metadata": {
    "colab": {
      "name": "PyTorch.ipynb",
      "provenance": [],
      "collapsed_sections": [
        "yN5JFHgzIR1f",
        "C0mEiY7CDlRN",
        "rBW2rZ-IDptN",
        "ezEdov5UDw4b",
        "FxIXWvCkGKG0",
        "UdWq-qsQYz_i",
        "eAlT9J-Q76HR"
      ],
      "authorship_tag": "ABX9TyPvSCjttxVK3rVdJf+SZgmv",
      "include_colab_link": true
    },
    "kernelspec": {
      "name": "python3",
      "display_name": "Python 3"
    },
    "language_info": {
      "name": "python"
    },
    "accelerator": "GPU"
  },
  "cells": [
    {
      "cell_type": "markdown",
      "metadata": {
        "id": "view-in-github",
        "colab_type": "text"
      },
      "source": [
        "<a href=\"https://colab.research.google.com/github/tabaraei/CheatSheet/blob/master/notebooks/PyTorch.ipynb\" target=\"_parent\"><img src=\"https://colab.research.google.com/assets/colab-badge.svg\" alt=\"Open In Colab\"/></a>"
      ]
    },
    {
      "cell_type": "markdown",
      "source": [
        "### Getting Started"
      ],
      "metadata": {
        "id": "yN5JFHgzIR1f"
      }
    },
    {
      "cell_type": "code",
      "execution_count": 1,
      "metadata": {
        "colab": {
          "base_uri": "https://localhost:8080/"
        },
        "id": "uZNNCi9b-W-w",
        "outputId": "40aa5c35-7f8d-46e4-9fc0-a26cfc8c5cdd"
      },
      "outputs": [
        {
          "output_type": "execute_result",
          "data": {
            "text/plain": [
              "True"
            ]
          },
          "metadata": {},
          "execution_count": 1
        }
      ],
      "source": [
        "import torch\n",
        "import numpy as np\n",
        "\n",
        "# Check if GPU is available\n",
        "torch.cuda.is_available()"
      ]
    },
    {
      "cell_type": "code",
      "source": [
        "x = torch.tensor([1])\n",
        "print(x.device)\n",
        "x = x.to('cuda')\n",
        "print(x.device)\n",
        "y = torch.tensor([1], device='cuda')\n",
        "print(y.device)"
      ],
      "metadata": {
        "colab": {
          "base_uri": "https://localhost:8080/"
        },
        "id": "5UJTqnBJXovY",
        "outputId": "6e70e782-40e3-4768-9120-1f95999644cf"
      },
      "execution_count": 2,
      "outputs": [
        {
          "output_type": "stream",
          "name": "stdout",
          "text": [
            "cpu\n",
            "cuda:0\n",
            "cuda:0\n"
          ]
        }
      ]
    },
    {
      "cell_type": "markdown",
      "source": [
        "### Define Tensors"
      ],
      "metadata": {
        "id": "C0mEiY7CDlRN"
      }
    },
    {
      "cell_type": "code",
      "source": [
        "torch.tensor([1,2,3])"
      ],
      "metadata": {
        "colab": {
          "base_uri": "https://localhost:8080/"
        },
        "id": "GPDAP-jdG3xH",
        "outputId": "3f3d20a0-3073-4d0a-8a28-08536b433740"
      },
      "execution_count": 3,
      "outputs": [
        {
          "output_type": "execute_result",
          "data": {
            "text/plain": [
              "tensor([1, 2, 3])"
            ]
          },
          "metadata": {},
          "execution_count": 3
        }
      ]
    },
    {
      "cell_type": "code",
      "source": [
        "torch.zeros(2,3, dtype=torch.int32), \\\n",
        "torch.ones(2), \\\n",
        "torch.empty(2), \\\n",
        "torch.rand(2)"
      ],
      "metadata": {
        "colab": {
          "base_uri": "https://localhost:8080/"
        },
        "id": "CyZWFB_A-wVk",
        "outputId": "73317063-3e2a-4d83-a01f-878e7e9a090c"
      },
      "execution_count": 4,
      "outputs": [
        {
          "output_type": "execute_result",
          "data": {
            "text/plain": [
              "(tensor([[0, 0, 0],\n",
              "         [0, 0, 0]], dtype=torch.int32),\n",
              " tensor([1., 1.]),\n",
              " tensor([8.2655e-19, 3.0641e-41]),\n",
              " tensor([0.5527, 0.3385]))"
            ]
          },
          "metadata": {},
          "execution_count": 4
        }
      ]
    },
    {
      "cell_type": "code",
      "source": [
        "array = np.array([1,2,3])\n",
        "torch.from_numpy(array), \\\n",
        "torch.tensor(array), \\\n",
        "torch.tensor(array).numpy()\n",
        "# Careful that modifying numpy array will affect tensor and vice versa"
      ],
      "metadata": {
        "colab": {
          "base_uri": "https://localhost:8080/"
        },
        "id": "tR6ryJx9-yNU",
        "outputId": "ef8f707c-c179-4ada-c7af-8d0ea7be63c1"
      },
      "execution_count": 5,
      "outputs": [
        {
          "output_type": "execute_result",
          "data": {
            "text/plain": [
              "(tensor([1, 2, 3]), tensor([1, 2, 3]), array([1, 2, 3]))"
            ]
          },
          "metadata": {},
          "execution_count": 5
        }
      ]
    },
    {
      "cell_type": "markdown",
      "source": [
        "### Mathematical Operations with Tensors"
      ],
      "metadata": {
        "id": "rBW2rZ-IDptN"
      }
    },
    {
      "cell_type": "code",
      "source": [
        "t1 = torch.ones(3)\n",
        "t2 = torch.tensor([1,2.,3]) # dtype of all values will be the same\n",
        "t2, t2.shape, t2.dtype, t2.size()"
      ],
      "metadata": {
        "colab": {
          "base_uri": "https://localhost:8080/"
        },
        "id": "DWoNms4HCel6",
        "outputId": "69f534c4-20a6-4a08-d1c3-446c5f131bb9"
      },
      "execution_count": 6,
      "outputs": [
        {
          "output_type": "execute_result",
          "data": {
            "text/plain": [
              "(tensor([1., 2., 3.]), torch.Size([3]), torch.float32, torch.Size([3]))"
            ]
          },
          "metadata": {},
          "execution_count": 6
        }
      ]
    },
    {
      "cell_type": "code",
      "source": [
        "# Note: every function with underscore inplaces value\n",
        "# main operations are: add, sub, mul, div\n",
        "t1 + t2, torch.add(t1, t2), t2.add_(t1)"
      ],
      "metadata": {
        "colab": {
          "base_uri": "https://localhost:8080/"
        },
        "id": "viESPXrMCw5G",
        "outputId": "fc75a689-145c-42bf-dd4b-4dbbe1766113"
      },
      "execution_count": 7,
      "outputs": [
        {
          "output_type": "execute_result",
          "data": {
            "text/plain": [
              "(tensor([2., 3., 4.]), tensor([2., 3., 4.]), tensor([2., 3., 4.]))"
            ]
          },
          "metadata": {},
          "execution_count": 7
        }
      ]
    },
    {
      "cell_type": "markdown",
      "source": [
        "### Slicing within Tensors"
      ],
      "metadata": {
        "id": "ezEdov5UDw4b"
      }
    },
    {
      "cell_type": "code",
      "source": [
        "t1 = torch.rand(3,4)\n",
        "t1, t1[:,1], t1[1:3, 1:4], t1[0, 0].item()"
      ],
      "metadata": {
        "colab": {
          "base_uri": "https://localhost:8080/"
        },
        "id": "C6Tdx5PBDFOg",
        "outputId": "2cc5cc53-2f7f-46ea-d503-d599279a98eb"
      },
      "execution_count": 8,
      "outputs": [
        {
          "output_type": "execute_result",
          "data": {
            "text/plain": [
              "(tensor([[0.4932, 0.4581, 0.9567, 0.8640],\n",
              "         [0.6600, 0.5191, 0.8477, 0.2849],\n",
              "         [0.8373, 0.8206, 0.9099, 0.4714]]),\n",
              " tensor([0.4581, 0.5191, 0.8206]),\n",
              " tensor([[0.5191, 0.8477, 0.2849],\n",
              "         [0.8206, 0.9099, 0.4714]]),\n",
              " 0.49322807788848877)"
            ]
          },
          "metadata": {},
          "execution_count": 8
        }
      ]
    },
    {
      "cell_type": "markdown",
      "source": [
        "### Reshaping Tensors"
      ],
      "metadata": {
        "id": "FxIXWvCkGKG0"
      }
    },
    {
      "cell_type": "code",
      "source": [
        "t1 = torch.rand(16)\n",
        "t1.view(-1, 8)"
      ],
      "metadata": {
        "colab": {
          "base_uri": "https://localhost:8080/"
        },
        "id": "Lo9_U0lnGNgc",
        "outputId": "c50a62bc-3eb0-4360-94c3-654291c5f2f5"
      },
      "execution_count": 9,
      "outputs": [
        {
          "output_type": "execute_result",
          "data": {
            "text/plain": [
              "tensor([[0.8107, 0.8775, 0.4803, 0.4103, 0.9128, 0.0608, 0.6545, 0.4956],\n",
              "        [0.5178, 0.5254, 0.6252, 0.5532, 0.1432, 0.2488, 0.5121, 0.1358]])"
            ]
          },
          "metadata": {},
          "execution_count": 9
        }
      ]
    },
    {
      "cell_type": "markdown",
      "source": [
        "### Gradients"
      ],
      "metadata": {
        "id": "UdWq-qsQYz_i"
      }
    },
    {
      "cell_type": "code",
      "source": [
        "x = torch.tensor(1.0)\n",
        "y = torch.tensor(2.0)\n",
        "w = torch.tensor(1.0, requires_grad=True)\n",
        "\n",
        "# forward pass\n",
        "y_hat = w*x\n",
        "loss = (y_hat - y)**2\n",
        "print(loss)\n",
        "\n",
        "# backward pass\n",
        "loss.backward()\n",
        "print(w.grad)\n",
        "\n",
        "# x.requires_grad_(False)\n",
        "# use x.grad.zero_() at the end of loops!"
      ],
      "metadata": {
        "colab": {
          "base_uri": "https://localhost:8080/"
        },
        "id": "B3loxuxVY2Wg",
        "outputId": "2d631ccd-4b77-4e18-ca33-18d7fb0b8200"
      },
      "execution_count": 12,
      "outputs": [
        {
          "output_type": "stream",
          "name": "stdout",
          "text": [
            "tensor(1., grad_fn=<PowBackward0>)\n",
            "tensor(-2.)\n"
          ]
        }
      ]
    },
    {
      "cell_type": "markdown",
      "source": [
        "### Linear Regression"
      ],
      "metadata": {
        "id": "eAlT9J-Q76HR"
      }
    },
    {
      "cell_type": "code",
      "source": [
        "# model selection and params\n",
        "# loss function and optimizer\n",
        "# Training loop:\n",
        "# - forward pass\n",
        "# - backward pass\n",
        "# - update weights"
      ],
      "metadata": {
        "id": "wxpI-l6X7cQA"
      },
      "execution_count": 13,
      "outputs": []
    },
    {
      "cell_type": "code",
      "source": [
        "# Simplest Solution Without Using AutoGrad\n",
        "\n",
        "import numpy as np\n",
        "\n",
        "X = np.array([1,2,3,4], dtype=np.float32)\n",
        "Y = np.array([2,4,6,8], dtype=np.float32)\n",
        "W = 0.0\n",
        "\n",
        "# model prediction: f = x * w\n",
        "def forward(x):\n",
        "  return W * x\n",
        "\n",
        "# loss: MSE = 1/N (wx - y)^2\n",
        "def loss(y, y_pred):\n",
        "  return ((y - y_pred)**2).mean()\n",
        "\n",
        "# gradient: grad = 1/N 2x (wx - y)\n",
        "def gradient(x, y, y_pred):\n",
        "  return np.dot(2*x, y_pred-y).mean()\n",
        "\n",
        "print(f'prediction before training: {forward(5)}')\n",
        "\n",
        "# training\n",
        "learning_rate = 0.01\n",
        "n_iters = 20\n",
        "\n",
        "for epoch in range(n_iters):\n",
        "  y_pred = forward(X)\n",
        "  err = loss(Y, y_pred)\n",
        "  dw = gradient(X, Y, y_pred)\n",
        "  W -= learning_rate*dw\n",
        "\n",
        "  if epoch % 2 == 0:\n",
        "    print(f'epoch {epoch+1}: , w = {W}, loss = {err}')"
      ],
      "metadata": {
        "colab": {
          "base_uri": "https://localhost:8080/"
        },
        "id": "AwBEDvX38BfS",
        "outputId": "668ed69e-0465-4b25-b507-c5d78ef7096f"
      },
      "execution_count": 14,
      "outputs": [
        {
          "output_type": "stream",
          "name": "stdout",
          "text": [
            "prediction before training: 0.0\n",
            "epoch 1: , w = 1.2, loss = 30.0\n",
            "epoch 3: , w = 1.871999988555908, loss = 0.7680001854896545\n",
            "epoch 5: , w = 1.9795200133323667, loss = 0.019660834223031998\n",
            "epoch 7: , w = 1.9967231869697568, loss = 0.0005033080233260989\n",
            "epoch 9: , w = 1.999475698471069, loss = 1.2884394891443662e-05\n",
            "epoch 11: , w = 1.9999160599708554, loss = 3.297340072094812e-07\n",
            "epoch 13: , w = 1.9999865984916685, loss = 8.487816671731707e-09\n",
            "epoch 15: , w = 1.9999978351593015, loss = 2.1679014139408537e-10\n",
            "epoch 17: , w = 1.9999996304512022, loss = 5.076827847005916e-12\n",
            "epoch 19: , w = 1.9999999165534972, loss = 1.3145040611561853e-13\n"
          ]
        }
      ]
    },
    {
      "cell_type": "code",
      "source": [
        "# Using Backward AutoGrad\n",
        "\n",
        "import torch\n",
        "\n",
        "X = torch.tensor([1,2,3,4], dtype=torch.float32)\n",
        "Y = torch.tensor([2,4,6,8], dtype=torch.float32)\n",
        "W = torch.tensor(0.0, dtype=torch.float32, requires_grad=True)\n",
        "\n",
        "# model prediction: f = x * w\n",
        "def forward(x):\n",
        "  return W * x\n",
        "\n",
        "# loss: MSE = 1/N (wx - y)^2\n",
        "def loss(y, y_pred):\n",
        "  return ((y - y_pred)**2).mean()\n",
        "\n",
        "print(f'prediction before training: {forward(5)}')\n",
        "\n",
        "# training\n",
        "learning_rate = 0.01\n",
        "n_iters = 100\n",
        "\n",
        "for epoch in range(n_iters):\n",
        "  y_pred = forward(X)\n",
        "  err = loss(Y, y_pred)\n",
        "  err.backward()\n",
        "  with torch.no_grad():\n",
        "    W -= learning_rate*W.grad\n",
        "\n",
        "  W.grad.zero_()\n",
        "  if epoch % 10 == 0:\n",
        "    print(f'epoch {epoch+1}: , w = {W}, loss = {err}')"
      ],
      "metadata": {
        "colab": {
          "base_uri": "https://localhost:8080/"
        },
        "id": "PCLWwaKHIeuz",
        "outputId": "956f9564-dd94-486d-9c3f-bb82a819fdb5"
      },
      "execution_count": 15,
      "outputs": [
        {
          "output_type": "stream",
          "name": "stdout",
          "text": [
            "prediction before training: 0.0\n",
            "epoch 1: , w = 0.29999998211860657, loss = 30.0\n",
            "epoch 11: , w = 1.6653136014938354, loss = 1.1627856492996216\n",
            "epoch 21: , w = 1.934108853340149, loss = 0.0450688973069191\n",
            "epoch 31: , w = 1.987027645111084, loss = 0.0017468547448515892\n",
            "epoch 41: , w = 1.9974461793899536, loss = 6.770494655938819e-05\n",
            "epoch 51: , w = 1.9994971752166748, loss = 2.6243997126584873e-06\n",
            "epoch 61: , w = 1.9999010562896729, loss = 1.0175587306093803e-07\n",
            "epoch 71: , w = 1.9999804496765137, loss = 3.9741685498029256e-09\n",
            "epoch 81: , w = 1.999996304512024, loss = 1.4670220593870908e-10\n",
            "epoch 91: , w = 1.9999992847442627, loss = 5.076827847005916e-12\n"
          ]
        }
      ]
    },
    {
      "cell_type": "code",
      "source": [
        "# With Predefined Optimizer and Loss Funcionts\n",
        "\n",
        "import torch\n",
        "import torch.nn as nn\n",
        "\n",
        "X = torch.tensor([1,2,3,4], dtype=torch.float32)\n",
        "Y = torch.tensor([2,4,6,8], dtype=torch.float32)\n",
        "W = torch.tensor(0.0, dtype=torch.float32, requires_grad=True)\n",
        "\n",
        "# model prediction: f = x * w\n",
        "def forward(x):\n",
        "  return W * x\n",
        "\n",
        "# loss: MSE = 1/N (wx - y)^2\n",
        "loss = nn.MSELoss()\n",
        "\n",
        "print(f'prediction before training: {forward(5)}')\n",
        "\n",
        "# training\n",
        "learning_rate = 0.01\n",
        "n_iters = 100\n",
        "optimizer = torch.optim.SGD([W], lr=learning_rate)\n",
        "\n",
        "for epoch in range(n_iters):\n",
        "  y_pred = forward(X)\n",
        "  err = loss(Y, y_pred)\n",
        "  err.backward()\n",
        "  optimizer.step()\n",
        "  optimizer.zero_grad()\n",
        "\n",
        "  if epoch % 10 == 0:\n",
        "    print(f'epoch {epoch+1}: , w = {W}, loss = {err}')"
      ],
      "metadata": {
        "colab": {
          "base_uri": "https://localhost:8080/"
        },
        "id": "i-Vz1u-8QDNg",
        "outputId": "b273a92c-64ad-4c03-c398-67977d13d38a"
      },
      "execution_count": 16,
      "outputs": [
        {
          "output_type": "stream",
          "name": "stdout",
          "text": [
            "prediction before training: 0.0\n",
            "epoch 1: , w = 0.29999998211860657, loss = 30.0\n",
            "epoch 11: , w = 1.6653136014938354, loss = 1.1627856492996216\n",
            "epoch 21: , w = 1.934108853340149, loss = 0.0450688973069191\n",
            "epoch 31: , w = 1.987027645111084, loss = 0.0017468547448515892\n",
            "epoch 41: , w = 1.9974461793899536, loss = 6.770494655938819e-05\n",
            "epoch 51: , w = 1.9994971752166748, loss = 2.6243997126584873e-06\n",
            "epoch 61: , w = 1.9999010562896729, loss = 1.0175587306093803e-07\n",
            "epoch 71: , w = 1.9999804496765137, loss = 3.9741685498029256e-09\n",
            "epoch 81: , w = 1.999996304512024, loss = 1.4670220593870908e-10\n",
            "epoch 91: , w = 1.9999992847442627, loss = 5.076827847005916e-12\n"
          ]
        }
      ]
    },
    {
      "cell_type": "code",
      "source": [
        "# With Predefined Models, or Class Models\n",
        "\n",
        "import torch\n",
        "import torch.nn as nn\n",
        "\n",
        "X = torch.tensor([[1],[2],[3],[4]], dtype=torch.float32)\n",
        "Y = torch.tensor([[2],[4],[6],[8]], dtype=torch.float32)\n",
        "X_test = torch.tensor([5], dtype=torch.float32)\n",
        "n_samples, n_features = X.shape\n",
        "\n",
        "# # We could use a model class\n",
        "# class LinearRegression(nn.Module):\n",
        "#   def __init__(self, input_dim, output_dim):\n",
        "#     super(LinearRegression, self).__init__()\n",
        "#     # define layers\n",
        "#     self.lin= nn.Linear(input_dim, output_dim)\n",
        "#   def forward(self, x):\n",
        "#     return self.lin(x)\n",
        "# model = LinearRegression(n_features, n_features)\n",
        "\n",
        "# or use defined models\n",
        "model = nn.Linear(in_features=n_features, out_features=n_features)\n",
        "\n",
        "loss = nn.MSELoss()\n",
        "learning_rate = 0.01\n",
        "n_iters = 2800\n",
        "optimizer = torch.optim.SGD(model.parameters(), lr=learning_rate)\n",
        "\n",
        "print(f'prediction before training: {model(X_test).item()}')\n",
        "for epoch in range(n_iters):\n",
        "  y_pred = model(X)\n",
        "  err = loss(Y, y_pred)\n",
        "  err.backward()\n",
        "  optimizer.step()\n",
        "  optimizer.zero_grad()\n",
        "\n",
        "  if epoch % (n_iters/10) == 0:\n",
        "    [w, b] = model.parameters()\n",
        "    print(f'epoch {epoch+1}: w = {w[0,0].item():.3f}, b = {b[0].item():.3f}, loss = {err:.3f}, pred = {model(X_test).item():.3f}')"
      ],
      "metadata": {
        "colab": {
          "base_uri": "https://localhost:8080/"
        },
        "id": "WDztJ7Omj51S",
        "outputId": "d7cb72ad-2e42-4e42-c8ee-15d97b88846f"
      },
      "execution_count": 17,
      "outputs": [
        {
          "output_type": "stream",
          "name": "stdout",
          "text": [
            "prediction before training: 2.850283622741699\n",
            "epoch 1: w = 0.861, b = -0.274, loss = 16.371, pred = 4.033\n",
            "epoch 281: w = 1.985, b = 0.044, loss = 0.000, pred = 9.969\n",
            "epoch 561: w = 1.994, b = 0.019, loss = 0.000, pred = 9.987\n",
            "epoch 841: w = 1.997, b = 0.008, loss = 0.000, pred = 9.994\n",
            "epoch 1121: w = 1.999, b = 0.004, loss = 0.000, pred = 9.998\n",
            "epoch 1401: w = 1.999, b = 0.002, loss = 0.000, pred = 9.999\n",
            "epoch 1681: w = 2.000, b = 0.001, loss = 0.000, pred = 10.000\n",
            "epoch 1961: w = 2.000, b = 0.000, loss = 0.000, pred = 10.000\n",
            "epoch 2241: w = 2.000, b = 0.000, loss = 0.000, pred = 10.000\n",
            "epoch 2521: w = 2.000, b = 0.000, loss = 0.000, pred = 10.000\n"
          ]
        }
      ]
    },
    {
      "cell_type": "code",
      "source": [
        "# All in One\n",
        "\n",
        "import torch\n",
        "import torch.nn as nn\n",
        "import numpy as np\n",
        "from sklearn import datasets\n",
        "import matplotlib.pyplot as plt\n",
        "\n",
        "# Prepare Data\n",
        "X_numpy, y_numpy = datasets.make_regression(n_samples=100, n_features=1, noise=20, random_state=1)\n",
        "X = torch.from_numpy(X_numpy.astype(np.float32))\n",
        "y = torch.from_numpy(y_numpy.astype(np.float32)).view(y_numpy.shape[0], 1)\n",
        "X_test = torch.tensor([5], dtype=torch.float32)\n",
        "n_samples, n_features = X.shape\n",
        "print(f'Features shape: {list(X.shape)}, Classes shape: {list(y.shape)}')\n",
        "\n",
        "# Model and Optimizer Selection\n",
        "model = nn.Linear(in_features=n_features, out_features=n_features)\n",
        "optimizer = torch.optim.SGD(model.parameters(), lr=learning_rate, momentum=0.5)\n",
        "loss = nn.MSELoss()\n",
        "learning_rate = 0.01\n",
        "n_iters = 300\n",
        "\n",
        "# Training Loop\n",
        "for epoch in range(n_iters):\n",
        "  y_pred = model(X)\n",
        "  err = loss(y_pred, y)\n",
        "  err.backward()\n",
        "  optimizer.step()\n",
        "  optimizer.zero_grad()\n",
        "\n",
        "  if epoch % (n_iters/10) == 0:\n",
        "    [w, b] = model.parameters()\n",
        "    print(f'epoch {epoch+1}: w = {w[0,0].item():.3f}, b = {b[0].item():.3f}, loss = {err:.3f}, pred = {model(X_test).item():.3f}')\n",
        "\n",
        "# Plot\n",
        "predicted = model(X).detach().numpy()\n",
        "_ = plt.plot(X_numpy, y_numpy, 'co')\n",
        "_ = plt.plot(X_numpy, predicted, 'k')"
      ],
      "metadata": {
        "colab": {
          "base_uri": "https://localhost:8080/",
          "height": 459
        },
        "id": "JwAvMW21wc-X",
        "outputId": "afb59b09-a03e-47a8-9ce2-7d0276612cdd"
      },
      "execution_count": 18,
      "outputs": [
        {
          "output_type": "stream",
          "name": "stdout",
          "text": [
            "Features shape: [100, 1], Classes shape: [100, 1]\n",
            "epoch 1: w = 0.785, b = -0.164, loss = 5820.710, pred = 3.760\n",
            "epoch 31: w = 51.680, b = 5.001, loss = 1127.918, pred = 263.401\n",
            "epoch 61: w = 71.026, b = 5.131, loss = 442.569, pred = 360.261\n",
            "epoch 91: w = 78.203, b = 4.656, loss = 348.022, pred = 395.672\n",
            "epoch 121: w = 80.880, b = 4.335, loss = 334.757, pred = 408.733\n",
            "epoch 151: w = 81.881, b = 4.175, loss = 332.879, pred = 413.582\n",
            "epoch 181: w = 82.257, b = 4.103, loss = 332.612, pred = 415.391\n",
            "epoch 211: w = 82.399, b = 4.074, loss = 332.574, pred = 416.068\n",
            "epoch 241: w = 82.452, b = 4.062, loss = 332.568, pred = 416.323\n",
            "epoch 271: w = 82.472, b = 4.057, loss = 332.568, pred = 416.419\n"
          ]
        },
        {
          "output_type": "display_data",
          "data": {
            "image/png": "[encoded data removed]",
            "text/plain": [
              "<Figure size 432x288 with 1 Axes>"
            ]
          },
          "metadata": {
            "needs_background": "light"
          }
        }
      ]
    },
    {
      "cell_type": "markdown",
      "source": [
        "### Logistic Regression"
      ],
      "metadata": {
        "id": "FOWRFqEL727z"
      }
    },
    {
      "cell_type": "code",
      "source": [
        "import matplotlib.pyplot as plt\n",
        "import numpy as np\n",
        "\n",
        "y = np.arange(-10,10,0.01)\n",
        "x = torch.tensor(y)\n",
        "z = torch.sigmoid(x)\n",
        "plt.plot(y,z)"
      ],
      "metadata": {
        "colab": {
          "base_uri": "https://localhost:8080/",
          "height": 283
        },
        "id": "S9knvjXUFcUV",
        "outputId": "5473d015-513c-4cf3-c157-73f87ab7917d"
      },
      "execution_count": 21,
      "outputs": [
        {
          "output_type": "execute_result",
          "data": {
            "text/plain": [
              "[<matplotlib.lines.Line2D at 0x7f0b34945a50>]"
            ]
          },
          "metadata": {},
          "execution_count": 21
        },
        {
          "output_type": "display_data",
          "data": {
            "image/png": "[encoded data removed]",
            "text/plain": [
              "<Figure size 432x288 with 1 Axes>"
            ]
          },
          "metadata": {
            "needs_background": "light"
          }
        }
      ]
    },
    {
      "cell_type": "code",
      "source": [
        "import torch\n",
        "import torch.nn as nn\n",
        "import numpy as np\n",
        "import pandas as pd\n",
        "from sklearn import datasets\n",
        "from sklearn.preprocessing import StandardScaler\n",
        "from sklearn.model_selection import train_test_split\n",
        "from sklearn.metrics import accuracy_score\n",
        "\n",
        "\n",
        "# Load and Split the Data\n",
        "dataset = datasets.load_breast_cancer()\n",
        "X, y = dataset.data, dataset.target\n",
        "X_train, X_test, y_train, y_test = \\\n",
        "  train_test_split(X, y, train_size=0.8, random_state=1)\n",
        "n_features = X.shape[1]\n",
        "\n",
        "# Preview the Data\n",
        "df = pd.DataFrame(dataset.data, columns=dataset.feature_names)\n",
        "df\n",
        "\n",
        "# Preprocess the Data\n",
        "scalar = StandardScaler()\n",
        "X_train = scalar.fit_transform(X_train)\n",
        "X_test = scalar.fit_transform(X_test)\n",
        "\n",
        "# Prepare the Data\n",
        "X_train = torch.from_numpy(X_train.astype(np.float32))\n",
        "X_test = torch.from_numpy(X_test.astype(np.float32))\n",
        "y_train = torch.from_numpy(y_train.astype(np.float32)).view(y_train.shape[0], 1)\n",
        "y_test = torch.from_numpy(y_test.astype(np.float32)).view(y_test.shape[0], 1)\n",
        "\n",
        "# Model Selection\n",
        "class LogisticRegression(nn.Module):\n",
        "  def __init__(self, n_input_features):\n",
        "    super(LogisticRegression, self).__init__()\n",
        "    self.linear = nn.Linear(n_input_features, 1)\n",
        "\n",
        "  def forward(self, x):\n",
        "    y_pred = torch.sigmoid(self.linear(x))\n",
        "    return y_pred\n",
        "model = LogisticRegression(n_features)\n",
        "\n",
        "# Loss and Optimizer\n",
        "learning_rate = 0.01\n",
        "n_iters = 1000\n",
        "criterion = nn.BCELoss()\n",
        "optimizer = torch.optim.SGD(model.parameters(), lr=learning_rate)\n",
        "\n",
        "# Training Loop\n",
        "for epoch in range(n_iters):\n",
        "  y_pred = model(X_train)\n",
        "  err = criterion(y_pred, y_train)\n",
        "  err.backward()\n",
        "  optimizer.step()\n",
        "  optimizer.zero_grad()\n",
        "\n",
        "  if epoch % (n_iters/10) == 0:\n",
        "    [w, b] = model.parameters()\n",
        "    print(f'epoch {epoch+1}: loss = {err.item():.3f}')\n",
        "\n",
        "with torch.no_grad():\n",
        "  y_pred_test = model(X_test)\n",
        "  y_pred_test = y_pred_test.round()\n",
        "  accuracy1 = y_pred_test.eq(y_test).sum() / float(y_test.shape[0])\n",
        "  accuracy2 = accuracy_score(y_pred_test, y_test)\n",
        "  print(f'Accuracy = {accuracy1:.4f}, {accuracy2:.4f}')"
      ],
      "metadata": {
        "id": "q7LHtNpm76rc",
        "colab": {
          "base_uri": "https://localhost:8080/"
        },
        "outputId": "2c88f967-8bcd-45ab-9fe5-52863a8ad7d8"
      },
      "execution_count": 42,
      "outputs": [
        {
          "output_type": "stream",
          "name": "stdout",
          "text": [
            "epoch 1: loss = 0.780\n",
            "epoch 101: loss = 0.250\n",
            "epoch 201: loss = 0.187\n",
            "epoch 301: loss = 0.158\n",
            "epoch 401: loss = 0.141\n",
            "epoch 501: loss = 0.130\n",
            "epoch 601: loss = 0.122\n",
            "epoch 701: loss = 0.115\n",
            "epoch 801: loss = 0.110\n",
            "epoch 901: loss = 0.106\n",
            "Accuracy = 0.9649, 0.9649\n"
          ]
        }
      ]
    },
    {
      "cell_type": "markdown",
      "source": [
        "### Dataset, DataLoader, and Batches"
      ],
      "metadata": {
        "id": "irjdLs7wOq65"
      }
    },
    {
      "cell_type": "code",
      "source": [
        "import torch\n",
        "import torchvision\n",
        "from torch.utils.data import Dataset, DataLoader\n",
        "import numpy as np\n",
        "import math\n",
        "\n",
        "\n",
        "\n",
        "class WineDataset(Dataset):\n",
        "  def __init__(self):\n",
        "    self.url = 'https://raw.githubusercontent.com/python-engineer/pytorchTutorial/master/data/wine/wine.csv'\n",
        "    self.data = np.loadtxt(self.url, delimiter=',', dtype=np.float32, skiprows=1)\n",
        "    self.X = torch.from_numpy(data[:, 1:])\n",
        "    self.y = torch.from_numpy(data[:, [0]])\n",
        "    self.n_samples = data.shape[0]\n",
        "\n",
        "  def __getitem__(self, index):\n",
        "    return self.X[index], self.y[index]\n",
        "\n",
        "  def __len__(self):\n",
        "    return self.n_samples\n",
        "\n",
        "batch_size = 4\n",
        "n_epochs = 2\n",
        "total_samples = len(dataset)\n",
        "n_iterations = math.ceil(total_samples/batch_size)\n",
        "dataset = WineDataset()\n",
        "dataloader = DataLoader(dataset=dataset, batch_size=batch_size, shuffle=True, num_workers=2)\n",
        "\n",
        "# training loop\n",
        "for epoch in range(n_epochs):\n",
        "  for i, (inputs, labels) in enumerate(dataloader):\n",
        "    # forward backward update\n",
        "    if (i+1) % 5 == 0:\n",
        "      print(f'epoch {epoch+1}/{n_epochs}, step {i+1}/{n_iterations}, inputs {inputs.shape}')\n"
      ],
      "metadata": {
        "colab": {
          "base_uri": "https://localhost:8080/"
        },
        "id": "R9ptsuNfSZ4I",
        "outputId": "51e65b65-2257-49f8-eb52-a1eb624aa7f5"
      },
      "execution_count": 73,
      "outputs": [
        {
          "output_type": "stream",
          "name": "stdout",
          "text": [
            "epoch 1/2, step 5/45, inputs torch.Size([4, 13])\n",
            "epoch 1/2, step 10/45, inputs torch.Size([4, 13])\n",
            "epoch 1/2, step 15/45, inputs torch.Size([4, 13])\n",
            "epoch 1/2, step 20/45, inputs torch.Size([4, 13])\n",
            "epoch 1/2, step 25/45, inputs torch.Size([4, 13])\n",
            "epoch 1/2, step 30/45, inputs torch.Size([4, 13])\n",
            "epoch 1/2, step 35/45, inputs torch.Size([4, 13])\n",
            "epoch 1/2, step 40/45, inputs torch.Size([4, 13])\n",
            "epoch 1/2, step 45/45, inputs torch.Size([2, 13])\n",
            "epoch 2/2, step 5/45, inputs torch.Size([4, 13])\n",
            "epoch 2/2, step 10/45, inputs torch.Size([4, 13])\n",
            "epoch 2/2, step 15/45, inputs torch.Size([4, 13])\n",
            "epoch 2/2, step 20/45, inputs torch.Size([4, 13])\n",
            "epoch 2/2, step 25/45, inputs torch.Size([4, 13])\n",
            "epoch 2/2, step 30/45, inputs torch.Size([4, 13])\n",
            "epoch 2/2, step 35/45, inputs torch.Size([4, 13])\n",
            "epoch 2/2, step 40/45, inputs torch.Size([4, 13])\n",
            "epoch 2/2, step 45/45, inputs torch.Size([2, 13])\n"
          ]
        }
      ]
    },
    {
      "cell_type": "markdown",
      "source": [
        "### Dataset Transformations (Skipped)\n",
        "[Follow Here](https://www.youtube.com/watch?v=c36lUUr864M&t=8008s)"
      ],
      "metadata": {
        "id": "EntO91nnhkum"
      }
    }
  ]
}