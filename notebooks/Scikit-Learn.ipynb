{
  "nbformat": 4,
  "nbformat_minor": 0,
  "metadata": {
    "colab": {
      "name": "Scikit-Learn.ipynb",
      "provenance": [],
      "collapsed_sections": [],
      "authorship_tag": "ABX9TyOkhTidBtWbXE7W0UboQ2Hu",
      "include_colab_link": true
    },
    "kernelspec": {
      "name": "python3",
      "display_name": "Python 3"
    },
    "language_info": {
      "name": "python"
    }
  },
  "cells": [
    {
      "cell_type": "markdown",
      "metadata": {
        "id": "view-in-github",
        "colab_type": "text"
      },
      "source": [
        "<a href=\"https://colab.research.google.com/github/tabaraei/CheatSheet/blob/master/notebooks/Scikit-Learn.ipynb\" target=\"_parent\"><img src=\"https://colab.research.google.com/assets/colab-badge.svg\" alt=\"Open In Colab\"/></a>"
      ]
    },
    {
      "cell_type": "markdown",
      "metadata": {
        "id": "hyCpDXUw3POZ"
      },
      "source": [
        "## Setup the enivironment"
      ]
    },
    {
      "cell_type": "markdown",
      "metadata": {
        "id": "2aC6IwKz4Gt8"
      },
      "source": [
        "Please ensure that you have the latest scikit-learn version.\n",
        "Run `!pip install --upgrade scikit-learn` if necessary."
      ]
    },
    {
      "cell_type": "code",
      "metadata": {
        "id": "RV7TGbPL3T2K",
        "outputId": "7bf74bba-083f-4761-b1a0-cb1e6c691915",
        "colab": {
          "base_uri": "https://localhost:8080/"
        }
      },
      "source": [
        "# restart runtime after running the following command\n",
        "!pip install --upgrade scikit-learn"
      ],
      "execution_count": 1,
      "outputs": [
        {
          "output_type": "stream",
          "name": "stdout",
          "text": [
            "Requirement already satisfied: scikit-learn in /usr/local/lib/python3.7/dist-packages (0.24.2)\n",
            "Requirement already satisfied: threadpoolctl>=2.0.0 in /usr/local/lib/python3.7/dist-packages (from scikit-learn) (2.2.0)\n",
            "Requirement already satisfied: joblib>=0.11 in /usr/local/lib/python3.7/dist-packages (from scikit-learn) (1.0.1)\n",
            "Requirement already satisfied: numpy>=1.13.3 in /usr/local/lib/python3.7/dist-packages (from scikit-learn) (1.19.5)\n",
            "Requirement already satisfied: scipy>=0.19.1 in /usr/local/lib/python3.7/dist-packages (from scikit-learn) (1.4.1)\n"
          ]
        }
      ]
    },
    {
      "cell_type": "code",
      "metadata": {
        "id": "bFS5hPszFXFH"
      },
      "source": [
        "import pandas as pd\n",
        "import numpy as np"
      ],
      "execution_count": 2,
      "outputs": []
    },
    {
      "cell_type": "markdown",
      "metadata": {
        "id": "wQXkS0eTnF2D"
      },
      "source": [
        "## Data configuration"
      ]
    },
    {
      "cell_type": "markdown",
      "metadata": {
        "id": "uFphJUCwXdn_"
      },
      "source": [
        "### 1- Load the dataset"
      ]
    },
    {
      "cell_type": "markdown",
      "metadata": {
        "id": "k9s4aPrdPfm7"
      },
      "source": [
        "#### 1-1- Regression data:"
      ]
    },
    {
      "cell_type": "code",
      "metadata": {
        "id": "_NZBnEl7GrfA",
        "colab": {
          "base_uri": "https://localhost:8080/",
          "height": 0
        },
        "outputId": "c45825d8-542b-43b6-9b32-01b29e5116bb"
      },
      "source": [
        "from sklearn.datasets import load_diabetes\n",
        "\n",
        "reg_dataframe = load_diabetes(as_frame=True).frame\n",
        "reg_dataframe.head()"
      ],
      "execution_count": 3,
      "outputs": [
        {
          "output_type": "execute_result",
          "data": {
            "text/html": [
              "<div>\n",
              "<style scoped>\n",
              "    .dataframe tbody tr th:only-of-type {\n",
              "        vertical-align: middle;\n",
              "    }\n",
              "\n",
              "    .dataframe tbody tr th {\n",
              "        vertical-align: top;\n",
              "    }\n",
              "\n",
              "    .dataframe thead th {\n",
              "        text-align: right;\n",
              "    }\n",
              "</style>\n",
              "<table border=\"1\" class=\"dataframe\">\n",
              "  <thead>\n",
              "    <tr style=\"text-align: right;\">\n",
              "      <th></th>\n",
              "      <th>age</th>\n",
              "      <th>sex</th>\n",
              "      <th>bmi</th>\n",
              "      <th>bp</th>\n",
              "      <th>s1</th>\n",
              "      <th>s2</th>\n",
              "      <th>s3</th>\n",
              "      <th>s4</th>\n",
              "      <th>s5</th>\n",
              "      <th>s6</th>\n",
              "      <th>target</th>\n",
              "    </tr>\n",
              "  </thead>\n",
              "  <tbody>\n",
              "    <tr>\n",
              "      <th>0</th>\n",
              "      <td>0.038076</td>\n",
              "      <td>0.050680</td>\n",
              "      <td>0.061696</td>\n",
              "      <td>0.021872</td>\n",
              "      <td>-0.044223</td>\n",
              "      <td>-0.034821</td>\n",
              "      <td>-0.043401</td>\n",
              "      <td>-0.002592</td>\n",
              "      <td>0.019908</td>\n",
              "      <td>-0.017646</td>\n",
              "      <td>151.0</td>\n",
              "    </tr>\n",
              "    <tr>\n",
              "      <th>1</th>\n",
              "      <td>-0.001882</td>\n",
              "      <td>-0.044642</td>\n",
              "      <td>-0.051474</td>\n",
              "      <td>-0.026328</td>\n",
              "      <td>-0.008449</td>\n",
              "      <td>-0.019163</td>\n",
              "      <td>0.074412</td>\n",
              "      <td>-0.039493</td>\n",
              "      <td>-0.068330</td>\n",
              "      <td>-0.092204</td>\n",
              "      <td>75.0</td>\n",
              "    </tr>\n",
              "    <tr>\n",
              "      <th>2</th>\n",
              "      <td>0.085299</td>\n",
              "      <td>0.050680</td>\n",
              "      <td>0.044451</td>\n",
              "      <td>-0.005671</td>\n",
              "      <td>-0.045599</td>\n",
              "      <td>-0.034194</td>\n",
              "      <td>-0.032356</td>\n",
              "      <td>-0.002592</td>\n",
              "      <td>0.002864</td>\n",
              "      <td>-0.025930</td>\n",
              "      <td>141.0</td>\n",
              "    </tr>\n",
              "    <tr>\n",
              "      <th>3</th>\n",
              "      <td>-0.089063</td>\n",
              "      <td>-0.044642</td>\n",
              "      <td>-0.011595</td>\n",
              "      <td>-0.036656</td>\n",
              "      <td>0.012191</td>\n",
              "      <td>0.024991</td>\n",
              "      <td>-0.036038</td>\n",
              "      <td>0.034309</td>\n",
              "      <td>0.022692</td>\n",
              "      <td>-0.009362</td>\n",
              "      <td>206.0</td>\n",
              "    </tr>\n",
              "    <tr>\n",
              "      <th>4</th>\n",
              "      <td>0.005383</td>\n",
              "      <td>-0.044642</td>\n",
              "      <td>-0.036385</td>\n",
              "      <td>0.021872</td>\n",
              "      <td>0.003935</td>\n",
              "      <td>0.015596</td>\n",
              "      <td>0.008142</td>\n",
              "      <td>-0.002592</td>\n",
              "      <td>-0.031991</td>\n",
              "      <td>-0.046641</td>\n",
              "      <td>135.0</td>\n",
              "    </tr>\n",
              "  </tbody>\n",
              "</table>\n",
              "</div>"
            ],
            "text/plain": [
              "        age       sex       bmi        bp  ...        s4        s5        s6  target\n",
              "0  0.038076  0.050680  0.061696  0.021872  ... -0.002592  0.019908 -0.017646   151.0\n",
              "1 -0.001882 -0.044642 -0.051474 -0.026328  ... -0.039493 -0.068330 -0.092204    75.0\n",
              "2  0.085299  0.050680  0.044451 -0.005671  ... -0.002592  0.002864 -0.025930   141.0\n",
              "3 -0.089063 -0.044642 -0.011595 -0.036656  ...  0.034309  0.022692 -0.009362   206.0\n",
              "4  0.005383 -0.044642 -0.036385  0.021872  ... -0.002592 -0.031991 -0.046641   135.0\n",
              "\n",
              "[5 rows x 11 columns]"
            ]
          },
          "metadata": {},
          "execution_count": 3
        }
      ]
    },
    {
      "cell_type": "markdown",
      "metadata": {
        "id": "TZwic34NPRel"
      },
      "source": [
        "#### 1-2- Classification data"
      ]
    },
    {
      "cell_type": "code",
      "metadata": {
        "id": "ZM9xRrLVPEVp",
        "colab": {
          "base_uri": "https://localhost:8080/",
          "height": 0
        },
        "outputId": "ae51f4a1-4a74-4ae5-9973-0bdf2be31dbd"
      },
      "source": [
        "from sklearn.datasets import fetch_openml\n",
        "\n",
        "cls_dataframe = fetch_openml(name='adult', version=2, as_frame=True).frame\n",
        "cls_dataframe.head()"
      ],
      "execution_count": 4,
      "outputs": [
        {
          "output_type": "execute_result",
          "data": {
            "text/html": [
              "<div>\n",
              "<style scoped>\n",
              "    .dataframe tbody tr th:only-of-type {\n",
              "        vertical-align: middle;\n",
              "    }\n",
              "\n",
              "    .dataframe tbody tr th {\n",
              "        vertical-align: top;\n",
              "    }\n",
              "\n",
              "    .dataframe thead th {\n",
              "        text-align: right;\n",
              "    }\n",
              "</style>\n",
              "<table border=\"1\" class=\"dataframe\">\n",
              "  <thead>\n",
              "    <tr style=\"text-align: right;\">\n",
              "      <th></th>\n",
              "      <th>age</th>\n",
              "      <th>workclass</th>\n",
              "      <th>fnlwgt</th>\n",
              "      <th>education</th>\n",
              "      <th>education-num</th>\n",
              "      <th>marital-status</th>\n",
              "      <th>occupation</th>\n",
              "      <th>relationship</th>\n",
              "      <th>race</th>\n",
              "      <th>sex</th>\n",
              "      <th>capital-gain</th>\n",
              "      <th>capital-loss</th>\n",
              "      <th>hours-per-week</th>\n",
              "      <th>native-country</th>\n",
              "      <th>class</th>\n",
              "    </tr>\n",
              "  </thead>\n",
              "  <tbody>\n",
              "    <tr>\n",
              "      <th>0</th>\n",
              "      <td>25.0</td>\n",
              "      <td>Private</td>\n",
              "      <td>226802.0</td>\n",
              "      <td>11th</td>\n",
              "      <td>7.0</td>\n",
              "      <td>Never-married</td>\n",
              "      <td>Machine-op-inspct</td>\n",
              "      <td>Own-child</td>\n",
              "      <td>Black</td>\n",
              "      <td>Male</td>\n",
              "      <td>0.0</td>\n",
              "      <td>0.0</td>\n",
              "      <td>40.0</td>\n",
              "      <td>United-States</td>\n",
              "      <td>&lt;=50K</td>\n",
              "    </tr>\n",
              "    <tr>\n",
              "      <th>1</th>\n",
              "      <td>38.0</td>\n",
              "      <td>Private</td>\n",
              "      <td>89814.0</td>\n",
              "      <td>HS-grad</td>\n",
              "      <td>9.0</td>\n",
              "      <td>Married-civ-spouse</td>\n",
              "      <td>Farming-fishing</td>\n",
              "      <td>Husband</td>\n",
              "      <td>White</td>\n",
              "      <td>Male</td>\n",
              "      <td>0.0</td>\n",
              "      <td>0.0</td>\n",
              "      <td>50.0</td>\n",
              "      <td>United-States</td>\n",
              "      <td>&lt;=50K</td>\n",
              "    </tr>\n",
              "    <tr>\n",
              "      <th>2</th>\n",
              "      <td>28.0</td>\n",
              "      <td>Local-gov</td>\n",
              "      <td>336951.0</td>\n",
              "      <td>Assoc-acdm</td>\n",
              "      <td>12.0</td>\n",
              "      <td>Married-civ-spouse</td>\n",
              "      <td>Protective-serv</td>\n",
              "      <td>Husband</td>\n",
              "      <td>White</td>\n",
              "      <td>Male</td>\n",
              "      <td>0.0</td>\n",
              "      <td>0.0</td>\n",
              "      <td>40.0</td>\n",
              "      <td>United-States</td>\n",
              "      <td>&gt;50K</td>\n",
              "    </tr>\n",
              "    <tr>\n",
              "      <th>3</th>\n",
              "      <td>44.0</td>\n",
              "      <td>Private</td>\n",
              "      <td>160323.0</td>\n",
              "      <td>Some-college</td>\n",
              "      <td>10.0</td>\n",
              "      <td>Married-civ-spouse</td>\n",
              "      <td>Machine-op-inspct</td>\n",
              "      <td>Husband</td>\n",
              "      <td>Black</td>\n",
              "      <td>Male</td>\n",
              "      <td>7688.0</td>\n",
              "      <td>0.0</td>\n",
              "      <td>40.0</td>\n",
              "      <td>United-States</td>\n",
              "      <td>&gt;50K</td>\n",
              "    </tr>\n",
              "    <tr>\n",
              "      <th>4</th>\n",
              "      <td>18.0</td>\n",
              "      <td>NaN</td>\n",
              "      <td>103497.0</td>\n",
              "      <td>Some-college</td>\n",
              "      <td>10.0</td>\n",
              "      <td>Never-married</td>\n",
              "      <td>NaN</td>\n",
              "      <td>Own-child</td>\n",
              "      <td>White</td>\n",
              "      <td>Female</td>\n",
              "      <td>0.0</td>\n",
              "      <td>0.0</td>\n",
              "      <td>30.0</td>\n",
              "      <td>United-States</td>\n",
              "      <td>&lt;=50K</td>\n",
              "    </tr>\n",
              "  </tbody>\n",
              "</table>\n",
              "</div>"
            ],
            "text/plain": [
              "    age  workclass    fnlwgt  ... hours-per-week  native-country  class\n",
              "0  25.0    Private  226802.0  ...           40.0   United-States  <=50K\n",
              "1  38.0    Private   89814.0  ...           50.0   United-States  <=50K\n",
              "2  28.0  Local-gov  336951.0  ...           40.0   United-States   >50K\n",
              "3  44.0    Private  160323.0  ...           40.0   United-States   >50K\n",
              "4  18.0        NaN  103497.0  ...           30.0   United-States  <=50K\n",
              "\n",
              "[5 rows x 15 columns]"
            ]
          },
          "metadata": {},
          "execution_count": 4
        }
      ]
    },
    {
      "cell_type": "markdown",
      "metadata": {
        "id": "sGuB50-63j5S"
      },
      "source": [
        "### 2- Handling missing values"
      ]
    },
    {
      "cell_type": "markdown",
      "metadata": {
        "id": "nKfBzD8bMaKD"
      },
      "source": [
        "#### 2-1- Remove rows with missing value"
      ]
    },
    {
      "cell_type": "code",
      "metadata": {
        "id": "77ZmolPuIwO3",
        "outputId": "039002e0-8f9b-4c83-be88-56dcba3afe37",
        "colab": {
          "base_uri": "https://localhost:8080/"
        }
      },
      "source": [
        "print(reg_dataframe.shape, cls_dataframe.shape)\n",
        "reg_dataframe.dropna(axis=0, inplace=True)\n",
        "cls_dataframe.dropna(axis=0, inplace=True)\n",
        "print(reg_dataframe.shape, cls_dataframe.shape)"
      ],
      "execution_count": 5,
      "outputs": [
        {
          "output_type": "stream",
          "name": "stdout",
          "text": [
            "(442, 11) (48842, 15)\n",
            "(442, 11) (45222, 15)\n"
          ]
        }
      ]
    },
    {
      "cell_type": "markdown",
      "metadata": {
        "id": "SE7ufmOvMlKL"
      },
      "source": [
        "#### 2-2- Remove cols with missing value"
      ]
    },
    {
      "cell_type": "code",
      "metadata": {
        "id": "cpHW96wu3tbP",
        "outputId": "ab3649d7-2b4b-4873-f560-cde855b0b034",
        "colab": {
          "base_uri": "https://localhost:8080/"
        }
      },
      "source": [
        "reg_cols_with_missing = [col for col in reg_dataframe.columns if reg_dataframe[col].isnull().any()]\n",
        "reg_dataframe.drop(reg_cols_with_missing, axis=1, inplace=True)\n",
        "\n",
        "cls_cols_with_missing = [col for col in cls_dataframe.columns if cls_dataframe[col].isnull().any()]\n",
        "cls_dataframe.drop(cls_cols_with_missing, axis=1, inplace=True)\n",
        "\n",
        "reg_cols_with_missing, cls_cols_with_missing"
      ],
      "execution_count": 6,
      "outputs": [
        {
          "output_type": "execute_result",
          "data": {
            "text/plain": [
              "([], [])"
            ]
          },
          "metadata": {},
          "execution_count": 6
        }
      ]
    },
    {
      "cell_type": "markdown",
      "metadata": {
        "id": "mbB9Oxu9ZrlW"
      },
      "source": [
        "### 3- Train Test Split"
      ]
    },
    {
      "cell_type": "markdown",
      "metadata": {
        "id": "BkeZeSbgTd2v"
      },
      "source": [
        "#### 3-1- Split target class from features"
      ]
    },
    {
      "cell_type": "code",
      "metadata": {
        "id": "iTuDvqvMJfqk"
      },
      "source": [
        "y_reg = reg_dataframe['target']\n",
        "X_reg = reg_dataframe.drop(['target'], axis='columns')\n",
        "\n",
        "y_cls = cls_dataframe['class']\n",
        "X_cls = cls_dataframe.drop(['class'], axis='columns')"
      ],
      "execution_count": 7,
      "outputs": []
    },
    {
      "cell_type": "markdown",
      "metadata": {
        "id": "uUe6nopoTpmi"
      },
      "source": [
        "#### 3-2- Split training data from test data"
      ]
    },
    {
      "cell_type": "code",
      "metadata": {
        "id": "-lO7XaTb3CuQ"
      },
      "source": [
        "from sklearn.model_selection import train_test_split\n",
        "\n",
        "X_train_reg, X_test_reg, y_train_reg, y_test_reg = \\\n",
        "    train_test_split(X_reg, y_reg, random_state=1, test_size=0.1)\n",
        "    \n",
        "X_train_cls, X_test_cls, y_train_cls, y_test_cls = \\\n",
        "    train_test_split(X_cls, y_cls, random_state=1, test_size=0.1)"
      ],
      "execution_count": 8,
      "outputs": []
    },
    {
      "cell_type": "markdown",
      "metadata": {
        "id": "MoYcXXAETzYB"
      },
      "source": [
        "#### 3-3- Prevent from SettingWithCopyWarning"
      ]
    },
    {
      "cell_type": "code",
      "metadata": {
        "id": "Cdsls0ooSvm5"
      },
      "source": [
        "\n",
        "X_train_reg, X_test_reg, y_train_reg, y_test_reg = \\\n",
        "    X_train_reg.copy(), X_test_reg.copy(), y_train_reg.copy(), y_test_reg.copy()\n",
        "\n",
        "X_train_cls, X_test_cls, y_train_cls, y_test_cls = \\\n",
        "    X_train_cls.copy(), X_test_cls.copy(), y_train_cls.copy(), y_test_cls.copy()"
      ],
      "execution_count": 9,
      "outputs": []
    },
    {
      "cell_type": "markdown",
      "metadata": {
        "id": "2vb6Y63cosYk"
      },
      "source": [
        "## Preprocessing"
      ]
    },
    {
      "cell_type": "markdown",
      "metadata": {
        "id": "w6o9Ai91SMOX"
      },
      "source": [
        "### 1- Handling categorical features"
      ]
    },
    {
      "cell_type": "code",
      "metadata": {
        "id": "dAVuLjKkS0Q7",
        "outputId": "6293b584-324c-426b-dec1-6472a3aadf96",
        "colab": {
          "base_uri": "https://localhost:8080/"
        }
      },
      "source": [
        "categories = X_train_cls.select_dtypes(include='category')\n",
        "low_cardinality_cols = [col for col in X_train_cls.columns if X_train_cls[col].nunique() < 7]\n",
        "high_cardinality_cols = list(set(categories) - set(low_cardinality_cols))\n",
        "\n",
        "low_cardinality_cols, high_cardinality_cols"
      ],
      "execution_count": 10,
      "outputs": [
        {
          "output_type": "execute_result",
          "data": {
            "text/plain": [
              "(['relationship', 'race', 'sex'],\n",
              " ['occupation', 'marital-status', 'workclass', 'education', 'native-country'])"
            ]
          },
          "metadata": {},
          "execution_count": 10
        }
      ]
    },
    {
      "cell_type": "markdown",
      "metadata": {
        "id": "Fzt04xH4SVA2"
      },
      "source": [
        "#### 1-1- Ordinal Encoder"
      ]
    },
    {
      "cell_type": "code",
      "metadata": {
        "id": "jTHo9Wb6Qfsj",
        "outputId": "12cdc100-f0d8-437c-f69d-93357146c341",
        "colab": {
          "base_uri": "https://localhost:8080/",
          "height": 0
        }
      },
      "source": [
        "X_train_cls[high_cardinality_cols].head(3)"
      ],
      "execution_count": 11,
      "outputs": [
        {
          "output_type": "execute_result",
          "data": {
            "text/html": [
              "<div>\n",
              "<style scoped>\n",
              "    .dataframe tbody tr th:only-of-type {\n",
              "        vertical-align: middle;\n",
              "    }\n",
              "\n",
              "    .dataframe tbody tr th {\n",
              "        vertical-align: top;\n",
              "    }\n",
              "\n",
              "    .dataframe thead th {\n",
              "        text-align: right;\n",
              "    }\n",
              "</style>\n",
              "<table border=\"1\" class=\"dataframe\">\n",
              "  <thead>\n",
              "    <tr style=\"text-align: right;\">\n",
              "      <th></th>\n",
              "      <th>occupation</th>\n",
              "      <th>marital-status</th>\n",
              "      <th>workclass</th>\n",
              "      <th>education</th>\n",
              "      <th>native-country</th>\n",
              "    </tr>\n",
              "  </thead>\n",
              "  <tbody>\n",
              "    <tr>\n",
              "      <th>917</th>\n",
              "      <td>Machine-op-inspct</td>\n",
              "      <td>Married-civ-spouse</td>\n",
              "      <td>Private</td>\n",
              "      <td>Some-college</td>\n",
              "      <td>United-States</td>\n",
              "    </tr>\n",
              "    <tr>\n",
              "      <th>28178</th>\n",
              "      <td>Sales</td>\n",
              "      <td>Married-civ-spouse</td>\n",
              "      <td>Private</td>\n",
              "      <td>Some-college</td>\n",
              "      <td>United-States</td>\n",
              "    </tr>\n",
              "    <tr>\n",
              "      <th>46975</th>\n",
              "      <td>Handlers-cleaners</td>\n",
              "      <td>Married-civ-spouse</td>\n",
              "      <td>Private</td>\n",
              "      <td>HS-grad</td>\n",
              "      <td>United-States</td>\n",
              "    </tr>\n",
              "  </tbody>\n",
              "</table>\n",
              "</div>"
            ],
            "text/plain": [
              "              occupation      marital-status  ...     education native-country\n",
              "917    Machine-op-inspct  Married-civ-spouse  ...  Some-college  United-States\n",
              "28178              Sales  Married-civ-spouse  ...  Some-college  United-States\n",
              "46975  Handlers-cleaners  Married-civ-spouse  ...       HS-grad  United-States\n",
              "\n",
              "[3 rows x 5 columns]"
            ]
          },
          "metadata": {},
          "execution_count": 11
        }
      ]
    },
    {
      "cell_type": "code",
      "metadata": {
        "id": "ReV0bpQCoxaw"
      },
      "source": [
        "from sklearn.preprocessing import OrdinalEncoder\n",
        "\n",
        "encoder = OrdinalEncoder()\n",
        "X_train_cls[high_cardinality_cols] = encoder.fit_transform(X_train_cls[high_cardinality_cols].copy())\n",
        "X_test_cls[high_cardinality_cols] = encoder.transform(X_test_cls[high_cardinality_cols].copy())"
      ],
      "execution_count": 12,
      "outputs": []
    },
    {
      "cell_type": "code",
      "metadata": {
        "id": "mO2URDIFUfrN",
        "outputId": "5b463a96-4469-4c84-da9f-bd26466a95db",
        "colab": {
          "base_uri": "https://localhost:8080/",
          "height": 0
        }
      },
      "source": [
        "X_train_cls[high_cardinality_cols].head(3)"
      ],
      "execution_count": 13,
      "outputs": [
        {
          "output_type": "execute_result",
          "data": {
            "text/html": [
              "<div>\n",
              "<style scoped>\n",
              "    .dataframe tbody tr th:only-of-type {\n",
              "        vertical-align: middle;\n",
              "    }\n",
              "\n",
              "    .dataframe tbody tr th {\n",
              "        vertical-align: top;\n",
              "    }\n",
              "\n",
              "    .dataframe thead th {\n",
              "        text-align: right;\n",
              "    }\n",
              "</style>\n",
              "<table border=\"1\" class=\"dataframe\">\n",
              "  <thead>\n",
              "    <tr style=\"text-align: right;\">\n",
              "      <th></th>\n",
              "      <th>occupation</th>\n",
              "      <th>marital-status</th>\n",
              "      <th>workclass</th>\n",
              "      <th>education</th>\n",
              "      <th>native-country</th>\n",
              "    </tr>\n",
              "  </thead>\n",
              "  <tbody>\n",
              "    <tr>\n",
              "      <th>917</th>\n",
              "      <td>6.0</td>\n",
              "      <td>2.0</td>\n",
              "      <td>2.0</td>\n",
              "      <td>15.0</td>\n",
              "      <td>38.0</td>\n",
              "    </tr>\n",
              "    <tr>\n",
              "      <th>28178</th>\n",
              "      <td>11.0</td>\n",
              "      <td>2.0</td>\n",
              "      <td>2.0</td>\n",
              "      <td>15.0</td>\n",
              "      <td>38.0</td>\n",
              "    </tr>\n",
              "    <tr>\n",
              "      <th>46975</th>\n",
              "      <td>5.0</td>\n",
              "      <td>2.0</td>\n",
              "      <td>2.0</td>\n",
              "      <td>11.0</td>\n",
              "      <td>38.0</td>\n",
              "    </tr>\n",
              "  </tbody>\n",
              "</table>\n",
              "</div>"
            ],
            "text/plain": [
              "       occupation  marital-status  workclass  education  native-country\n",
              "917           6.0             2.0        2.0       15.0            38.0\n",
              "28178        11.0             2.0        2.0       15.0            38.0\n",
              "46975         5.0             2.0        2.0       11.0            38.0"
            ]
          },
          "metadata": {},
          "execution_count": 13
        }
      ]
    },
    {
      "cell_type": "markdown",
      "metadata": {
        "id": "2gGAHJUUSdJI"
      },
      "source": [
        "#### 1-2- One Hot Encoder"
      ]
    },
    {
      "cell_type": "code",
      "metadata": {
        "id": "bBb0it0LUijU",
        "outputId": "33651533-4d63-4a95-b9d5-a7be6e5e9de1",
        "colab": {
          "base_uri": "https://localhost:8080/",
          "height": 0
        }
      },
      "source": [
        "X_train_cls[low_cardinality_cols].head(3)"
      ],
      "execution_count": 14,
      "outputs": [
        {
          "output_type": "execute_result",
          "data": {
            "text/html": [
              "<div>\n",
              "<style scoped>\n",
              "    .dataframe tbody tr th:only-of-type {\n",
              "        vertical-align: middle;\n",
              "    }\n",
              "\n",
              "    .dataframe tbody tr th {\n",
              "        vertical-align: top;\n",
              "    }\n",
              "\n",
              "    .dataframe thead th {\n",
              "        text-align: right;\n",
              "    }\n",
              "</style>\n",
              "<table border=\"1\" class=\"dataframe\">\n",
              "  <thead>\n",
              "    <tr style=\"text-align: right;\">\n",
              "      <th></th>\n",
              "      <th>relationship</th>\n",
              "      <th>race</th>\n",
              "      <th>sex</th>\n",
              "    </tr>\n",
              "  </thead>\n",
              "  <tbody>\n",
              "    <tr>\n",
              "      <th>917</th>\n",
              "      <td>Husband</td>\n",
              "      <td>White</td>\n",
              "      <td>Male</td>\n",
              "    </tr>\n",
              "    <tr>\n",
              "      <th>28178</th>\n",
              "      <td>Husband</td>\n",
              "      <td>White</td>\n",
              "      <td>Male</td>\n",
              "    </tr>\n",
              "    <tr>\n",
              "      <th>46975</th>\n",
              "      <td>Husband</td>\n",
              "      <td>White</td>\n",
              "      <td>Male</td>\n",
              "    </tr>\n",
              "  </tbody>\n",
              "</table>\n",
              "</div>"
            ],
            "text/plain": [
              "      relationship   race   sex\n",
              "917        Husband  White  Male\n",
              "28178      Husband  White  Male\n",
              "46975      Husband  White  Male"
            ]
          },
          "metadata": {},
          "execution_count": 14
        }
      ]
    },
    {
      "cell_type": "code",
      "metadata": {
        "id": "USHcJvv1RbG7"
      },
      "source": [
        "from sklearn.preprocessing import OneHotEncoder\n",
        "\n",
        "# get dataframe of one-hot encoding on low cardinality columns\n",
        "encoder = OneHotEncoder(handle_unknown='ignore', sparse=False)\n",
        "one_hot_train = pd.DataFrame(encoder.fit_transform(X_train_cls[low_cardinality_cols]))\n",
        "one_hot_test = pd.DataFrame(encoder.transform(X_test_cls[low_cardinality_cols]))\n",
        "\n",
        "# fix indices of one-hot encoder before merging\n",
        "one_hot_train.index = X_train_cls.index\n",
        "one_hot_test.index = X_test_cls.index\n",
        "\n",
        "# assign column names\n",
        "one_hot_train.columns = encoder.get_feature_names()\n",
        "one_hot_test.columns = encoder.get_feature_names()\n",
        "\n",
        "# Remove categorical columns\n",
        "X_train_cls = X_train_cls.drop(low_cardinality_cols, axis=1)\n",
        "X_test_cls = X_test_cls.drop(low_cardinality_cols, axis=1)\n",
        "\n",
        "# Add one-hot encoded columns to numerical features\n",
        "X_train_cls = pd.concat([X_train_cls, one_hot_train], axis=1)\n",
        "X_test_cls = pd.concat([X_test_cls, one_hot_test], axis=1)"
      ],
      "execution_count": 15,
      "outputs": []
    },
    {
      "cell_type": "code",
      "metadata": {
        "id": "U6Ohxc8EUqlA",
        "outputId": "bd33ccf3-a884-43cd-f717-747b17e5348e",
        "colab": {
          "base_uri": "https://localhost:8080/",
          "height": 0
        }
      },
      "source": [
        "one_hot_train.head(3)"
      ],
      "execution_count": 16,
      "outputs": [
        {
          "output_type": "execute_result",
          "data": {
            "text/html": [
              "<div>\n",
              "<style scoped>\n",
              "    .dataframe tbody tr th:only-of-type {\n",
              "        vertical-align: middle;\n",
              "    }\n",
              "\n",
              "    .dataframe tbody tr th {\n",
              "        vertical-align: top;\n",
              "    }\n",
              "\n",
              "    .dataframe thead th {\n",
              "        text-align: right;\n",
              "    }\n",
              "</style>\n",
              "<table border=\"1\" class=\"dataframe\">\n",
              "  <thead>\n",
              "    <tr style=\"text-align: right;\">\n",
              "      <th></th>\n",
              "      <th>x0_Husband</th>\n",
              "      <th>x0_Not-in-family</th>\n",
              "      <th>x0_Other-relative</th>\n",
              "      <th>x0_Own-child</th>\n",
              "      <th>x0_Unmarried</th>\n",
              "      <th>x0_Wife</th>\n",
              "      <th>x1_Amer-Indian-Eskimo</th>\n",
              "      <th>x1_Asian-Pac-Islander</th>\n",
              "      <th>x1_Black</th>\n",
              "      <th>x1_Other</th>\n",
              "      <th>x1_White</th>\n",
              "      <th>x2_Female</th>\n",
              "      <th>x2_Male</th>\n",
              "    </tr>\n",
              "  </thead>\n",
              "  <tbody>\n",
              "    <tr>\n",
              "      <th>917</th>\n",
              "      <td>1.0</td>\n",
              "      <td>0.0</td>\n",
              "      <td>0.0</td>\n",
              "      <td>0.0</td>\n",
              "      <td>0.0</td>\n",
              "      <td>0.0</td>\n",
              "      <td>0.0</td>\n",
              "      <td>0.0</td>\n",
              "      <td>0.0</td>\n",
              "      <td>0.0</td>\n",
              "      <td>1.0</td>\n",
              "      <td>0.0</td>\n",
              "      <td>1.0</td>\n",
              "    </tr>\n",
              "    <tr>\n",
              "      <th>28178</th>\n",
              "      <td>1.0</td>\n",
              "      <td>0.0</td>\n",
              "      <td>0.0</td>\n",
              "      <td>0.0</td>\n",
              "      <td>0.0</td>\n",
              "      <td>0.0</td>\n",
              "      <td>0.0</td>\n",
              "      <td>0.0</td>\n",
              "      <td>0.0</td>\n",
              "      <td>0.0</td>\n",
              "      <td>1.0</td>\n",
              "      <td>0.0</td>\n",
              "      <td>1.0</td>\n",
              "    </tr>\n",
              "    <tr>\n",
              "      <th>46975</th>\n",
              "      <td>1.0</td>\n",
              "      <td>0.0</td>\n",
              "      <td>0.0</td>\n",
              "      <td>0.0</td>\n",
              "      <td>0.0</td>\n",
              "      <td>0.0</td>\n",
              "      <td>0.0</td>\n",
              "      <td>0.0</td>\n",
              "      <td>0.0</td>\n",
              "      <td>0.0</td>\n",
              "      <td>1.0</td>\n",
              "      <td>0.0</td>\n",
              "      <td>1.0</td>\n",
              "    </tr>\n",
              "  </tbody>\n",
              "</table>\n",
              "</div>"
            ],
            "text/plain": [
              "       x0_Husband  x0_Not-in-family  ...  x2_Female  x2_Male\n",
              "917           1.0               0.0  ...        0.0      1.0\n",
              "28178         1.0               0.0  ...        0.0      1.0\n",
              "46975         1.0               0.0  ...        0.0      1.0\n",
              "\n",
              "[3 rows x 13 columns]"
            ]
          },
          "metadata": {},
          "execution_count": 16
        }
      ]
    },
    {
      "cell_type": "markdown",
      "metadata": {
        "id": "aQsaD2EjYugM"
      },
      "source": [
        "#### 1-3- Remove Categorical features and replace with preprocessed ones"
      ]
    },
    {
      "cell_type": "markdown",
      "metadata": {
        "id": "TYlkN_8DZBRB"
      },
      "source": [
        "### 2- Numeric features"
      ]
    },
    {
      "cell_type": "code",
      "metadata": {
        "id": "t71WZIfFozsh"
      },
      "source": [
        "# from sklearn.preprocessing import StandardScaler\n",
        "\n",
        "# scaler = StandardScaler()\n",
        "# scaler.fit(data_train)"
      ],
      "execution_count": 17,
      "outputs": []
    },
    {
      "cell_type": "markdown",
      "metadata": {
        "id": "oHiNU2vELxcs"
      },
      "source": [
        "## Model"
      ]
    },
    {
      "cell_type": "markdown",
      "metadata": {
        "id": "p3pLi1hhWvck"
      },
      "source": [
        "Activate the diagram display to see the visualized model."
      ]
    },
    {
      "cell_type": "code",
      "metadata": {
        "id": "DxFVQKvzWuNe"
      },
      "source": [
        "from sklearn import set_config\n",
        "set_config(display='diagram')"
      ],
      "execution_count": 18,
      "outputs": []
    },
    {
      "cell_type": "markdown",
      "metadata": {
        "id": "oyL0f83nbjvN"
      },
      "source": [
        "### 1- Regression"
      ]
    },
    {
      "cell_type": "markdown",
      "metadata": {
        "id": "zq5n1z4wgLnG"
      },
      "source": [
        "#### 1-1- Linear Regression"
      ]
    },
    {
      "cell_type": "code",
      "metadata": {
        "id": "nDd-xkOrlYLj",
        "colab": {
          "base_uri": "https://localhost:8080/",
          "height": 0
        },
        "outputId": "f3be3a1f-f82a-46be-ee7a-34f4c7712d5f"
      },
      "source": [
        "from sklearn.linear_model import LinearRegression\n",
        "\n",
        "X, y = X_train_reg, y_train_reg\n",
        "clf = LinearRegression()\n",
        "clf.fit(X, y)"
      ],
      "execution_count": 19,
      "outputs": [
        {
          "output_type": "execute_result",
          "data": {
            "text/html": [
              "<style>#sk-cd6efc05-6a8f-4179-a0a2-594d693b12cf {color: black;background-color: white;}#sk-cd6efc05-6a8f-4179-a0a2-594d693b12cf pre{padding: 0;}#sk-cd6efc05-6a8f-4179-a0a2-594d693b12cf div.sk-toggleable {background-color: white;}#sk-cd6efc05-6a8f-4179-a0a2-594d693b12cf label.sk-toggleable__label {cursor: pointer;display: block;width: 100%;margin-bottom: 0;padding: 0.2em 0.3em;box-sizing: border-box;text-align: center;}#sk-cd6efc05-6a8f-4179-a0a2-594d693b12cf div.sk-toggleable__content {max-height: 0;max-width: 0;overflow: hidden;text-align: left;background-color: #f0f8ff;}#sk-cd6efc05-6a8f-4179-a0a2-594d693b12cf div.sk-toggleable__content pre {margin: 0.2em;color: black;border-radius: 0.25em;background-color: #f0f8ff;}#sk-cd6efc05-6a8f-4179-a0a2-594d693b12cf input.sk-toggleable__control:checked~div.sk-toggleable__content {max-height: 200px;max-width: 100%;overflow: auto;}#sk-cd6efc05-6a8f-4179-a0a2-594d693b12cf div.sk-estimator input.sk-toggleable__control:checked~label.sk-toggleable__label {background-color: #d4ebff;}#sk-cd6efc05-6a8f-4179-a0a2-594d693b12cf div.sk-label input.sk-toggleable__control:checked~label.sk-toggleable__label {background-color: #d4ebff;}#sk-cd6efc05-6a8f-4179-a0a2-594d693b12cf input.sk-hidden--visually {border: 0;clip: rect(1px 1px 1px 1px);clip: rect(1px, 1px, 1px, 1px);height: 1px;margin: -1px;overflow: hidden;padding: 0;position: absolute;width: 1px;}#sk-cd6efc05-6a8f-4179-a0a2-594d693b12cf div.sk-estimator {font-family: monospace;background-color: #f0f8ff;margin: 0.25em 0.25em;border: 1px dotted black;border-radius: 0.25em;box-sizing: border-box;}#sk-cd6efc05-6a8f-4179-a0a2-594d693b12cf div.sk-estimator:hover {background-color: #d4ebff;}#sk-cd6efc05-6a8f-4179-a0a2-594d693b12cf div.sk-parallel-item::after {content: \"\";width: 100%;border-bottom: 1px solid gray;flex-grow: 1;}#sk-cd6efc05-6a8f-4179-a0a2-594d693b12cf div.sk-label:hover label.sk-toggleable__label {background-color: #d4ebff;}#sk-cd6efc05-6a8f-4179-a0a2-594d693b12cf div.sk-serial::before {content: \"\";position: absolute;border-left: 1px solid gray;box-sizing: border-box;top: 2em;bottom: 0;left: 50%;}#sk-cd6efc05-6a8f-4179-a0a2-594d693b12cf div.sk-serial {display: flex;flex-direction: column;align-items: center;background-color: white;}#sk-cd6efc05-6a8f-4179-a0a2-594d693b12cf div.sk-item {z-index: 1;}#sk-cd6efc05-6a8f-4179-a0a2-594d693b12cf div.sk-parallel {display: flex;align-items: stretch;justify-content: center;background-color: white;}#sk-cd6efc05-6a8f-4179-a0a2-594d693b12cf div.sk-parallel-item {display: flex;flex-direction: column;position: relative;background-color: white;}#sk-cd6efc05-6a8f-4179-a0a2-594d693b12cf div.sk-parallel-item:first-child::after {align-self: flex-end;width: 50%;}#sk-cd6efc05-6a8f-4179-a0a2-594d693b12cf div.sk-parallel-item:last-child::after {align-self: flex-start;width: 50%;}#sk-cd6efc05-6a8f-4179-a0a2-594d693b12cf div.sk-parallel-item:only-child::after {width: 0;}#sk-cd6efc05-6a8f-4179-a0a2-594d693b12cf div.sk-dashed-wrapped {border: 1px dashed gray;margin: 0.2em;box-sizing: border-box;padding-bottom: 0.1em;background-color: white;position: relative;}#sk-cd6efc05-6a8f-4179-a0a2-594d693b12cf div.sk-label label {font-family: monospace;font-weight: bold;background-color: white;display: inline-block;line-height: 1.2em;}#sk-cd6efc05-6a8f-4179-a0a2-594d693b12cf div.sk-label-container {position: relative;z-index: 2;text-align: center;}#sk-cd6efc05-6a8f-4179-a0a2-594d693b12cf div.sk-container {display: inline-block;position: relative;}</style><div id=\"sk-cd6efc05-6a8f-4179-a0a2-594d693b12cf\" class\"sk-top-container\"><div class=\"sk-container\"><div class=\"sk-item\"><div class=\"sk-estimator sk-toggleable\"><input class=\"sk-toggleable__control sk-hidden--visually\" id=\"bea9fed1-0bf7-4868-a258-6eba93d9d4df\" type=\"checkbox\" checked><label class=\"sk-toggleable__label\" for=\"bea9fed1-0bf7-4868-a258-6eba93d9d4df\">LinearRegression</label><div class=\"sk-toggleable__content\"><pre>LinearRegression()</pre></div></div></div></div></div>"
            ],
            "text/plain": [
              "LinearRegression()"
            ]
          },
          "metadata": {},
          "execution_count": 19
        }
      ]
    },
    {
      "cell_type": "markdown",
      "metadata": {
        "id": "lx60ZF_pdSNf"
      },
      "source": [
        "#### 1-2- Logistic Regression"
      ]
    },
    {
      "cell_type": "code",
      "metadata": {
        "id": "R2hfkpwndVab",
        "colab": {
          "base_uri": "https://localhost:8080/",
          "height": 0
        },
        "outputId": "3975eef6-edb8-43f8-c63c-91cb1638c7c2"
      },
      "source": [
        "from sklearn.linear_model import LogisticRegression\n",
        "\n",
        "X, y = X_train_reg, y_train_reg\n",
        "clf = LogisticRegression(random_state=0, max_iter=1000)\n",
        "clf.fit(X, y)"
      ],
      "execution_count": 20,
      "outputs": [
        {
          "output_type": "execute_result",
          "data": {
            "text/html": [
              "<style>#sk-463ef285-ff9f-474f-b8d1-d857c31df9d1 {color: black;background-color: white;}#sk-463ef285-ff9f-474f-b8d1-d857c31df9d1 pre{padding: 0;}#sk-463ef285-ff9f-474f-b8d1-d857c31df9d1 div.sk-toggleable {background-color: white;}#sk-463ef285-ff9f-474f-b8d1-d857c31df9d1 label.sk-toggleable__label {cursor: pointer;display: block;width: 100%;margin-bottom: 0;padding: 0.2em 0.3em;box-sizing: border-box;text-align: center;}#sk-463ef285-ff9f-474f-b8d1-d857c31df9d1 div.sk-toggleable__content {max-height: 0;max-width: 0;overflow: hidden;text-align: left;background-color: #f0f8ff;}#sk-463ef285-ff9f-474f-b8d1-d857c31df9d1 div.sk-toggleable__content pre {margin: 0.2em;color: black;border-radius: 0.25em;background-color: #f0f8ff;}#sk-463ef285-ff9f-474f-b8d1-d857c31df9d1 input.sk-toggleable__control:checked~div.sk-toggleable__content {max-height: 200px;max-width: 100%;overflow: auto;}#sk-463ef285-ff9f-474f-b8d1-d857c31df9d1 div.sk-estimator input.sk-toggleable__control:checked~label.sk-toggleable__label {background-color: #d4ebff;}#sk-463ef285-ff9f-474f-b8d1-d857c31df9d1 div.sk-label input.sk-toggleable__control:checked~label.sk-toggleable__label {background-color: #d4ebff;}#sk-463ef285-ff9f-474f-b8d1-d857c31df9d1 input.sk-hidden--visually {border: 0;clip: rect(1px 1px 1px 1px);clip: rect(1px, 1px, 1px, 1px);height: 1px;margin: -1px;overflow: hidden;padding: 0;position: absolute;width: 1px;}#sk-463ef285-ff9f-474f-b8d1-d857c31df9d1 div.sk-estimator {font-family: monospace;background-color: #f0f8ff;margin: 0.25em 0.25em;border: 1px dotted black;border-radius: 0.25em;box-sizing: border-box;}#sk-463ef285-ff9f-474f-b8d1-d857c31df9d1 div.sk-estimator:hover {background-color: #d4ebff;}#sk-463ef285-ff9f-474f-b8d1-d857c31df9d1 div.sk-parallel-item::after {content: \"\";width: 100%;border-bottom: 1px solid gray;flex-grow: 1;}#sk-463ef285-ff9f-474f-b8d1-d857c31df9d1 div.sk-label:hover label.sk-toggleable__label {background-color: #d4ebff;}#sk-463ef285-ff9f-474f-b8d1-d857c31df9d1 div.sk-serial::before {content: \"\";position: absolute;border-left: 1px solid gray;box-sizing: border-box;top: 2em;bottom: 0;left: 50%;}#sk-463ef285-ff9f-474f-b8d1-d857c31df9d1 div.sk-serial {display: flex;flex-direction: column;align-items: center;background-color: white;}#sk-463ef285-ff9f-474f-b8d1-d857c31df9d1 div.sk-item {z-index: 1;}#sk-463ef285-ff9f-474f-b8d1-d857c31df9d1 div.sk-parallel {display: flex;align-items: stretch;justify-content: center;background-color: white;}#sk-463ef285-ff9f-474f-b8d1-d857c31df9d1 div.sk-parallel-item {display: flex;flex-direction: column;position: relative;background-color: white;}#sk-463ef285-ff9f-474f-b8d1-d857c31df9d1 div.sk-parallel-item:first-child::after {align-self: flex-end;width: 50%;}#sk-463ef285-ff9f-474f-b8d1-d857c31df9d1 div.sk-parallel-item:last-child::after {align-self: flex-start;width: 50%;}#sk-463ef285-ff9f-474f-b8d1-d857c31df9d1 div.sk-parallel-item:only-child::after {width: 0;}#sk-463ef285-ff9f-474f-b8d1-d857c31df9d1 div.sk-dashed-wrapped {border: 1px dashed gray;margin: 0.2em;box-sizing: border-box;padding-bottom: 0.1em;background-color: white;position: relative;}#sk-463ef285-ff9f-474f-b8d1-d857c31df9d1 div.sk-label label {font-family: monospace;font-weight: bold;background-color: white;display: inline-block;line-height: 1.2em;}#sk-463ef285-ff9f-474f-b8d1-d857c31df9d1 div.sk-label-container {position: relative;z-index: 2;text-align: center;}#sk-463ef285-ff9f-474f-b8d1-d857c31df9d1 div.sk-container {display: inline-block;position: relative;}</style><div id=\"sk-463ef285-ff9f-474f-b8d1-d857c31df9d1\" class\"sk-top-container\"><div class=\"sk-container\"><div class=\"sk-item\"><div class=\"sk-estimator sk-toggleable\"><input class=\"sk-toggleable__control sk-hidden--visually\" id=\"95eb6a01-2dd7-47fd-bd88-dab864aac80c\" type=\"checkbox\" checked><label class=\"sk-toggleable__label\" for=\"95eb6a01-2dd7-47fd-bd88-dab864aac80c\">LogisticRegression</label><div class=\"sk-toggleable__content\"><pre>LogisticRegression(max_iter=1000, random_state=0)</pre></div></div></div></div></div>"
            ],
            "text/plain": [
              "LogisticRegression(max_iter=1000, random_state=0)"
            ]
          },
          "metadata": {},
          "execution_count": 20
        }
      ]
    },
    {
      "cell_type": "markdown",
      "metadata": {
        "id": "M1KSr8EwcVHP"
      },
      "source": [
        "### 2- Classification"
      ]
    },
    {
      "cell_type": "markdown",
      "metadata": {
        "id": "TR5csTrXW6N9"
      },
      "source": [
        "#### 2-1- Desicion Tree"
      ]
    },
    {
      "cell_type": "code",
      "metadata": {
        "colab": {
          "base_uri": "https://localhost:8080/",
          "height": 0
        },
        "id": "a8nKNW-hWLSJ",
        "outputId": "63c0dd6c-e905-4930-86db-7b36a2af06f2"
      },
      "source": [
        "from sklearn.tree import DecisionTreeClassifier\n",
        "\n",
        "X, y = X_train_cls.select_dtypes(exclude='category'), y_train_cls\n",
        "clf = DecisionTreeClassifier()\n",
        "clf.fit(X, y)"
      ],
      "execution_count": 21,
      "outputs": [
        {
          "output_type": "execute_result",
          "data": {
            "text/html": [
              "<style>#sk-4f38147e-21fa-48e5-8be6-f850d6dcd676 {color: black;background-color: white;}#sk-4f38147e-21fa-48e5-8be6-f850d6dcd676 pre{padding: 0;}#sk-4f38147e-21fa-48e5-8be6-f850d6dcd676 div.sk-toggleable {background-color: white;}#sk-4f38147e-21fa-48e5-8be6-f850d6dcd676 label.sk-toggleable__label {cursor: pointer;display: block;width: 100%;margin-bottom: 0;padding: 0.2em 0.3em;box-sizing: border-box;text-align: center;}#sk-4f38147e-21fa-48e5-8be6-f850d6dcd676 div.sk-toggleable__content {max-height: 0;max-width: 0;overflow: hidden;text-align: left;background-color: #f0f8ff;}#sk-4f38147e-21fa-48e5-8be6-f850d6dcd676 div.sk-toggleable__content pre {margin: 0.2em;color: black;border-radius: 0.25em;background-color: #f0f8ff;}#sk-4f38147e-21fa-48e5-8be6-f850d6dcd676 input.sk-toggleable__control:checked~div.sk-toggleable__content {max-height: 200px;max-width: 100%;overflow: auto;}#sk-4f38147e-21fa-48e5-8be6-f850d6dcd676 div.sk-estimator input.sk-toggleable__control:checked~label.sk-toggleable__label {background-color: #d4ebff;}#sk-4f38147e-21fa-48e5-8be6-f850d6dcd676 div.sk-label input.sk-toggleable__control:checked~label.sk-toggleable__label {background-color: #d4ebff;}#sk-4f38147e-21fa-48e5-8be6-f850d6dcd676 input.sk-hidden--visually {border: 0;clip: rect(1px 1px 1px 1px);clip: rect(1px, 1px, 1px, 1px);height: 1px;margin: -1px;overflow: hidden;padding: 0;position: absolute;width: 1px;}#sk-4f38147e-21fa-48e5-8be6-f850d6dcd676 div.sk-estimator {font-family: monospace;background-color: #f0f8ff;margin: 0.25em 0.25em;border: 1px dotted black;border-radius: 0.25em;box-sizing: border-box;}#sk-4f38147e-21fa-48e5-8be6-f850d6dcd676 div.sk-estimator:hover {background-color: #d4ebff;}#sk-4f38147e-21fa-48e5-8be6-f850d6dcd676 div.sk-parallel-item::after {content: \"\";width: 100%;border-bottom: 1px solid gray;flex-grow: 1;}#sk-4f38147e-21fa-48e5-8be6-f850d6dcd676 div.sk-label:hover label.sk-toggleable__label {background-color: #d4ebff;}#sk-4f38147e-21fa-48e5-8be6-f850d6dcd676 div.sk-serial::before {content: \"\";position: absolute;border-left: 1px solid gray;box-sizing: border-box;top: 2em;bottom: 0;left: 50%;}#sk-4f38147e-21fa-48e5-8be6-f850d6dcd676 div.sk-serial {display: flex;flex-direction: column;align-items: center;background-color: white;}#sk-4f38147e-21fa-48e5-8be6-f850d6dcd676 div.sk-item {z-index: 1;}#sk-4f38147e-21fa-48e5-8be6-f850d6dcd676 div.sk-parallel {display: flex;align-items: stretch;justify-content: center;background-color: white;}#sk-4f38147e-21fa-48e5-8be6-f850d6dcd676 div.sk-parallel-item {display: flex;flex-direction: column;position: relative;background-color: white;}#sk-4f38147e-21fa-48e5-8be6-f850d6dcd676 div.sk-parallel-item:first-child::after {align-self: flex-end;width: 50%;}#sk-4f38147e-21fa-48e5-8be6-f850d6dcd676 div.sk-parallel-item:last-child::after {align-self: flex-start;width: 50%;}#sk-4f38147e-21fa-48e5-8be6-f850d6dcd676 div.sk-parallel-item:only-child::after {width: 0;}#sk-4f38147e-21fa-48e5-8be6-f850d6dcd676 div.sk-dashed-wrapped {border: 1px dashed gray;margin: 0.2em;box-sizing: border-box;padding-bottom: 0.1em;background-color: white;position: relative;}#sk-4f38147e-21fa-48e5-8be6-f850d6dcd676 div.sk-label label {font-family: monospace;font-weight: bold;background-color: white;display: inline-block;line-height: 1.2em;}#sk-4f38147e-21fa-48e5-8be6-f850d6dcd676 div.sk-label-container {position: relative;z-index: 2;text-align: center;}#sk-4f38147e-21fa-48e5-8be6-f850d6dcd676 div.sk-container {display: inline-block;position: relative;}</style><div id=\"sk-4f38147e-21fa-48e5-8be6-f850d6dcd676\" class\"sk-top-container\"><div class=\"sk-container\"><div class=\"sk-item\"><div class=\"sk-estimator sk-toggleable\"><input class=\"sk-toggleable__control sk-hidden--visually\" id=\"79a4f9e2-9b53-4b15-b87b-fb9bd3090671\" type=\"checkbox\" checked><label class=\"sk-toggleable__label\" for=\"79a4f9e2-9b53-4b15-b87b-fb9bd3090671\">DecisionTreeClassifier</label><div class=\"sk-toggleable__content\"><pre>DecisionTreeClassifier()</pre></div></div></div></div></div>"
            ],
            "text/plain": [
              "DecisionTreeClassifier()"
            ]
          },
          "metadata": {},
          "execution_count": 21
        }
      ]
    },
    {
      "cell_type": "markdown",
      "metadata": {
        "id": "E50eqPZ7YdcH"
      },
      "source": [
        "## Evaluation"
      ]
    },
    {
      "cell_type": "markdown",
      "metadata": {
        "id": "VvFJ53IFnoOj"
      },
      "source": [
        "Predict and evaluate model performance on a model. First let's create a model:"
      ]
    },
    {
      "cell_type": "code",
      "metadata": {
        "id": "Aows5z6vncTE",
        "colab": {
          "base_uri": "https://localhost:8080/",
          "height": 72
        },
        "outputId": "78af8e17-309b-40ae-ae98-03aac3845de3"
      },
      "source": [
        "X, y, X_test, y_test = X_train_reg, y_train_reg, X_test_reg, y_test_reg\n",
        "clf = LinearRegression()\n",
        "clf.fit(X, y)"
      ],
      "execution_count": 22,
      "outputs": [
        {
          "output_type": "execute_result",
          "data": {
            "text/html": [
              "<style>#sk-f9ef55fe-8e9b-49ff-bf04-3c354297e93f {color: black;background-color: white;}#sk-f9ef55fe-8e9b-49ff-bf04-3c354297e93f pre{padding: 0;}#sk-f9ef55fe-8e9b-49ff-bf04-3c354297e93f div.sk-toggleable {background-color: white;}#sk-f9ef55fe-8e9b-49ff-bf04-3c354297e93f label.sk-toggleable__label {cursor: pointer;display: block;width: 100%;margin-bottom: 0;padding: 0.2em 0.3em;box-sizing: border-box;text-align: center;}#sk-f9ef55fe-8e9b-49ff-bf04-3c354297e93f div.sk-toggleable__content {max-height: 0;max-width: 0;overflow: hidden;text-align: left;background-color: #f0f8ff;}#sk-f9ef55fe-8e9b-49ff-bf04-3c354297e93f div.sk-toggleable__content pre {margin: 0.2em;color: black;border-radius: 0.25em;background-color: #f0f8ff;}#sk-f9ef55fe-8e9b-49ff-bf04-3c354297e93f input.sk-toggleable__control:checked~div.sk-toggleable__content {max-height: 200px;max-width: 100%;overflow: auto;}#sk-f9ef55fe-8e9b-49ff-bf04-3c354297e93f div.sk-estimator input.sk-toggleable__control:checked~label.sk-toggleable__label {background-color: #d4ebff;}#sk-f9ef55fe-8e9b-49ff-bf04-3c354297e93f div.sk-label input.sk-toggleable__control:checked~label.sk-toggleable__label {background-color: #d4ebff;}#sk-f9ef55fe-8e9b-49ff-bf04-3c354297e93f input.sk-hidden--visually {border: 0;clip: rect(1px 1px 1px 1px);clip: rect(1px, 1px, 1px, 1px);height: 1px;margin: -1px;overflow: hidden;padding: 0;position: absolute;width: 1px;}#sk-f9ef55fe-8e9b-49ff-bf04-3c354297e93f div.sk-estimator {font-family: monospace;background-color: #f0f8ff;margin: 0.25em 0.25em;border: 1px dotted black;border-radius: 0.25em;box-sizing: border-box;}#sk-f9ef55fe-8e9b-49ff-bf04-3c354297e93f div.sk-estimator:hover {background-color: #d4ebff;}#sk-f9ef55fe-8e9b-49ff-bf04-3c354297e93f div.sk-parallel-item::after {content: \"\";width: 100%;border-bottom: 1px solid gray;flex-grow: 1;}#sk-f9ef55fe-8e9b-49ff-bf04-3c354297e93f div.sk-label:hover label.sk-toggleable__label {background-color: #d4ebff;}#sk-f9ef55fe-8e9b-49ff-bf04-3c354297e93f div.sk-serial::before {content: \"\";position: absolute;border-left: 1px solid gray;box-sizing: border-box;top: 2em;bottom: 0;left: 50%;}#sk-f9ef55fe-8e9b-49ff-bf04-3c354297e93f div.sk-serial {display: flex;flex-direction: column;align-items: center;background-color: white;}#sk-f9ef55fe-8e9b-49ff-bf04-3c354297e93f div.sk-item {z-index: 1;}#sk-f9ef55fe-8e9b-49ff-bf04-3c354297e93f div.sk-parallel {display: flex;align-items: stretch;justify-content: center;background-color: white;}#sk-f9ef55fe-8e9b-49ff-bf04-3c354297e93f div.sk-parallel-item {display: flex;flex-direction: column;position: relative;background-color: white;}#sk-f9ef55fe-8e9b-49ff-bf04-3c354297e93f div.sk-parallel-item:first-child::after {align-self: flex-end;width: 50%;}#sk-f9ef55fe-8e9b-49ff-bf04-3c354297e93f div.sk-parallel-item:last-child::after {align-self: flex-start;width: 50%;}#sk-f9ef55fe-8e9b-49ff-bf04-3c354297e93f div.sk-parallel-item:only-child::after {width: 0;}#sk-f9ef55fe-8e9b-49ff-bf04-3c354297e93f div.sk-dashed-wrapped {border: 1px dashed gray;margin: 0.2em;box-sizing: border-box;padding-bottom: 0.1em;background-color: white;position: relative;}#sk-f9ef55fe-8e9b-49ff-bf04-3c354297e93f div.sk-label label {font-family: monospace;font-weight: bold;background-color: white;display: inline-block;line-height: 1.2em;}#sk-f9ef55fe-8e9b-49ff-bf04-3c354297e93f div.sk-label-container {position: relative;z-index: 2;text-align: center;}#sk-f9ef55fe-8e9b-49ff-bf04-3c354297e93f div.sk-container {display: inline-block;position: relative;}</style><div id=\"sk-f9ef55fe-8e9b-49ff-bf04-3c354297e93f\" class\"sk-top-container\"><div class=\"sk-container\"><div class=\"sk-item\"><div class=\"sk-estimator sk-toggleable\"><input class=\"sk-toggleable__control sk-hidden--visually\" id=\"ffeedda2-7664-4080-8ad3-d9c03c4b3720\" type=\"checkbox\" checked><label class=\"sk-toggleable__label\" for=\"ffeedda2-7664-4080-8ad3-d9c03c4b3720\">LinearRegression</label><div class=\"sk-toggleable__content\"><pre>LinearRegression()</pre></div></div></div></div></div>"
            ],
            "text/plain": [
              "LinearRegression()"
            ]
          },
          "metadata": {},
          "execution_count": 22
        }
      ]
    },
    {
      "cell_type": "markdown",
      "metadata": {
        "id": "2DAky7wyoNJI"
      },
      "source": [
        "### 1- Predict"
      ]
    },
    {
      "cell_type": "code",
      "metadata": {
        "id": "MKIIRFhAdE5K",
        "colab": {
          "base_uri": "https://localhost:8080/"
        },
        "outputId": "7fc0a463-1679-4c92-f6f5-8d9f1eecbe51"
      },
      "source": [
        "y_pred = clf.predict(X_test)\n",
        "y_pred[:5]"
      ],
      "execution_count": 23,
      "outputs": [
        {
          "output_type": "execute_result",
          "data": {
            "text/plain": [
              "array([122.41932407, 111.48365055, 184.18558652,  68.52087272,\n",
              "       171.44221745])"
            ]
          },
          "metadata": {},
          "execution_count": 23
        }
      ]
    },
    {
      "cell_type": "code",
      "metadata": {
        "id": "uUMAyP9nZE3D",
        "colab": {
          "base_uri": "https://localhost:8080/"
        },
        "outputId": "d8c2bfcc-4d2c-471e-e48a-39f9f690b934"
      },
      "source": [
        "(y_test == y_pred).mean()"
      ],
      "execution_count": 24,
      "outputs": [
        {
          "output_type": "execute_result",
          "data": {
            "text/plain": [
              "0.0"
            ]
          },
          "metadata": {},
          "execution_count": 24
        }
      ]
    },
    {
      "cell_type": "code",
      "metadata": {
        "id": "tuP24o6hQI0z",
        "colab": {
          "base_uri": "https://localhost:8080/"
        },
        "outputId": "d1c92864-204a-472c-8ab0-a173e327be84"
      },
      "source": [
        "accuracy = clf.score(X_test, y_test)\n",
        "print(f\"The test accuracy using a {clf.__class__.__name__} is \"f\"{accuracy:.3f}\")"
      ],
      "execution_count": 25,
      "outputs": [
        {
          "output_type": "stream",
          "name": "stdout",
          "text": [
            "The test accuracy using a LinearRegression is 0.317\n"
          ]
        }
      ]
    }
  ]
}