{
  "nbformat": 4,
  "nbformat_minor": 0,
  "metadata": {
    "colab": {
      "name": "Scikit-Learn.ipynb",
      "provenance": [],
      "collapsed_sections": [],
      "authorship_tag": "ABX9TyMN7EYQ509T5Fk25/3PP3hb",
      "include_colab_link": true
    },
    "kernelspec": {
      "name": "python3",
      "display_name": "Python 3"
    },
    "language_info": {
      "name": "python"
    }
  },
  "cells": [
    {
      "cell_type": "markdown",
      "metadata": {
        "id": "view-in-github",
        "colab_type": "text"
      },
      "source": [
        "<a href=\"https://colab.research.google.com/github/tabaraei/CheatSheet/blob/master/notebooks/Scikit-Learn.ipynb\" target=\"_parent\"><img src=\"https://colab.research.google.com/assets/colab-badge.svg\" alt=\"Open In Colab\"/></a>"
      ]
    },
    {
      "cell_type": "markdown",
      "metadata": {
        "id": "hyCpDXUw3POZ"
      },
      "source": [
        "## Setup the enivironment"
      ]
    },
    {
      "cell_type": "markdown",
      "metadata": {
        "id": "2aC6IwKz4Gt8"
      },
      "source": [
        "Please ensure that you have the latest scikit-learn version.\n",
        "Run `!pip install --upgrade scikit-learn` if necessary."
      ]
    },
    {
      "cell_type": "code",
      "metadata": {
        "id": "RV7TGbPL3T2K",
        "colab": {
          "base_uri": "https://localhost:8080/"
        },
        "outputId": "84f078bc-edea-4f81-c0e6-76a0b7a95b9c"
      },
      "source": [
        "# restart runtime after running the following command\n",
        "!pip install --upgrade scikit-learn"
      ],
      "execution_count": 34,
      "outputs": [
        {
          "output_type": "stream",
          "name": "stdout",
          "text": [
            "Requirement already satisfied: scikit-learn in /usr/local/lib/python3.7/dist-packages (0.24.2)\n",
            "Requirement already satisfied: numpy>=1.13.3 in /usr/local/lib/python3.7/dist-packages (from scikit-learn) (1.19.5)\n",
            "Requirement already satisfied: scipy>=0.19.1 in /usr/local/lib/python3.7/dist-packages (from scikit-learn) (1.4.1)\n",
            "Requirement already satisfied: threadpoolctl>=2.0.0 in /usr/local/lib/python3.7/dist-packages (from scikit-learn) (2.2.0)\n",
            "Requirement already satisfied: joblib>=0.11 in /usr/local/lib/python3.7/dist-packages (from scikit-learn) (1.0.1)\n"
          ]
        }
      ]
    },
    {
      "cell_type": "code",
      "metadata": {
        "id": "bFS5hPszFXFH"
      },
      "source": [
        "import pandas as pd\n",
        "import numpy as np"
      ],
      "execution_count": 35,
      "outputs": []
    },
    {
      "cell_type": "markdown",
      "metadata": {
        "id": "wQXkS0eTnF2D"
      },
      "source": [
        "## Data configuration"
      ]
    },
    {
      "cell_type": "markdown",
      "metadata": {
        "id": "uFphJUCwXdn_"
      },
      "source": [
        "### 1- Load the dataset"
      ]
    },
    {
      "cell_type": "markdown",
      "metadata": {
        "id": "k9s4aPrdPfm7"
      },
      "source": [
        "#### 1-1- Regression data:"
      ]
    },
    {
      "cell_type": "code",
      "metadata": {
        "id": "_NZBnEl7GrfA",
        "colab": {
          "base_uri": "https://localhost:8080/",
          "height": 143
        },
        "outputId": "527eb414-2c9a-4122-8c98-581db94fdd66"
      },
      "source": [
        "from sklearn.datasets import load_diabetes\n",
        "\n",
        "reg_dataframe = load_diabetes(as_frame=True).frame\n",
        "reg_dataframe.head(3)"
      ],
      "execution_count": 36,
      "outputs": [
        {
          "output_type": "execute_result",
          "data": {
            "text/html": [
              "<div>\n",
              "<style scoped>\n",
              "    .dataframe tbody tr th:only-of-type {\n",
              "        vertical-align: middle;\n",
              "    }\n",
              "\n",
              "    .dataframe tbody tr th {\n",
              "        vertical-align: top;\n",
              "    }\n",
              "\n",
              "    .dataframe thead th {\n",
              "        text-align: right;\n",
              "    }\n",
              "</style>\n",
              "<table border=\"1\" class=\"dataframe\">\n",
              "  <thead>\n",
              "    <tr style=\"text-align: right;\">\n",
              "      <th></th>\n",
              "      <th>age</th>\n",
              "      <th>sex</th>\n",
              "      <th>bmi</th>\n",
              "      <th>bp</th>\n",
              "      <th>s1</th>\n",
              "      <th>s2</th>\n",
              "      <th>s3</th>\n",
              "      <th>s4</th>\n",
              "      <th>s5</th>\n",
              "      <th>s6</th>\n",
              "      <th>target</th>\n",
              "    </tr>\n",
              "  </thead>\n",
              "  <tbody>\n",
              "    <tr>\n",
              "      <th>0</th>\n",
              "      <td>0.038076</td>\n",
              "      <td>0.050680</td>\n",
              "      <td>0.061696</td>\n",
              "      <td>0.021872</td>\n",
              "      <td>-0.044223</td>\n",
              "      <td>-0.034821</td>\n",
              "      <td>-0.043401</td>\n",
              "      <td>-0.002592</td>\n",
              "      <td>0.019908</td>\n",
              "      <td>-0.017646</td>\n",
              "      <td>151.0</td>\n",
              "    </tr>\n",
              "    <tr>\n",
              "      <th>1</th>\n",
              "      <td>-0.001882</td>\n",
              "      <td>-0.044642</td>\n",
              "      <td>-0.051474</td>\n",
              "      <td>-0.026328</td>\n",
              "      <td>-0.008449</td>\n",
              "      <td>-0.019163</td>\n",
              "      <td>0.074412</td>\n",
              "      <td>-0.039493</td>\n",
              "      <td>-0.068330</td>\n",
              "      <td>-0.092204</td>\n",
              "      <td>75.0</td>\n",
              "    </tr>\n",
              "    <tr>\n",
              "      <th>2</th>\n",
              "      <td>0.085299</td>\n",
              "      <td>0.050680</td>\n",
              "      <td>0.044451</td>\n",
              "      <td>-0.005671</td>\n",
              "      <td>-0.045599</td>\n",
              "      <td>-0.034194</td>\n",
              "      <td>-0.032356</td>\n",
              "      <td>-0.002592</td>\n",
              "      <td>0.002864</td>\n",
              "      <td>-0.025930</td>\n",
              "      <td>141.0</td>\n",
              "    </tr>\n",
              "  </tbody>\n",
              "</table>\n",
              "</div>"
            ],
            "text/plain": [
              "        age       sex       bmi        bp  ...        s4        s5        s6  target\n",
              "0  0.038076  0.050680  0.061696  0.021872  ... -0.002592  0.019908 -0.017646   151.0\n",
              "1 -0.001882 -0.044642 -0.051474 -0.026328  ... -0.039493 -0.068330 -0.092204    75.0\n",
              "2  0.085299  0.050680  0.044451 -0.005671  ... -0.002592  0.002864 -0.025930   141.0\n",
              "\n",
              "[3 rows x 11 columns]"
            ]
          },
          "metadata": {},
          "execution_count": 36
        }
      ]
    },
    {
      "cell_type": "markdown",
      "metadata": {
        "id": "TZwic34NPRel"
      },
      "source": [
        "#### 1-2- Classification data"
      ]
    },
    {
      "cell_type": "code",
      "metadata": {
        "id": "ZM9xRrLVPEVp",
        "colab": {
          "base_uri": "https://localhost:8080/",
          "height": 230
        },
        "outputId": "63bbd172-c249-49eb-c674-31613b1a4ff5"
      },
      "source": [
        "from sklearn.datasets import fetch_openml\n",
        "\n",
        "cls_dataframe = fetch_openml(name='adult', version=2, as_frame=True).frame\n",
        "cls_dataframe.head(3)"
      ],
      "execution_count": 37,
      "outputs": [
        {
          "output_type": "execute_result",
          "data": {
            "text/html": [
              "<div>\n",
              "<style scoped>\n",
              "    .dataframe tbody tr th:only-of-type {\n",
              "        vertical-align: middle;\n",
              "    }\n",
              "\n",
              "    .dataframe tbody tr th {\n",
              "        vertical-align: top;\n",
              "    }\n",
              "\n",
              "    .dataframe thead th {\n",
              "        text-align: right;\n",
              "    }\n",
              "</style>\n",
              "<table border=\"1\" class=\"dataframe\">\n",
              "  <thead>\n",
              "    <tr style=\"text-align: right;\">\n",
              "      <th></th>\n",
              "      <th>age</th>\n",
              "      <th>workclass</th>\n",
              "      <th>fnlwgt</th>\n",
              "      <th>education</th>\n",
              "      <th>education-num</th>\n",
              "      <th>marital-status</th>\n",
              "      <th>occupation</th>\n",
              "      <th>relationship</th>\n",
              "      <th>race</th>\n",
              "      <th>sex</th>\n",
              "      <th>capital-gain</th>\n",
              "      <th>capital-loss</th>\n",
              "      <th>hours-per-week</th>\n",
              "      <th>native-country</th>\n",
              "      <th>class</th>\n",
              "    </tr>\n",
              "  </thead>\n",
              "  <tbody>\n",
              "    <tr>\n",
              "      <th>0</th>\n",
              "      <td>25.0</td>\n",
              "      <td>Private</td>\n",
              "      <td>226802.0</td>\n",
              "      <td>11th</td>\n",
              "      <td>7.0</td>\n",
              "      <td>Never-married</td>\n",
              "      <td>Machine-op-inspct</td>\n",
              "      <td>Own-child</td>\n",
              "      <td>Black</td>\n",
              "      <td>Male</td>\n",
              "      <td>0.0</td>\n",
              "      <td>0.0</td>\n",
              "      <td>40.0</td>\n",
              "      <td>United-States</td>\n",
              "      <td>&lt;=50K</td>\n",
              "    </tr>\n",
              "    <tr>\n",
              "      <th>1</th>\n",
              "      <td>38.0</td>\n",
              "      <td>Private</td>\n",
              "      <td>89814.0</td>\n",
              "      <td>HS-grad</td>\n",
              "      <td>9.0</td>\n",
              "      <td>Married-civ-spouse</td>\n",
              "      <td>Farming-fishing</td>\n",
              "      <td>Husband</td>\n",
              "      <td>White</td>\n",
              "      <td>Male</td>\n",
              "      <td>0.0</td>\n",
              "      <td>0.0</td>\n",
              "      <td>50.0</td>\n",
              "      <td>United-States</td>\n",
              "      <td>&lt;=50K</td>\n",
              "    </tr>\n",
              "    <tr>\n",
              "      <th>2</th>\n",
              "      <td>28.0</td>\n",
              "      <td>Local-gov</td>\n",
              "      <td>336951.0</td>\n",
              "      <td>Assoc-acdm</td>\n",
              "      <td>12.0</td>\n",
              "      <td>Married-civ-spouse</td>\n",
              "      <td>Protective-serv</td>\n",
              "      <td>Husband</td>\n",
              "      <td>White</td>\n",
              "      <td>Male</td>\n",
              "      <td>0.0</td>\n",
              "      <td>0.0</td>\n",
              "      <td>40.0</td>\n",
              "      <td>United-States</td>\n",
              "      <td>&gt;50K</td>\n",
              "    </tr>\n",
              "  </tbody>\n",
              "</table>\n",
              "</div>"
            ],
            "text/plain": [
              "    age  workclass    fnlwgt  ... hours-per-week  native-country  class\n",
              "0  25.0    Private  226802.0  ...           40.0   United-States  <=50K\n",
              "1  38.0    Private   89814.0  ...           50.0   United-States  <=50K\n",
              "2  28.0  Local-gov  336951.0  ...           40.0   United-States   >50K\n",
              "\n",
              "[3 rows x 15 columns]"
            ]
          },
          "metadata": {},
          "execution_count": 37
        }
      ]
    },
    {
      "cell_type": "markdown",
      "metadata": {
        "id": "sGuB50-63j5S"
      },
      "source": [
        "### 2- Handling missing values"
      ]
    },
    {
      "cell_type": "markdown",
      "metadata": {
        "id": "nKfBzD8bMaKD"
      },
      "source": [
        "#### 2-1- Remove rows with missing value"
      ]
    },
    {
      "cell_type": "code",
      "metadata": {
        "id": "77ZmolPuIwO3",
        "colab": {
          "base_uri": "https://localhost:8080/"
        },
        "outputId": "4d5449ea-e210-4637-8a84-83a1579ac10b"
      },
      "source": [
        "print(reg_dataframe.shape, cls_dataframe.shape)\n",
        "reg_dataframe.dropna(axis=0, inplace=True)\n",
        "cls_dataframe.dropna(axis=0, inplace=True)\n",
        "print(reg_dataframe.shape, cls_dataframe.shape)"
      ],
      "execution_count": 38,
      "outputs": [
        {
          "output_type": "stream",
          "name": "stdout",
          "text": [
            "(442, 11) (48842, 15)\n",
            "(442, 11) (45222, 15)\n"
          ]
        }
      ]
    },
    {
      "cell_type": "markdown",
      "metadata": {
        "id": "SE7ufmOvMlKL"
      },
      "source": [
        "#### 2-2- Remove cols with missing value"
      ]
    },
    {
      "cell_type": "code",
      "metadata": {
        "id": "cpHW96wu3tbP",
        "colab": {
          "base_uri": "https://localhost:8080/"
        },
        "outputId": "886a28d7-b64f-4485-b17f-f6d0c74e4de0"
      },
      "source": [
        "reg_cols_with_missing = [col for col in reg_dataframe.columns if reg_dataframe[col].isnull().any()]\n",
        "reg_dataframe.drop(reg_cols_with_missing, axis=1, inplace=True)\n",
        "\n",
        "cls_cols_with_missing = [col for col in cls_dataframe.columns if cls_dataframe[col].isnull().any()]\n",
        "cls_dataframe.drop(cls_cols_with_missing, axis=1, inplace=True)\n",
        "\n",
        "reg_cols_with_missing, cls_cols_with_missing"
      ],
      "execution_count": 39,
      "outputs": [
        {
          "output_type": "execute_result",
          "data": {
            "text/plain": [
              "([], [])"
            ]
          },
          "metadata": {},
          "execution_count": 39
        }
      ]
    },
    {
      "cell_type": "markdown",
      "metadata": {
        "id": "mbB9Oxu9ZrlW"
      },
      "source": [
        "### 3- Train Test Split"
      ]
    },
    {
      "cell_type": "markdown",
      "metadata": {
        "id": "BkeZeSbgTd2v"
      },
      "source": [
        "#### 3-1- Split target class from features"
      ]
    },
    {
      "cell_type": "code",
      "metadata": {
        "id": "iTuDvqvMJfqk"
      },
      "source": [
        "y_reg = reg_dataframe['target']\n",
        "X_reg = reg_dataframe.drop(['target'], axis='columns')\n",
        "\n",
        "y_cls = cls_dataframe['class']\n",
        "X_cls = cls_dataframe.drop(['class'], axis='columns')"
      ],
      "execution_count": 40,
      "outputs": []
    },
    {
      "cell_type": "markdown",
      "metadata": {
        "id": "uUe6nopoTpmi"
      },
      "source": [
        "#### 3-2- Split training data from test data"
      ]
    },
    {
      "cell_type": "code",
      "metadata": {
        "id": "-lO7XaTb3CuQ"
      },
      "source": [
        "from sklearn.model_selection import train_test_split\n",
        "\n",
        "X_train_reg, X_test_reg, y_train_reg, y_test_reg = \\\n",
        "    train_test_split(X_reg, y_reg, random_state=1, test_size=0.1)\n",
        "    \n",
        "X_train_cls, X_test_cls, y_train_cls, y_test_cls = \\\n",
        "    train_test_split(X_cls, y_cls, random_state=1, test_size=0.1)"
      ],
      "execution_count": 41,
      "outputs": []
    },
    {
      "cell_type": "markdown",
      "metadata": {
        "id": "MoYcXXAETzYB"
      },
      "source": [
        "#### 3-3- Prevent from SettingWithCopyWarning"
      ]
    },
    {
      "cell_type": "code",
      "metadata": {
        "id": "Cdsls0ooSvm5"
      },
      "source": [
        "X_train_reg, X_test_reg, y_train_reg, y_test_reg = \\\n",
        "    X_train_reg.copy(), X_test_reg.copy(), y_train_reg.copy(), y_test_reg.copy()\n",
        "\n",
        "X_train_cls, X_test_cls, y_train_cls, y_test_cls = \\\n",
        "    X_train_cls.copy(), X_test_cls.copy(), y_train_cls.copy(), y_test_cls.copy()"
      ],
      "execution_count": 42,
      "outputs": []
    },
    {
      "cell_type": "markdown",
      "metadata": {
        "id": "2vb6Y63cosYk"
      },
      "source": [
        "## Preprocessing"
      ]
    },
    {
      "cell_type": "markdown",
      "metadata": {
        "id": "w6o9Ai91SMOX"
      },
      "source": [
        "### 1- Handling categorical features"
      ]
    },
    {
      "cell_type": "code",
      "metadata": {
        "id": "dAVuLjKkS0Q7",
        "colab": {
          "base_uri": "https://localhost:8080/"
        },
        "outputId": "1c069d1c-3d38-487d-c792-1ea548a744af"
      },
      "source": [
        "categories = X_train_cls.select_dtypes(include='category')\n",
        "low_cardinality_cols = [col for col in X_train_cls.columns if X_train_cls[col].nunique() < 7]\n",
        "high_cardinality_cols = list(set(categories) - set(low_cardinality_cols))\n",
        "\n",
        "low_cardinality_cols, high_cardinality_cols"
      ],
      "execution_count": 43,
      "outputs": [
        {
          "output_type": "execute_result",
          "data": {
            "text/plain": [
              "(['relationship', 'race', 'sex'],\n",
              " ['workclass', 'education', 'occupation', 'marital-status', 'native-country'])"
            ]
          },
          "metadata": {},
          "execution_count": 43
        }
      ]
    },
    {
      "cell_type": "markdown",
      "metadata": {
        "id": "Fzt04xH4SVA2"
      },
      "source": [
        "#### 1-1- Ordinal Encoder"
      ]
    },
    {
      "cell_type": "code",
      "metadata": {
        "id": "jTHo9Wb6Qfsj",
        "colab": {
          "base_uri": "https://localhost:8080/",
          "height": 143
        },
        "outputId": "43273e0f-1b07-4883-97db-a06c5d576f94"
      },
      "source": [
        "X_train_cls[high_cardinality_cols].head(3)"
      ],
      "execution_count": 44,
      "outputs": [
        {
          "output_type": "execute_result",
          "data": {
            "text/html": [
              "<div>\n",
              "<style scoped>\n",
              "    .dataframe tbody tr th:only-of-type {\n",
              "        vertical-align: middle;\n",
              "    }\n",
              "\n",
              "    .dataframe tbody tr th {\n",
              "        vertical-align: top;\n",
              "    }\n",
              "\n",
              "    .dataframe thead th {\n",
              "        text-align: right;\n",
              "    }\n",
              "</style>\n",
              "<table border=\"1\" class=\"dataframe\">\n",
              "  <thead>\n",
              "    <tr style=\"text-align: right;\">\n",
              "      <th></th>\n",
              "      <th>workclass</th>\n",
              "      <th>education</th>\n",
              "      <th>occupation</th>\n",
              "      <th>marital-status</th>\n",
              "      <th>native-country</th>\n",
              "    </tr>\n",
              "  </thead>\n",
              "  <tbody>\n",
              "    <tr>\n",
              "      <th>917</th>\n",
              "      <td>Private</td>\n",
              "      <td>Some-college</td>\n",
              "      <td>Machine-op-inspct</td>\n",
              "      <td>Married-civ-spouse</td>\n",
              "      <td>United-States</td>\n",
              "    </tr>\n",
              "    <tr>\n",
              "      <th>28178</th>\n",
              "      <td>Private</td>\n",
              "      <td>Some-college</td>\n",
              "      <td>Sales</td>\n",
              "      <td>Married-civ-spouse</td>\n",
              "      <td>United-States</td>\n",
              "    </tr>\n",
              "    <tr>\n",
              "      <th>46975</th>\n",
              "      <td>Private</td>\n",
              "      <td>HS-grad</td>\n",
              "      <td>Handlers-cleaners</td>\n",
              "      <td>Married-civ-spouse</td>\n",
              "      <td>United-States</td>\n",
              "    </tr>\n",
              "  </tbody>\n",
              "</table>\n",
              "</div>"
            ],
            "text/plain": [
              "      workclass     education  ...      marital-status native-country\n",
              "917     Private  Some-college  ...  Married-civ-spouse  United-States\n",
              "28178   Private  Some-college  ...  Married-civ-spouse  United-States\n",
              "46975   Private       HS-grad  ...  Married-civ-spouse  United-States\n",
              "\n",
              "[3 rows x 5 columns]"
            ]
          },
          "metadata": {},
          "execution_count": 44
        }
      ]
    },
    {
      "cell_type": "code",
      "metadata": {
        "id": "ReV0bpQCoxaw"
      },
      "source": [
        "from sklearn.preprocessing import OrdinalEncoder\n",
        "\n",
        "encoder = OrdinalEncoder()\n",
        "X_train_cls[high_cardinality_cols] = encoder.fit_transform(X_train_cls[high_cardinality_cols].copy())\n",
        "X_test_cls[high_cardinality_cols] = encoder.transform(X_test_cls[high_cardinality_cols].copy())"
      ],
      "execution_count": 45,
      "outputs": []
    },
    {
      "cell_type": "code",
      "metadata": {
        "id": "mO2URDIFUfrN",
        "colab": {
          "base_uri": "https://localhost:8080/",
          "height": 143
        },
        "outputId": "a86ab9e6-b6b3-4974-d1ef-a2a7cacb524b"
      },
      "source": [
        "X_train_cls[high_cardinality_cols].head(3)"
      ],
      "execution_count": 46,
      "outputs": [
        {
          "output_type": "execute_result",
          "data": {
            "text/html": [
              "<div>\n",
              "<style scoped>\n",
              "    .dataframe tbody tr th:only-of-type {\n",
              "        vertical-align: middle;\n",
              "    }\n",
              "\n",
              "    .dataframe tbody tr th {\n",
              "        vertical-align: top;\n",
              "    }\n",
              "\n",
              "    .dataframe thead th {\n",
              "        text-align: right;\n",
              "    }\n",
              "</style>\n",
              "<table border=\"1\" class=\"dataframe\">\n",
              "  <thead>\n",
              "    <tr style=\"text-align: right;\">\n",
              "      <th></th>\n",
              "      <th>workclass</th>\n",
              "      <th>education</th>\n",
              "      <th>occupation</th>\n",
              "      <th>marital-status</th>\n",
              "      <th>native-country</th>\n",
              "    </tr>\n",
              "  </thead>\n",
              "  <tbody>\n",
              "    <tr>\n",
              "      <th>917</th>\n",
              "      <td>2.0</td>\n",
              "      <td>15.0</td>\n",
              "      <td>6.0</td>\n",
              "      <td>2.0</td>\n",
              "      <td>38.0</td>\n",
              "    </tr>\n",
              "    <tr>\n",
              "      <th>28178</th>\n",
              "      <td>2.0</td>\n",
              "      <td>15.0</td>\n",
              "      <td>11.0</td>\n",
              "      <td>2.0</td>\n",
              "      <td>38.0</td>\n",
              "    </tr>\n",
              "    <tr>\n",
              "      <th>46975</th>\n",
              "      <td>2.0</td>\n",
              "      <td>11.0</td>\n",
              "      <td>5.0</td>\n",
              "      <td>2.0</td>\n",
              "      <td>38.0</td>\n",
              "    </tr>\n",
              "  </tbody>\n",
              "</table>\n",
              "</div>"
            ],
            "text/plain": [
              "       workclass  education  occupation  marital-status  native-country\n",
              "917          2.0       15.0         6.0             2.0            38.0\n",
              "28178        2.0       15.0        11.0             2.0            38.0\n",
              "46975        2.0       11.0         5.0             2.0            38.0"
            ]
          },
          "metadata": {},
          "execution_count": 46
        }
      ]
    },
    {
      "cell_type": "markdown",
      "metadata": {
        "id": "2gGAHJUUSdJI"
      },
      "source": [
        "#### 1-2- One Hot Encoder"
      ]
    },
    {
      "cell_type": "code",
      "metadata": {
        "id": "bBb0it0LUijU",
        "colab": {
          "base_uri": "https://localhost:8080/",
          "height": 143
        },
        "outputId": "6745604c-ac12-4f2a-eb4a-da4c44746af0"
      },
      "source": [
        "X_train_cls[low_cardinality_cols].head(3)"
      ],
      "execution_count": 47,
      "outputs": [
        {
          "output_type": "execute_result",
          "data": {
            "text/html": [
              "<div>\n",
              "<style scoped>\n",
              "    .dataframe tbody tr th:only-of-type {\n",
              "        vertical-align: middle;\n",
              "    }\n",
              "\n",
              "    .dataframe tbody tr th {\n",
              "        vertical-align: top;\n",
              "    }\n",
              "\n",
              "    .dataframe thead th {\n",
              "        text-align: right;\n",
              "    }\n",
              "</style>\n",
              "<table border=\"1\" class=\"dataframe\">\n",
              "  <thead>\n",
              "    <tr style=\"text-align: right;\">\n",
              "      <th></th>\n",
              "      <th>relationship</th>\n",
              "      <th>race</th>\n",
              "      <th>sex</th>\n",
              "    </tr>\n",
              "  </thead>\n",
              "  <tbody>\n",
              "    <tr>\n",
              "      <th>917</th>\n",
              "      <td>Husband</td>\n",
              "      <td>White</td>\n",
              "      <td>Male</td>\n",
              "    </tr>\n",
              "    <tr>\n",
              "      <th>28178</th>\n",
              "      <td>Husband</td>\n",
              "      <td>White</td>\n",
              "      <td>Male</td>\n",
              "    </tr>\n",
              "    <tr>\n",
              "      <th>46975</th>\n",
              "      <td>Husband</td>\n",
              "      <td>White</td>\n",
              "      <td>Male</td>\n",
              "    </tr>\n",
              "  </tbody>\n",
              "</table>\n",
              "</div>"
            ],
            "text/plain": [
              "      relationship   race   sex\n",
              "917        Husband  White  Male\n",
              "28178      Husband  White  Male\n",
              "46975      Husband  White  Male"
            ]
          },
          "metadata": {},
          "execution_count": 47
        }
      ]
    },
    {
      "cell_type": "code",
      "metadata": {
        "id": "USHcJvv1RbG7"
      },
      "source": [
        "from sklearn.preprocessing import OneHotEncoder\n",
        "\n",
        "# get dataframe of one-hot encoding on low cardinality columns\n",
        "encoder = OneHotEncoder(handle_unknown='ignore', sparse=False)\n",
        "one_hot_train = pd.DataFrame(encoder.fit_transform(X_train_cls[low_cardinality_cols]))\n",
        "one_hot_test = pd.DataFrame(encoder.transform(X_test_cls[low_cardinality_cols]))\n",
        "\n",
        "# fix indices of one-hot encoder before merging\n",
        "one_hot_train.index = X_train_cls.index\n",
        "one_hot_test.index = X_test_cls.index\n",
        "\n",
        "# assign column names\n",
        "one_hot_train.columns = encoder.get_feature_names()\n",
        "one_hot_test.columns = encoder.get_feature_names()\n",
        "\n",
        "# Remove categorical columns\n",
        "X_train_cls = X_train_cls.drop(low_cardinality_cols, axis=1)\n",
        "X_test_cls = X_test_cls.drop(low_cardinality_cols, axis=1)\n",
        "\n",
        "# Add one-hot encoded columns to numerical features\n",
        "X_train_cls = pd.concat([X_train_cls, one_hot_train], axis=1)\n",
        "X_test_cls = pd.concat([X_test_cls, one_hot_test], axis=1)"
      ],
      "execution_count": 48,
      "outputs": []
    },
    {
      "cell_type": "code",
      "metadata": {
        "id": "U6Ohxc8EUqlA",
        "colab": {
          "base_uri": "https://localhost:8080/",
          "height": 178
        },
        "outputId": "2415fff7-911a-420d-f730-1f595a01b3d0"
      },
      "source": [
        "one_hot_train.head(3)"
      ],
      "execution_count": 49,
      "outputs": [
        {
          "output_type": "execute_result",
          "data": {
            "text/html": [
              "<div>\n",
              "<style scoped>\n",
              "    .dataframe tbody tr th:only-of-type {\n",
              "        vertical-align: middle;\n",
              "    }\n",
              "\n",
              "    .dataframe tbody tr th {\n",
              "        vertical-align: top;\n",
              "    }\n",
              "\n",
              "    .dataframe thead th {\n",
              "        text-align: right;\n",
              "    }\n",
              "</style>\n",
              "<table border=\"1\" class=\"dataframe\">\n",
              "  <thead>\n",
              "    <tr style=\"text-align: right;\">\n",
              "      <th></th>\n",
              "      <th>x0_Husband</th>\n",
              "      <th>x0_Not-in-family</th>\n",
              "      <th>x0_Other-relative</th>\n",
              "      <th>x0_Own-child</th>\n",
              "      <th>x0_Unmarried</th>\n",
              "      <th>x0_Wife</th>\n",
              "      <th>x1_Amer-Indian-Eskimo</th>\n",
              "      <th>x1_Asian-Pac-Islander</th>\n",
              "      <th>x1_Black</th>\n",
              "      <th>x1_Other</th>\n",
              "      <th>x1_White</th>\n",
              "      <th>x2_Female</th>\n",
              "      <th>x2_Male</th>\n",
              "    </tr>\n",
              "  </thead>\n",
              "  <tbody>\n",
              "    <tr>\n",
              "      <th>917</th>\n",
              "      <td>1.0</td>\n",
              "      <td>0.0</td>\n",
              "      <td>0.0</td>\n",
              "      <td>0.0</td>\n",
              "      <td>0.0</td>\n",
              "      <td>0.0</td>\n",
              "      <td>0.0</td>\n",
              "      <td>0.0</td>\n",
              "      <td>0.0</td>\n",
              "      <td>0.0</td>\n",
              "      <td>1.0</td>\n",
              "      <td>0.0</td>\n",
              "      <td>1.0</td>\n",
              "    </tr>\n",
              "    <tr>\n",
              "      <th>28178</th>\n",
              "      <td>1.0</td>\n",
              "      <td>0.0</td>\n",
              "      <td>0.0</td>\n",
              "      <td>0.0</td>\n",
              "      <td>0.0</td>\n",
              "      <td>0.0</td>\n",
              "      <td>0.0</td>\n",
              "      <td>0.0</td>\n",
              "      <td>0.0</td>\n",
              "      <td>0.0</td>\n",
              "      <td>1.0</td>\n",
              "      <td>0.0</td>\n",
              "      <td>1.0</td>\n",
              "    </tr>\n",
              "    <tr>\n",
              "      <th>46975</th>\n",
              "      <td>1.0</td>\n",
              "      <td>0.0</td>\n",
              "      <td>0.0</td>\n",
              "      <td>0.0</td>\n",
              "      <td>0.0</td>\n",
              "      <td>0.0</td>\n",
              "      <td>0.0</td>\n",
              "      <td>0.0</td>\n",
              "      <td>0.0</td>\n",
              "      <td>0.0</td>\n",
              "      <td>1.0</td>\n",
              "      <td>0.0</td>\n",
              "      <td>1.0</td>\n",
              "    </tr>\n",
              "  </tbody>\n",
              "</table>\n",
              "</div>"
            ],
            "text/plain": [
              "       x0_Husband  x0_Not-in-family  ...  x2_Female  x2_Male\n",
              "917           1.0               0.0  ...        0.0      1.0\n",
              "28178         1.0               0.0  ...        0.0      1.0\n",
              "46975         1.0               0.0  ...        0.0      1.0\n",
              "\n",
              "[3 rows x 13 columns]"
            ]
          },
          "metadata": {},
          "execution_count": 49
        }
      ]
    },
    {
      "cell_type": "markdown",
      "metadata": {
        "id": "aQsaD2EjYugM"
      },
      "source": [
        "#### 1-3- Remove Categorical features and replace with preprocessed ones"
      ]
    },
    {
      "cell_type": "markdown",
      "metadata": {
        "id": "TYlkN_8DZBRB"
      },
      "source": [
        "### 2- Numeric features"
      ]
    },
    {
      "cell_type": "code",
      "metadata": {
        "id": "t71WZIfFozsh"
      },
      "source": [
        "from sklearn.preprocessing import StandardScaler\n",
        "\n",
        "# scaler = StandardScaler()\n",
        "# scaler.fit(data_train)"
      ],
      "execution_count": 50,
      "outputs": []
    },
    {
      "cell_type": "code",
      "metadata": {
        "id": "Zd78fTHd1i_B"
      },
      "source": [
        "from sklearn.impute import SimpleImputer"
      ],
      "execution_count": 51,
      "outputs": []
    },
    {
      "cell_type": "markdown",
      "metadata": {
        "id": "oHiNU2vELxcs"
      },
      "source": [
        "## Model"
      ]
    },
    {
      "cell_type": "markdown",
      "metadata": {
        "id": "p3pLi1hhWvck"
      },
      "source": [
        "Activate the diagram display to see the visualized model."
      ]
    },
    {
      "cell_type": "code",
      "metadata": {
        "id": "DxFVQKvzWuNe"
      },
      "source": [
        "from sklearn import set_config\n",
        "set_config(display='diagram')"
      ],
      "execution_count": 52,
      "outputs": []
    },
    {
      "cell_type": "markdown",
      "metadata": {
        "id": "oyL0f83nbjvN"
      },
      "source": [
        "### 1- Regression"
      ]
    },
    {
      "cell_type": "markdown",
      "metadata": {
        "id": "zq5n1z4wgLnG"
      },
      "source": [
        "#### 1-1- Linear Regression"
      ]
    },
    {
      "cell_type": "code",
      "metadata": {
        "id": "nDd-xkOrlYLj",
        "colab": {
          "base_uri": "https://localhost:8080/",
          "height": 0
        },
        "outputId": "8ef5b2cd-fb7e-4653-fbba-6a196cc9a68b"
      },
      "source": [
        "from sklearn.linear_model import LinearRegression\n",
        "\n",
        "X, y = X_train_reg, y_train_reg\n",
        "clf = LinearRegression()\n",
        "clf.fit(X, y)"
      ],
      "execution_count": 53,
      "outputs": [
        {
          "output_type": "execute_result",
          "data": {
            "text/html": [
              "<style>#sk-4521d65b-1c22-4caa-b3ef-7298b91e65d2 {color: black;background-color: white;}#sk-4521d65b-1c22-4caa-b3ef-7298b91e65d2 pre{padding: 0;}#sk-4521d65b-1c22-4caa-b3ef-7298b91e65d2 div.sk-toggleable {background-color: white;}#sk-4521d65b-1c22-4caa-b3ef-7298b91e65d2 label.sk-toggleable__label {cursor: pointer;display: block;width: 100%;margin-bottom: 0;padding: 0.2em 0.3em;box-sizing: border-box;text-align: center;}#sk-4521d65b-1c22-4caa-b3ef-7298b91e65d2 div.sk-toggleable__content {max-height: 0;max-width: 0;overflow: hidden;text-align: left;background-color: #f0f8ff;}#sk-4521d65b-1c22-4caa-b3ef-7298b91e65d2 div.sk-toggleable__content pre {margin: 0.2em;color: black;border-radius: 0.25em;background-color: #f0f8ff;}#sk-4521d65b-1c22-4caa-b3ef-7298b91e65d2 input.sk-toggleable__control:checked~div.sk-toggleable__content {max-height: 200px;max-width: 100%;overflow: auto;}#sk-4521d65b-1c22-4caa-b3ef-7298b91e65d2 div.sk-estimator input.sk-toggleable__control:checked~label.sk-toggleable__label {background-color: #d4ebff;}#sk-4521d65b-1c22-4caa-b3ef-7298b91e65d2 div.sk-label input.sk-toggleable__control:checked~label.sk-toggleable__label {background-color: #d4ebff;}#sk-4521d65b-1c22-4caa-b3ef-7298b91e65d2 input.sk-hidden--visually {border: 0;clip: rect(1px 1px 1px 1px);clip: rect(1px, 1px, 1px, 1px);height: 1px;margin: -1px;overflow: hidden;padding: 0;position: absolute;width: 1px;}#sk-4521d65b-1c22-4caa-b3ef-7298b91e65d2 div.sk-estimator {font-family: monospace;background-color: #f0f8ff;margin: 0.25em 0.25em;border: 1px dotted black;border-radius: 0.25em;box-sizing: border-box;}#sk-4521d65b-1c22-4caa-b3ef-7298b91e65d2 div.sk-estimator:hover {background-color: #d4ebff;}#sk-4521d65b-1c22-4caa-b3ef-7298b91e65d2 div.sk-parallel-item::after {content: \"\";width: 100%;border-bottom: 1px solid gray;flex-grow: 1;}#sk-4521d65b-1c22-4caa-b3ef-7298b91e65d2 div.sk-label:hover label.sk-toggleable__label {background-color: #d4ebff;}#sk-4521d65b-1c22-4caa-b3ef-7298b91e65d2 div.sk-serial::before {content: \"\";position: absolute;border-left: 1px solid gray;box-sizing: border-box;top: 2em;bottom: 0;left: 50%;}#sk-4521d65b-1c22-4caa-b3ef-7298b91e65d2 div.sk-serial {display: flex;flex-direction: column;align-items: center;background-color: white;}#sk-4521d65b-1c22-4caa-b3ef-7298b91e65d2 div.sk-item {z-index: 1;}#sk-4521d65b-1c22-4caa-b3ef-7298b91e65d2 div.sk-parallel {display: flex;align-items: stretch;justify-content: center;background-color: white;}#sk-4521d65b-1c22-4caa-b3ef-7298b91e65d2 div.sk-parallel-item {display: flex;flex-direction: column;position: relative;background-color: white;}#sk-4521d65b-1c22-4caa-b3ef-7298b91e65d2 div.sk-parallel-item:first-child::after {align-self: flex-end;width: 50%;}#sk-4521d65b-1c22-4caa-b3ef-7298b91e65d2 div.sk-parallel-item:last-child::after {align-self: flex-start;width: 50%;}#sk-4521d65b-1c22-4caa-b3ef-7298b91e65d2 div.sk-parallel-item:only-child::after {width: 0;}#sk-4521d65b-1c22-4caa-b3ef-7298b91e65d2 div.sk-dashed-wrapped {border: 1px dashed gray;margin: 0.2em;box-sizing: border-box;padding-bottom: 0.1em;background-color: white;position: relative;}#sk-4521d65b-1c22-4caa-b3ef-7298b91e65d2 div.sk-label label {font-family: monospace;font-weight: bold;background-color: white;display: inline-block;line-height: 1.2em;}#sk-4521d65b-1c22-4caa-b3ef-7298b91e65d2 div.sk-label-container {position: relative;z-index: 2;text-align: center;}#sk-4521d65b-1c22-4caa-b3ef-7298b91e65d2 div.sk-container {display: inline-block;position: relative;}</style><div id=\"sk-4521d65b-1c22-4caa-b3ef-7298b91e65d2\" class\"sk-top-container\"><div class=\"sk-container\"><div class=\"sk-item\"><div class=\"sk-estimator sk-toggleable\"><input class=\"sk-toggleable__control sk-hidden--visually\" id=\"5853c842-100c-4cd8-a8b1-34e724393a17\" type=\"checkbox\" checked><label class=\"sk-toggleable__label\" for=\"5853c842-100c-4cd8-a8b1-34e724393a17\">LinearRegression</label><div class=\"sk-toggleable__content\"><pre>LinearRegression()</pre></div></div></div></div></div>"
            ],
            "text/plain": [
              "LinearRegression()"
            ]
          },
          "metadata": {},
          "execution_count": 53
        }
      ]
    },
    {
      "cell_type": "markdown",
      "metadata": {
        "id": "lx60ZF_pdSNf"
      },
      "source": [
        "#### 1-2- Logistic Regression"
      ]
    },
    {
      "cell_type": "code",
      "metadata": {
        "id": "R2hfkpwndVab",
        "colab": {
          "base_uri": "https://localhost:8080/",
          "height": 0
        },
        "outputId": "efd8c40b-d358-49c1-e572-68b09255871b"
      },
      "source": [
        "from sklearn.linear_model import LogisticRegression\n",
        "\n",
        "X, y = X_train_reg, y_train_reg\n",
        "clf = LogisticRegression(random_state=0, max_iter=1000)\n",
        "clf.fit(X, y)"
      ],
      "execution_count": 54,
      "outputs": [
        {
          "output_type": "execute_result",
          "data": {
            "text/html": [
              "<style>#sk-ae658720-b64c-4bee-ac72-f7de175549a9 {color: black;background-color: white;}#sk-ae658720-b64c-4bee-ac72-f7de175549a9 pre{padding: 0;}#sk-ae658720-b64c-4bee-ac72-f7de175549a9 div.sk-toggleable {background-color: white;}#sk-ae658720-b64c-4bee-ac72-f7de175549a9 label.sk-toggleable__label {cursor: pointer;display: block;width: 100%;margin-bottom: 0;padding: 0.2em 0.3em;box-sizing: border-box;text-align: center;}#sk-ae658720-b64c-4bee-ac72-f7de175549a9 div.sk-toggleable__content {max-height: 0;max-width: 0;overflow: hidden;text-align: left;background-color: #f0f8ff;}#sk-ae658720-b64c-4bee-ac72-f7de175549a9 div.sk-toggleable__content pre {margin: 0.2em;color: black;border-radius: 0.25em;background-color: #f0f8ff;}#sk-ae658720-b64c-4bee-ac72-f7de175549a9 input.sk-toggleable__control:checked~div.sk-toggleable__content {max-height: 200px;max-width: 100%;overflow: auto;}#sk-ae658720-b64c-4bee-ac72-f7de175549a9 div.sk-estimator input.sk-toggleable__control:checked~label.sk-toggleable__label {background-color: #d4ebff;}#sk-ae658720-b64c-4bee-ac72-f7de175549a9 div.sk-label input.sk-toggleable__control:checked~label.sk-toggleable__label {background-color: #d4ebff;}#sk-ae658720-b64c-4bee-ac72-f7de175549a9 input.sk-hidden--visually {border: 0;clip: rect(1px 1px 1px 1px);clip: rect(1px, 1px, 1px, 1px);height: 1px;margin: -1px;overflow: hidden;padding: 0;position: absolute;width: 1px;}#sk-ae658720-b64c-4bee-ac72-f7de175549a9 div.sk-estimator {font-family: monospace;background-color: #f0f8ff;margin: 0.25em 0.25em;border: 1px dotted black;border-radius: 0.25em;box-sizing: border-box;}#sk-ae658720-b64c-4bee-ac72-f7de175549a9 div.sk-estimator:hover {background-color: #d4ebff;}#sk-ae658720-b64c-4bee-ac72-f7de175549a9 div.sk-parallel-item::after {content: \"\";width: 100%;border-bottom: 1px solid gray;flex-grow: 1;}#sk-ae658720-b64c-4bee-ac72-f7de175549a9 div.sk-label:hover label.sk-toggleable__label {background-color: #d4ebff;}#sk-ae658720-b64c-4bee-ac72-f7de175549a9 div.sk-serial::before {content: \"\";position: absolute;border-left: 1px solid gray;box-sizing: border-box;top: 2em;bottom: 0;left: 50%;}#sk-ae658720-b64c-4bee-ac72-f7de175549a9 div.sk-serial {display: flex;flex-direction: column;align-items: center;background-color: white;}#sk-ae658720-b64c-4bee-ac72-f7de175549a9 div.sk-item {z-index: 1;}#sk-ae658720-b64c-4bee-ac72-f7de175549a9 div.sk-parallel {display: flex;align-items: stretch;justify-content: center;background-color: white;}#sk-ae658720-b64c-4bee-ac72-f7de175549a9 div.sk-parallel-item {display: flex;flex-direction: column;position: relative;background-color: white;}#sk-ae658720-b64c-4bee-ac72-f7de175549a9 div.sk-parallel-item:first-child::after {align-self: flex-end;width: 50%;}#sk-ae658720-b64c-4bee-ac72-f7de175549a9 div.sk-parallel-item:last-child::after {align-self: flex-start;width: 50%;}#sk-ae658720-b64c-4bee-ac72-f7de175549a9 div.sk-parallel-item:only-child::after {width: 0;}#sk-ae658720-b64c-4bee-ac72-f7de175549a9 div.sk-dashed-wrapped {border: 1px dashed gray;margin: 0.2em;box-sizing: border-box;padding-bottom: 0.1em;background-color: white;position: relative;}#sk-ae658720-b64c-4bee-ac72-f7de175549a9 div.sk-label label {font-family: monospace;font-weight: bold;background-color: white;display: inline-block;line-height: 1.2em;}#sk-ae658720-b64c-4bee-ac72-f7de175549a9 div.sk-label-container {position: relative;z-index: 2;text-align: center;}#sk-ae658720-b64c-4bee-ac72-f7de175549a9 div.sk-container {display: inline-block;position: relative;}</style><div id=\"sk-ae658720-b64c-4bee-ac72-f7de175549a9\" class\"sk-top-container\"><div class=\"sk-container\"><div class=\"sk-item\"><div class=\"sk-estimator sk-toggleable\"><input class=\"sk-toggleable__control sk-hidden--visually\" id=\"8981881b-f3f5-4194-bde9-fd3e89ac4cc9\" type=\"checkbox\" checked><label class=\"sk-toggleable__label\" for=\"8981881b-f3f5-4194-bde9-fd3e89ac4cc9\">LogisticRegression</label><div class=\"sk-toggleable__content\"><pre>LogisticRegression(max_iter=1000, random_state=0)</pre></div></div></div></div></div>"
            ],
            "text/plain": [
              "LogisticRegression(max_iter=1000, random_state=0)"
            ]
          },
          "metadata": {},
          "execution_count": 54
        }
      ]
    },
    {
      "cell_type": "code",
      "metadata": {
        "id": "wVooBKAB0BwV",
        "outputId": "0648c29e-b060-4a10-cb8c-789bee6811b7",
        "colab": {
          "base_uri": "https://localhost:8080/",
          "height": 0
        }
      },
      "source": [
        "from sklearn.ensemble import RandomForestRegressor\n",
        "\n",
        "X, y = X_train_reg, y_train_reg\n",
        "clf = RandomForestRegressor(n_estimators=100, random_state=0)\n",
        "clf.fit(X, y)"
      ],
      "execution_count": 55,
      "outputs": [
        {
          "output_type": "execute_result",
          "data": {
            "text/html": [
              "<style>#sk-6e0201de-8ed8-4594-bdff-07799b3554ae {color: black;background-color: white;}#sk-6e0201de-8ed8-4594-bdff-07799b3554ae pre{padding: 0;}#sk-6e0201de-8ed8-4594-bdff-07799b3554ae div.sk-toggleable {background-color: white;}#sk-6e0201de-8ed8-4594-bdff-07799b3554ae label.sk-toggleable__label {cursor: pointer;display: block;width: 100%;margin-bottom: 0;padding: 0.2em 0.3em;box-sizing: border-box;text-align: center;}#sk-6e0201de-8ed8-4594-bdff-07799b3554ae div.sk-toggleable__content {max-height: 0;max-width: 0;overflow: hidden;text-align: left;background-color: #f0f8ff;}#sk-6e0201de-8ed8-4594-bdff-07799b3554ae div.sk-toggleable__content pre {margin: 0.2em;color: black;border-radius: 0.25em;background-color: #f0f8ff;}#sk-6e0201de-8ed8-4594-bdff-07799b3554ae input.sk-toggleable__control:checked~div.sk-toggleable__content {max-height: 200px;max-width: 100%;overflow: auto;}#sk-6e0201de-8ed8-4594-bdff-07799b3554ae div.sk-estimator input.sk-toggleable__control:checked~label.sk-toggleable__label {background-color: #d4ebff;}#sk-6e0201de-8ed8-4594-bdff-07799b3554ae div.sk-label input.sk-toggleable__control:checked~label.sk-toggleable__label {background-color: #d4ebff;}#sk-6e0201de-8ed8-4594-bdff-07799b3554ae input.sk-hidden--visually {border: 0;clip: rect(1px 1px 1px 1px);clip: rect(1px, 1px, 1px, 1px);height: 1px;margin: -1px;overflow: hidden;padding: 0;position: absolute;width: 1px;}#sk-6e0201de-8ed8-4594-bdff-07799b3554ae div.sk-estimator {font-family: monospace;background-color: #f0f8ff;margin: 0.25em 0.25em;border: 1px dotted black;border-radius: 0.25em;box-sizing: border-box;}#sk-6e0201de-8ed8-4594-bdff-07799b3554ae div.sk-estimator:hover {background-color: #d4ebff;}#sk-6e0201de-8ed8-4594-bdff-07799b3554ae div.sk-parallel-item::after {content: \"\";width: 100%;border-bottom: 1px solid gray;flex-grow: 1;}#sk-6e0201de-8ed8-4594-bdff-07799b3554ae div.sk-label:hover label.sk-toggleable__label {background-color: #d4ebff;}#sk-6e0201de-8ed8-4594-bdff-07799b3554ae div.sk-serial::before {content: \"\";position: absolute;border-left: 1px solid gray;box-sizing: border-box;top: 2em;bottom: 0;left: 50%;}#sk-6e0201de-8ed8-4594-bdff-07799b3554ae div.sk-serial {display: flex;flex-direction: column;align-items: center;background-color: white;}#sk-6e0201de-8ed8-4594-bdff-07799b3554ae div.sk-item {z-index: 1;}#sk-6e0201de-8ed8-4594-bdff-07799b3554ae div.sk-parallel {display: flex;align-items: stretch;justify-content: center;background-color: white;}#sk-6e0201de-8ed8-4594-bdff-07799b3554ae div.sk-parallel-item {display: flex;flex-direction: column;position: relative;background-color: white;}#sk-6e0201de-8ed8-4594-bdff-07799b3554ae div.sk-parallel-item:first-child::after {align-self: flex-end;width: 50%;}#sk-6e0201de-8ed8-4594-bdff-07799b3554ae div.sk-parallel-item:last-child::after {align-self: flex-start;width: 50%;}#sk-6e0201de-8ed8-4594-bdff-07799b3554ae div.sk-parallel-item:only-child::after {width: 0;}#sk-6e0201de-8ed8-4594-bdff-07799b3554ae div.sk-dashed-wrapped {border: 1px dashed gray;margin: 0.2em;box-sizing: border-box;padding-bottom: 0.1em;background-color: white;position: relative;}#sk-6e0201de-8ed8-4594-bdff-07799b3554ae div.sk-label label {font-family: monospace;font-weight: bold;background-color: white;display: inline-block;line-height: 1.2em;}#sk-6e0201de-8ed8-4594-bdff-07799b3554ae div.sk-label-container {position: relative;z-index: 2;text-align: center;}#sk-6e0201de-8ed8-4594-bdff-07799b3554ae div.sk-container {display: inline-block;position: relative;}</style><div id=\"sk-6e0201de-8ed8-4594-bdff-07799b3554ae\" class\"sk-top-container\"><div class=\"sk-container\"><div class=\"sk-item\"><div class=\"sk-estimator sk-toggleable\"><input class=\"sk-toggleable__control sk-hidden--visually\" id=\"0d3f6050-b794-4f3a-96a0-76836c222b8d\" type=\"checkbox\" checked><label class=\"sk-toggleable__label\" for=\"0d3f6050-b794-4f3a-96a0-76836c222b8d\">RandomForestRegressor</label><div class=\"sk-toggleable__content\"><pre>RandomForestRegressor(random_state=0)</pre></div></div></div></div></div>"
            ],
            "text/plain": [
              "RandomForestRegressor(random_state=0)"
            ]
          },
          "metadata": {},
          "execution_count": 55
        }
      ]
    },
    {
      "cell_type": "markdown",
      "metadata": {
        "id": "PDI4yGi9z9r-"
      },
      "source": [
        "#### 1-3- Random Forest Regressor"
      ]
    },
    {
      "cell_type": "markdown",
      "metadata": {
        "id": "M1KSr8EwcVHP"
      },
      "source": [
        "### 2- Classification"
      ]
    },
    {
      "cell_type": "markdown",
      "metadata": {
        "id": "TR5csTrXW6N9"
      },
      "source": [
        "#### 2-1- Desicion Tree"
      ]
    },
    {
      "cell_type": "code",
      "metadata": {
        "colab": {
          "base_uri": "https://localhost:8080/",
          "height": 0
        },
        "id": "a8nKNW-hWLSJ",
        "outputId": "a36ef88c-a258-4917-bec3-b3001d91c827"
      },
      "source": [
        "from sklearn.tree import DecisionTreeClassifier\n",
        "\n",
        "X, y = X_train_cls.select_dtypes(exclude='category'), y_train_cls\n",
        "clf = DecisionTreeClassifier()\n",
        "clf.fit(X, y)"
      ],
      "execution_count": 56,
      "outputs": [
        {
          "output_type": "execute_result",
          "data": {
            "text/html": [
              "<style>#sk-663e7981-698a-41af-b4ed-eb0a7ada3c4e {color: black;background-color: white;}#sk-663e7981-698a-41af-b4ed-eb0a7ada3c4e pre{padding: 0;}#sk-663e7981-698a-41af-b4ed-eb0a7ada3c4e div.sk-toggleable {background-color: white;}#sk-663e7981-698a-41af-b4ed-eb0a7ada3c4e label.sk-toggleable__label {cursor: pointer;display: block;width: 100%;margin-bottom: 0;padding: 0.2em 0.3em;box-sizing: border-box;text-align: center;}#sk-663e7981-698a-41af-b4ed-eb0a7ada3c4e div.sk-toggleable__content {max-height: 0;max-width: 0;overflow: hidden;text-align: left;background-color: #f0f8ff;}#sk-663e7981-698a-41af-b4ed-eb0a7ada3c4e div.sk-toggleable__content pre {margin: 0.2em;color: black;border-radius: 0.25em;background-color: #f0f8ff;}#sk-663e7981-698a-41af-b4ed-eb0a7ada3c4e input.sk-toggleable__control:checked~div.sk-toggleable__content {max-height: 200px;max-width: 100%;overflow: auto;}#sk-663e7981-698a-41af-b4ed-eb0a7ada3c4e div.sk-estimator input.sk-toggleable__control:checked~label.sk-toggleable__label {background-color: #d4ebff;}#sk-663e7981-698a-41af-b4ed-eb0a7ada3c4e div.sk-label input.sk-toggleable__control:checked~label.sk-toggleable__label {background-color: #d4ebff;}#sk-663e7981-698a-41af-b4ed-eb0a7ada3c4e input.sk-hidden--visually {border: 0;clip: rect(1px 1px 1px 1px);clip: rect(1px, 1px, 1px, 1px);height: 1px;margin: -1px;overflow: hidden;padding: 0;position: absolute;width: 1px;}#sk-663e7981-698a-41af-b4ed-eb0a7ada3c4e div.sk-estimator {font-family: monospace;background-color: #f0f8ff;margin: 0.25em 0.25em;border: 1px dotted black;border-radius: 0.25em;box-sizing: border-box;}#sk-663e7981-698a-41af-b4ed-eb0a7ada3c4e div.sk-estimator:hover {background-color: #d4ebff;}#sk-663e7981-698a-41af-b4ed-eb0a7ada3c4e div.sk-parallel-item::after {content: \"\";width: 100%;border-bottom: 1px solid gray;flex-grow: 1;}#sk-663e7981-698a-41af-b4ed-eb0a7ada3c4e div.sk-label:hover label.sk-toggleable__label {background-color: #d4ebff;}#sk-663e7981-698a-41af-b4ed-eb0a7ada3c4e div.sk-serial::before {content: \"\";position: absolute;border-left: 1px solid gray;box-sizing: border-box;top: 2em;bottom: 0;left: 50%;}#sk-663e7981-698a-41af-b4ed-eb0a7ada3c4e div.sk-serial {display: flex;flex-direction: column;align-items: center;background-color: white;}#sk-663e7981-698a-41af-b4ed-eb0a7ada3c4e div.sk-item {z-index: 1;}#sk-663e7981-698a-41af-b4ed-eb0a7ada3c4e div.sk-parallel {display: flex;align-items: stretch;justify-content: center;background-color: white;}#sk-663e7981-698a-41af-b4ed-eb0a7ada3c4e div.sk-parallel-item {display: flex;flex-direction: column;position: relative;background-color: white;}#sk-663e7981-698a-41af-b4ed-eb0a7ada3c4e div.sk-parallel-item:first-child::after {align-self: flex-end;width: 50%;}#sk-663e7981-698a-41af-b4ed-eb0a7ada3c4e div.sk-parallel-item:last-child::after {align-self: flex-start;width: 50%;}#sk-663e7981-698a-41af-b4ed-eb0a7ada3c4e div.sk-parallel-item:only-child::after {width: 0;}#sk-663e7981-698a-41af-b4ed-eb0a7ada3c4e div.sk-dashed-wrapped {border: 1px dashed gray;margin: 0.2em;box-sizing: border-box;padding-bottom: 0.1em;background-color: white;position: relative;}#sk-663e7981-698a-41af-b4ed-eb0a7ada3c4e div.sk-label label {font-family: monospace;font-weight: bold;background-color: white;display: inline-block;line-height: 1.2em;}#sk-663e7981-698a-41af-b4ed-eb0a7ada3c4e div.sk-label-container {position: relative;z-index: 2;text-align: center;}#sk-663e7981-698a-41af-b4ed-eb0a7ada3c4e div.sk-container {display: inline-block;position: relative;}</style><div id=\"sk-663e7981-698a-41af-b4ed-eb0a7ada3c4e\" class\"sk-top-container\"><div class=\"sk-container\"><div class=\"sk-item\"><div class=\"sk-estimator sk-toggleable\"><input class=\"sk-toggleable__control sk-hidden--visually\" id=\"1dfe9c49-faf5-4d69-ae97-01c1c75e57a1\" type=\"checkbox\" checked><label class=\"sk-toggleable__label\" for=\"1dfe9c49-faf5-4d69-ae97-01c1c75e57a1\">DecisionTreeClassifier</label><div class=\"sk-toggleable__content\"><pre>DecisionTreeClassifier()</pre></div></div></div></div></div>"
            ],
            "text/plain": [
              "DecisionTreeClassifier()"
            ]
          },
          "metadata": {},
          "execution_count": 56
        }
      ]
    },
    {
      "cell_type": "markdown",
      "metadata": {
        "id": "iumIY0YNjEDP"
      },
      "source": [
        "### 3- Model features"
      ]
    },
    {
      "cell_type": "code",
      "metadata": {
        "colab": {
          "base_uri": "https://localhost:8080/",
          "height": 0
        },
        "id": "LmljVVFEjH4a",
        "outputId": "e1d1570a-ebe1-4333-d82c-37244f9d10bc"
      },
      "source": [
        "clf.__class__.__name__"
      ],
      "execution_count": 57,
      "outputs": [
        {
          "output_type": "execute_result",
          "data": {
            "application/vnd.google.colaboratory.intrinsic+json": {
              "type": "string"
            },
            "text/plain": [
              "'DecisionTreeClassifier'"
            ]
          },
          "metadata": {},
          "execution_count": 57
        }
      ]
    },
    {
      "cell_type": "markdown",
      "metadata": {
        "id": "E50eqPZ7YdcH"
      },
      "source": [
        "## Evaluation"
      ]
    },
    {
      "cell_type": "markdown",
      "metadata": {
        "id": "VvFJ53IFnoOj"
      },
      "source": [
        "Predict and evaluate model performance on a model"
      ]
    },
    {
      "cell_type": "markdown",
      "metadata": {
        "id": "N6us3z3CZmxI"
      },
      "source": [
        "### 1- Regression"
      ]
    },
    {
      "cell_type": "code",
      "metadata": {
        "id": "Aows5z6vncTE",
        "colab": {
          "base_uri": "https://localhost:8080/",
          "height": 72
        },
        "outputId": "c9f602b1-030e-4e62-87c8-317d0f210782"
      },
      "source": [
        "X, y, X_test, y_test = X_train_reg, y_train_reg, X_test_reg, y_test_reg\n",
        "clf = LinearRegression()\n",
        "clf.fit(X, y)"
      ],
      "execution_count": 58,
      "outputs": [
        {
          "output_type": "execute_result",
          "data": {
            "text/html": [
              "<style>#sk-2b582078-e884-4fc0-bcdb-2ab52bcf591a {color: black;background-color: white;}#sk-2b582078-e884-4fc0-bcdb-2ab52bcf591a pre{padding: 0;}#sk-2b582078-e884-4fc0-bcdb-2ab52bcf591a div.sk-toggleable {background-color: white;}#sk-2b582078-e884-4fc0-bcdb-2ab52bcf591a label.sk-toggleable__label {cursor: pointer;display: block;width: 100%;margin-bottom: 0;padding: 0.2em 0.3em;box-sizing: border-box;text-align: center;}#sk-2b582078-e884-4fc0-bcdb-2ab52bcf591a div.sk-toggleable__content {max-height: 0;max-width: 0;overflow: hidden;text-align: left;background-color: #f0f8ff;}#sk-2b582078-e884-4fc0-bcdb-2ab52bcf591a div.sk-toggleable__content pre {margin: 0.2em;color: black;border-radius: 0.25em;background-color: #f0f8ff;}#sk-2b582078-e884-4fc0-bcdb-2ab52bcf591a input.sk-toggleable__control:checked~div.sk-toggleable__content {max-height: 200px;max-width: 100%;overflow: auto;}#sk-2b582078-e884-4fc0-bcdb-2ab52bcf591a div.sk-estimator input.sk-toggleable__control:checked~label.sk-toggleable__label {background-color: #d4ebff;}#sk-2b582078-e884-4fc0-bcdb-2ab52bcf591a div.sk-label input.sk-toggleable__control:checked~label.sk-toggleable__label {background-color: #d4ebff;}#sk-2b582078-e884-4fc0-bcdb-2ab52bcf591a input.sk-hidden--visually {border: 0;clip: rect(1px 1px 1px 1px);clip: rect(1px, 1px, 1px, 1px);height: 1px;margin: -1px;overflow: hidden;padding: 0;position: absolute;width: 1px;}#sk-2b582078-e884-4fc0-bcdb-2ab52bcf591a div.sk-estimator {font-family: monospace;background-color: #f0f8ff;margin: 0.25em 0.25em;border: 1px dotted black;border-radius: 0.25em;box-sizing: border-box;}#sk-2b582078-e884-4fc0-bcdb-2ab52bcf591a div.sk-estimator:hover {background-color: #d4ebff;}#sk-2b582078-e884-4fc0-bcdb-2ab52bcf591a div.sk-parallel-item::after {content: \"\";width: 100%;border-bottom: 1px solid gray;flex-grow: 1;}#sk-2b582078-e884-4fc0-bcdb-2ab52bcf591a div.sk-label:hover label.sk-toggleable__label {background-color: #d4ebff;}#sk-2b582078-e884-4fc0-bcdb-2ab52bcf591a div.sk-serial::before {content: \"\";position: absolute;border-left: 1px solid gray;box-sizing: border-box;top: 2em;bottom: 0;left: 50%;}#sk-2b582078-e884-4fc0-bcdb-2ab52bcf591a div.sk-serial {display: flex;flex-direction: column;align-items: center;background-color: white;}#sk-2b582078-e884-4fc0-bcdb-2ab52bcf591a div.sk-item {z-index: 1;}#sk-2b582078-e884-4fc0-bcdb-2ab52bcf591a div.sk-parallel {display: flex;align-items: stretch;justify-content: center;background-color: white;}#sk-2b582078-e884-4fc0-bcdb-2ab52bcf591a div.sk-parallel-item {display: flex;flex-direction: column;position: relative;background-color: white;}#sk-2b582078-e884-4fc0-bcdb-2ab52bcf591a div.sk-parallel-item:first-child::after {align-self: flex-end;width: 50%;}#sk-2b582078-e884-4fc0-bcdb-2ab52bcf591a div.sk-parallel-item:last-child::after {align-self: flex-start;width: 50%;}#sk-2b582078-e884-4fc0-bcdb-2ab52bcf591a div.sk-parallel-item:only-child::after {width: 0;}#sk-2b582078-e884-4fc0-bcdb-2ab52bcf591a div.sk-dashed-wrapped {border: 1px dashed gray;margin: 0.2em;box-sizing: border-box;padding-bottom: 0.1em;background-color: white;position: relative;}#sk-2b582078-e884-4fc0-bcdb-2ab52bcf591a div.sk-label label {font-family: monospace;font-weight: bold;background-color: white;display: inline-block;line-height: 1.2em;}#sk-2b582078-e884-4fc0-bcdb-2ab52bcf591a div.sk-label-container {position: relative;z-index: 2;text-align: center;}#sk-2b582078-e884-4fc0-bcdb-2ab52bcf591a div.sk-container {display: inline-block;position: relative;}</style><div id=\"sk-2b582078-e884-4fc0-bcdb-2ab52bcf591a\" class\"sk-top-container\"><div class=\"sk-container\"><div class=\"sk-item\"><div class=\"sk-estimator sk-toggleable\"><input class=\"sk-toggleable__control sk-hidden--visually\" id=\"f0c2b674-5924-4743-8309-98078039fe8c\" type=\"checkbox\" checked><label class=\"sk-toggleable__label\" for=\"f0c2b674-5924-4743-8309-98078039fe8c\">LinearRegression</label><div class=\"sk-toggleable__content\"><pre>LinearRegression()</pre></div></div></div></div></div>"
            ],
            "text/plain": [
              "LinearRegression()"
            ]
          },
          "metadata": {},
          "execution_count": 58
        }
      ]
    },
    {
      "cell_type": "code",
      "metadata": {
        "id": "MKIIRFhAdE5K",
        "colab": {
          "base_uri": "https://localhost:8080/"
        },
        "outputId": "44ccede8-17b6-44f1-a780-fe728de5585e"
      },
      "source": [
        "y_pred = clf.predict(X_test)\n",
        "y_pred[:5]"
      ],
      "execution_count": 59,
      "outputs": [
        {
          "output_type": "execute_result",
          "data": {
            "text/plain": [
              "array([122.41932407, 111.48365055, 184.18558652,  68.52087272,\n",
              "       171.44221745])"
            ]
          },
          "metadata": {},
          "execution_count": 59
        }
      ]
    },
    {
      "cell_type": "code",
      "metadata": {
        "colab": {
          "base_uri": "https://localhost:8080/"
        },
        "id": "drGhBC-ngAD-",
        "outputId": "cd2bef59-08f7-4c6b-cbc8-9567e94989cd"
      },
      "source": [
        "from sklearn.metrics import mean_absolute_error, mean_squared_error\n",
        "\n",
        "MAE = mean_absolute_error(y_test, y_pred).round()\n",
        "MSE = mean_squared_error(y_test, y_pred).round()\n",
        "\n",
        "MAE, MSE"
      ],
      "execution_count": 60,
      "outputs": [
        {
          "output_type": "execute_result",
          "data": {
            "text/plain": [
              "(43.0, 3320.0)"
            ]
          },
          "metadata": {},
          "execution_count": 60
        }
      ]
    },
    {
      "cell_type": "markdown",
      "metadata": {
        "id": "Ek-fE0RSeIrW"
      },
      "source": [
        "### 2- Classification"
      ]
    },
    {
      "cell_type": "code",
      "metadata": {
        "colab": {
          "base_uri": "https://localhost:8080/",
          "height": 72
        },
        "id": "Z35I955HeSeb",
        "outputId": "bb6d3795-bfbb-4ec6-96d7-a59985979fdc"
      },
      "source": [
        "X, y, X_test, y_test = X_train_cls, y_train_cls, X_test_cls, y_test_cls\n",
        "clf = DecisionTreeClassifier()\n",
        "clf.fit(X, y)"
      ],
      "execution_count": 61,
      "outputs": [
        {
          "output_type": "execute_result",
          "data": {
            "text/html": [
              "<style>#sk-621ca7c7-ff91-4373-bfe3-9495defec72d {color: black;background-color: white;}#sk-621ca7c7-ff91-4373-bfe3-9495defec72d pre{padding: 0;}#sk-621ca7c7-ff91-4373-bfe3-9495defec72d div.sk-toggleable {background-color: white;}#sk-621ca7c7-ff91-4373-bfe3-9495defec72d label.sk-toggleable__label {cursor: pointer;display: block;width: 100%;margin-bottom: 0;padding: 0.2em 0.3em;box-sizing: border-box;text-align: center;}#sk-621ca7c7-ff91-4373-bfe3-9495defec72d div.sk-toggleable__content {max-height: 0;max-width: 0;overflow: hidden;text-align: left;background-color: #f0f8ff;}#sk-621ca7c7-ff91-4373-bfe3-9495defec72d div.sk-toggleable__content pre {margin: 0.2em;color: black;border-radius: 0.25em;background-color: #f0f8ff;}#sk-621ca7c7-ff91-4373-bfe3-9495defec72d input.sk-toggleable__control:checked~div.sk-toggleable__content {max-height: 200px;max-width: 100%;overflow: auto;}#sk-621ca7c7-ff91-4373-bfe3-9495defec72d div.sk-estimator input.sk-toggleable__control:checked~label.sk-toggleable__label {background-color: #d4ebff;}#sk-621ca7c7-ff91-4373-bfe3-9495defec72d div.sk-label input.sk-toggleable__control:checked~label.sk-toggleable__label {background-color: #d4ebff;}#sk-621ca7c7-ff91-4373-bfe3-9495defec72d input.sk-hidden--visually {border: 0;clip: rect(1px 1px 1px 1px);clip: rect(1px, 1px, 1px, 1px);height: 1px;margin: -1px;overflow: hidden;padding: 0;position: absolute;width: 1px;}#sk-621ca7c7-ff91-4373-bfe3-9495defec72d div.sk-estimator {font-family: monospace;background-color: #f0f8ff;margin: 0.25em 0.25em;border: 1px dotted black;border-radius: 0.25em;box-sizing: border-box;}#sk-621ca7c7-ff91-4373-bfe3-9495defec72d div.sk-estimator:hover {background-color: #d4ebff;}#sk-621ca7c7-ff91-4373-bfe3-9495defec72d div.sk-parallel-item::after {content: \"\";width: 100%;border-bottom: 1px solid gray;flex-grow: 1;}#sk-621ca7c7-ff91-4373-bfe3-9495defec72d div.sk-label:hover label.sk-toggleable__label {background-color: #d4ebff;}#sk-621ca7c7-ff91-4373-bfe3-9495defec72d div.sk-serial::before {content: \"\";position: absolute;border-left: 1px solid gray;box-sizing: border-box;top: 2em;bottom: 0;left: 50%;}#sk-621ca7c7-ff91-4373-bfe3-9495defec72d div.sk-serial {display: flex;flex-direction: column;align-items: center;background-color: white;}#sk-621ca7c7-ff91-4373-bfe3-9495defec72d div.sk-item {z-index: 1;}#sk-621ca7c7-ff91-4373-bfe3-9495defec72d div.sk-parallel {display: flex;align-items: stretch;justify-content: center;background-color: white;}#sk-621ca7c7-ff91-4373-bfe3-9495defec72d div.sk-parallel-item {display: flex;flex-direction: column;position: relative;background-color: white;}#sk-621ca7c7-ff91-4373-bfe3-9495defec72d div.sk-parallel-item:first-child::after {align-self: flex-end;width: 50%;}#sk-621ca7c7-ff91-4373-bfe3-9495defec72d div.sk-parallel-item:last-child::after {align-self: flex-start;width: 50%;}#sk-621ca7c7-ff91-4373-bfe3-9495defec72d div.sk-parallel-item:only-child::after {width: 0;}#sk-621ca7c7-ff91-4373-bfe3-9495defec72d div.sk-dashed-wrapped {border: 1px dashed gray;margin: 0.2em;box-sizing: border-box;padding-bottom: 0.1em;background-color: white;position: relative;}#sk-621ca7c7-ff91-4373-bfe3-9495defec72d div.sk-label label {font-family: monospace;font-weight: bold;background-color: white;display: inline-block;line-height: 1.2em;}#sk-621ca7c7-ff91-4373-bfe3-9495defec72d div.sk-label-container {position: relative;z-index: 2;text-align: center;}#sk-621ca7c7-ff91-4373-bfe3-9495defec72d div.sk-container {display: inline-block;position: relative;}</style><div id=\"sk-621ca7c7-ff91-4373-bfe3-9495defec72d\" class\"sk-top-container\"><div class=\"sk-container\"><div class=\"sk-item\"><div class=\"sk-estimator sk-toggleable\"><input class=\"sk-toggleable__control sk-hidden--visually\" id=\"24fc6bf1-460a-428d-afcc-a5c8c006597b\" type=\"checkbox\" checked><label class=\"sk-toggleable__label\" for=\"24fc6bf1-460a-428d-afcc-a5c8c006597b\">DecisionTreeClassifier</label><div class=\"sk-toggleable__content\"><pre>DecisionTreeClassifier()</pre></div></div></div></div></div>"
            ],
            "text/plain": [
              "DecisionTreeClassifier()"
            ]
          },
          "metadata": {},
          "execution_count": 61
        }
      ]
    },
    {
      "cell_type": "code",
      "metadata": {
        "colab": {
          "base_uri": "https://localhost:8080/"
        },
        "id": "LrvoUXfEeiiy",
        "outputId": "da084ede-b424-4d8f-a3ff-2dd396c20b2a"
      },
      "source": [
        "y_pred = clf.predict(X_test)\n",
        "y_pred[:5]"
      ],
      "execution_count": 62,
      "outputs": [
        {
          "output_type": "execute_result",
          "data": {
            "text/plain": [
              "array(['<=50K', '<=50K', '<=50K', '<=50K', '<=50K'], dtype=object)"
            ]
          },
          "metadata": {},
          "execution_count": 62
        }
      ]
    },
    {
      "cell_type": "code",
      "metadata": {
        "colab": {
          "base_uri": "https://localhost:8080/"
        },
        "id": "rbvB_4r9f4XY",
        "outputId": "9c3dc1ec-20c2-48c0-ea89-0ee400185de2"
      },
      "source": [
        "from sklearn.metrics import accuracy_score, precision_score, recall_score\n",
        "\n",
        "accuracy = accuracy_score(y_test, y_pred).round(3)  # or: clf.score(X_test, y_test)\n",
        "precision = precision_score(y_test, y_pred, pos_label='>50K').round(3)\n",
        "recall = recall_score(y_test, y_pred, pos_label='>50K').round(3)\n",
        "\n",
        "accuracy, precision, recall"
      ],
      "execution_count": 63,
      "outputs": [
        {
          "output_type": "execute_result",
          "data": {
            "text/plain": [
              "(0.797, 0.586, 0.615)"
            ]
          },
          "metadata": {},
          "execution_count": 63
        }
      ]
    },
    {
      "cell_type": "markdown",
      "metadata": {
        "id": "YM9BWsk-1szb"
      },
      "source": [
        "## Pipeline"
      ]
    },
    {
      "cell_type": "code",
      "metadata": {
        "id": "H7ayYr4T1uyE"
      },
      "source": [
        "from sklearn.compose import ColumnTransformer\n",
        "from sklearn.pipeline import Pipeline\n",
        "\n",
        "# define columns\n",
        "numerical_cols = X_cls.select_dtypes(exclude='category').columns.tolist()\n",
        "categorical_cols = list(set(X_cls.columns)-set(categorical_columns))\n",
        "\n",
        "# train test split\n",
        "X, X_test, y, y_test = train_test_split(X_cls, y_cls, random_state=0, test_size=0.2)"
      ],
      "execution_count": 107,
      "outputs": []
    },
    {
      "cell_type": "code",
      "metadata": {
        "id": "nEksk6HdAhkJ",
        "outputId": "ec766fa2-0ba1-4541-ce90-503e3a4dd670",
        "colab": {
          "base_uri": "https://localhost:8080/",
          "height": 199
        }
      },
      "source": [
        "# Preprocessing for numerical data\n",
        "numerical_transformer = SimpleImputer(strategy='median')\n",
        "\n",
        "# Preprocessing for categorical data\n",
        "categorical_transformer = Pipeline(steps=[\n",
        "    ('imputer', SimpleImputer(strategy='most_frequent')),\n",
        "    ('onehot', OneHotEncoder(handle_unknown='ignore'))\n",
        "])\n",
        "\n",
        "# Bundle preprocessing for numerical and categorical data\n",
        "preprocessor = ColumnTransformer(\n",
        "    transformers=[\n",
        "        ('Numerical', numerical_transformer, numerical_cols),\n",
        "        ('Categorical', categorical_transformer, categorical_cols)\n",
        "    ])\n",
        "\n",
        "# Define model\n",
        "model = DecisionTreeClassifier()\n",
        "\n",
        "# Bundle preprocessing and modeling code in a pipeline\n",
        "clf = Pipeline(steps=[('preprocessor', preprocessor),\n",
        "                      ('model', model)\n",
        "                     ])\n",
        "\n",
        "# Preprocessing of training data, fit model \n",
        "clf.fit(X, y)"
      ],
      "execution_count": 108,
      "outputs": [
        {
          "output_type": "execute_result",
          "data": {
            "text/html": [
              "<style>#sk-91a58c3e-a53c-4ef7-b6f5-051f2a946a99 {color: black;background-color: white;}#sk-91a58c3e-a53c-4ef7-b6f5-051f2a946a99 pre{padding: 0;}#sk-91a58c3e-a53c-4ef7-b6f5-051f2a946a99 div.sk-toggleable {background-color: white;}#sk-91a58c3e-a53c-4ef7-b6f5-051f2a946a99 label.sk-toggleable__label {cursor: pointer;display: block;width: 100%;margin-bottom: 0;padding: 0.2em 0.3em;box-sizing: border-box;text-align: center;}#sk-91a58c3e-a53c-4ef7-b6f5-051f2a946a99 div.sk-toggleable__content {max-height: 0;max-width: 0;overflow: hidden;text-align: left;background-color: #f0f8ff;}#sk-91a58c3e-a53c-4ef7-b6f5-051f2a946a99 div.sk-toggleable__content pre {margin: 0.2em;color: black;border-radius: 0.25em;background-color: #f0f8ff;}#sk-91a58c3e-a53c-4ef7-b6f5-051f2a946a99 input.sk-toggleable__control:checked~div.sk-toggleable__content {max-height: 200px;max-width: 100%;overflow: auto;}#sk-91a58c3e-a53c-4ef7-b6f5-051f2a946a99 div.sk-estimator input.sk-toggleable__control:checked~label.sk-toggleable__label {background-color: #d4ebff;}#sk-91a58c3e-a53c-4ef7-b6f5-051f2a946a99 div.sk-label input.sk-toggleable__control:checked~label.sk-toggleable__label {background-color: #d4ebff;}#sk-91a58c3e-a53c-4ef7-b6f5-051f2a946a99 input.sk-hidden--visually {border: 0;clip: rect(1px 1px 1px 1px);clip: rect(1px, 1px, 1px, 1px);height: 1px;margin: -1px;overflow: hidden;padding: 0;position: absolute;width: 1px;}#sk-91a58c3e-a53c-4ef7-b6f5-051f2a946a99 div.sk-estimator {font-family: monospace;background-color: #f0f8ff;margin: 0.25em 0.25em;border: 1px dotted black;border-radius: 0.25em;box-sizing: border-box;}#sk-91a58c3e-a53c-4ef7-b6f5-051f2a946a99 div.sk-estimator:hover {background-color: #d4ebff;}#sk-91a58c3e-a53c-4ef7-b6f5-051f2a946a99 div.sk-parallel-item::after {content: \"\";width: 100%;border-bottom: 1px solid gray;flex-grow: 1;}#sk-91a58c3e-a53c-4ef7-b6f5-051f2a946a99 div.sk-label:hover label.sk-toggleable__label {background-color: #d4ebff;}#sk-91a58c3e-a53c-4ef7-b6f5-051f2a946a99 div.sk-serial::before {content: \"\";position: absolute;border-left: 1px solid gray;box-sizing: border-box;top: 2em;bottom: 0;left: 50%;}#sk-91a58c3e-a53c-4ef7-b6f5-051f2a946a99 div.sk-serial {display: flex;flex-direction: column;align-items: center;background-color: white;}#sk-91a58c3e-a53c-4ef7-b6f5-051f2a946a99 div.sk-item {z-index: 1;}#sk-91a58c3e-a53c-4ef7-b6f5-051f2a946a99 div.sk-parallel {display: flex;align-items: stretch;justify-content: center;background-color: white;}#sk-91a58c3e-a53c-4ef7-b6f5-051f2a946a99 div.sk-parallel-item {display: flex;flex-direction: column;position: relative;background-color: white;}#sk-91a58c3e-a53c-4ef7-b6f5-051f2a946a99 div.sk-parallel-item:first-child::after {align-self: flex-end;width: 50%;}#sk-91a58c3e-a53c-4ef7-b6f5-051f2a946a99 div.sk-parallel-item:last-child::after {align-self: flex-start;width: 50%;}#sk-91a58c3e-a53c-4ef7-b6f5-051f2a946a99 div.sk-parallel-item:only-child::after {width: 0;}#sk-91a58c3e-a53c-4ef7-b6f5-051f2a946a99 div.sk-dashed-wrapped {border: 1px dashed gray;margin: 0.2em;box-sizing: border-box;padding-bottom: 0.1em;background-color: white;position: relative;}#sk-91a58c3e-a53c-4ef7-b6f5-051f2a946a99 div.sk-label label {font-family: monospace;font-weight: bold;background-color: white;display: inline-block;line-height: 1.2em;}#sk-91a58c3e-a53c-4ef7-b6f5-051f2a946a99 div.sk-label-container {position: relative;z-index: 2;text-align: center;}#sk-91a58c3e-a53c-4ef7-b6f5-051f2a946a99 div.sk-container {display: inline-block;position: relative;}</style><div id=\"sk-91a58c3e-a53c-4ef7-b6f5-051f2a946a99\" class\"sk-top-container\"><div class=\"sk-container\"><div class=\"sk-item sk-dashed-wrapped\"><div class=\"sk-label-container\"><div class=\"sk-label sk-toggleable\"><input class=\"sk-toggleable__control sk-hidden--visually\" id=\"52d47b1a-b805-4861-b78f-4a9e13c23f3f\" type=\"checkbox\" ><label class=\"sk-toggleable__label\" for=\"52d47b1a-b805-4861-b78f-4a9e13c23f3f\">Pipeline</label><div class=\"sk-toggleable__content\"><pre>Pipeline(steps=[('preprocessor',\n",
              "                 ColumnTransformer(transformers=[('Numerical',\n",
              "                                                  SimpleImputer(strategy='median'),\n",
              "                                                  ['age', 'fnlwgt',\n",
              "                                                   'education-num',\n",
              "                                                   'capital-gain',\n",
              "                                                   'capital-loss',\n",
              "                                                   'hours-per-week']),\n",
              "                                                 ('Categorical',\n",
              "                                                  Pipeline(steps=[('imputer',\n",
              "                                                                   SimpleImputer(strategy='most_frequent')),\n",
              "                                                                  ('onehot',\n",
              "                                                                   OneHotEncoder(handle_unknown='ignore'))]),\n",
              "                                                  ['hours-per-week',\n",
              "                                                   'capital-gain', 'age',\n",
              "                                                   'capital-loss', 'fnlwgt',\n",
              "                                                   'education-num'])])),\n",
              "                ('model', DecisionTreeClassifier())])</pre></div></div></div><div class=\"sk-serial\"><div class=\"sk-item sk-dashed-wrapped\"><div class=\"sk-label-container\"><div class=\"sk-label sk-toggleable\"><input class=\"sk-toggleable__control sk-hidden--visually\" id=\"c2d84df0-25dc-417e-a146-2f90730602e3\" type=\"checkbox\" ><label class=\"sk-toggleable__label\" for=\"c2d84df0-25dc-417e-a146-2f90730602e3\">preprocessor: ColumnTransformer</label><div class=\"sk-toggleable__content\"><pre>ColumnTransformer(transformers=[('Numerical', SimpleImputer(strategy='median'),\n",
              "                                 ['age', 'fnlwgt', 'education-num',\n",
              "                                  'capital-gain', 'capital-loss',\n",
              "                                  'hours-per-week']),\n",
              "                                ('Categorical',\n",
              "                                 Pipeline(steps=[('imputer',\n",
              "                                                  SimpleImputer(strategy='most_frequent')),\n",
              "                                                 ('onehot',\n",
              "                                                  OneHotEncoder(handle_unknown='ignore'))]),\n",
              "                                 ['hours-per-week', 'capital-gain', 'age',\n",
              "                                  'capital-loss', 'fnlwgt', 'education-num'])])</pre></div></div></div><div class=\"sk-parallel\"><div class=\"sk-parallel-item\"><div class=\"sk-item\"><div class=\"sk-label-container\"><div class=\"sk-label sk-toggleable\"><input class=\"sk-toggleable__control sk-hidden--visually\" id=\"3d9d68c2-afde-4af9-b4af-0efb645e1144\" type=\"checkbox\" ><label class=\"sk-toggleable__label\" for=\"3d9d68c2-afde-4af9-b4af-0efb645e1144\">Numerical</label><div class=\"sk-toggleable__content\"><pre>['age', 'fnlwgt', 'education-num', 'capital-gain', 'capital-loss', 'hours-per-week']</pre></div></div></div><div class=\"sk-serial\"><div class=\"sk-item\"><div class=\"sk-estimator sk-toggleable\"><input class=\"sk-toggleable__control sk-hidden--visually\" id=\"65a35ff6-8862-4b5e-9053-f2cef1ffeafb\" type=\"checkbox\" ><label class=\"sk-toggleable__label\" for=\"65a35ff6-8862-4b5e-9053-f2cef1ffeafb\">SimpleImputer</label><div class=\"sk-toggleable__content\"><pre>SimpleImputer(strategy='median')</pre></div></div></div></div></div></div><div class=\"sk-parallel-item\"><div class=\"sk-item\"><div class=\"sk-label-container\"><div class=\"sk-label sk-toggleable\"><input class=\"sk-toggleable__control sk-hidden--visually\" id=\"34aff8b9-7a1f-43e9-a802-8ea0da900cdd\" type=\"checkbox\" ><label class=\"sk-toggleable__label\" for=\"34aff8b9-7a1f-43e9-a802-8ea0da900cdd\">Categorical</label><div class=\"sk-toggleable__content\"><pre>['hours-per-week', 'capital-gain', 'age', 'capital-loss', 'fnlwgt', 'education-num']</pre></div></div></div><div class=\"sk-serial\"><div class=\"sk-item\"><div class=\"sk-serial\"><div class=\"sk-item\"><div class=\"sk-estimator sk-toggleable\"><input class=\"sk-toggleable__control sk-hidden--visually\" id=\"71b9a7d9-6b63-43b3-b812-28d9b2d4c6cf\" type=\"checkbox\" ><label class=\"sk-toggleable__label\" for=\"71b9a7d9-6b63-43b3-b812-28d9b2d4c6cf\">SimpleImputer</label><div class=\"sk-toggleable__content\"><pre>SimpleImputer(strategy='most_frequent')</pre></div></div></div><div class=\"sk-item\"><div class=\"sk-estimator sk-toggleable\"><input class=\"sk-toggleable__control sk-hidden--visually\" id=\"42c01329-3a16-4ba0-ba46-560a1106a46f\" type=\"checkbox\" ><label class=\"sk-toggleable__label\" for=\"42c01329-3a16-4ba0-ba46-560a1106a46f\">OneHotEncoder</label><div class=\"sk-toggleable__content\"><pre>OneHotEncoder(handle_unknown='ignore')</pre></div></div></div></div></div></div></div></div></div></div><div class=\"sk-item\"><div class=\"sk-estimator sk-toggleable\"><input class=\"sk-toggleable__control sk-hidden--visually\" id=\"ad105fe6-7e5e-49aa-82aa-b21a392b1f41\" type=\"checkbox\" ><label class=\"sk-toggleable__label\" for=\"ad105fe6-7e5e-49aa-82aa-b21a392b1f41\">DecisionTreeClassifier</label><div class=\"sk-toggleable__content\"><pre>DecisionTreeClassifier()</pre></div></div></div></div></div></div></div>"
            ],
            "text/plain": [
              "Pipeline(steps=[('preprocessor',\n",
              "                 ColumnTransformer(transformers=[('Numerical',\n",
              "                                                  SimpleImputer(strategy='median'),\n",
              "                                                  ['age', 'fnlwgt',\n",
              "                                                   'education-num',\n",
              "                                                   'capital-gain',\n",
              "                                                   'capital-loss',\n",
              "                                                   'hours-per-week']),\n",
              "                                                 ('Categorical',\n",
              "                                                  Pipeline(steps=[('imputer',\n",
              "                                                                   SimpleImputer(strategy='most_frequent')),\n",
              "                                                                  ('onehot',\n",
              "                                                                   OneHotEncoder(handle_unknown='ignore'))]),\n",
              "                                                  ['hours-per-week',\n",
              "                                                   'capital-gain', 'age',\n",
              "                                                   'capital-loss', 'fnlwgt',\n",
              "                                                   'education-num'])])),\n",
              "                ('model', DecisionTreeClassifier())])"
            ]
          },
          "metadata": {},
          "execution_count": 108
        }
      ]
    },
    {
      "cell_type": "code",
      "metadata": {
        "id": "YUWkSF54AkJc",
        "outputId": "bd1c719a-7c8e-442b-ab02-dec8fec25196",
        "colab": {
          "base_uri": "https://localhost:8080/"
        }
      },
      "source": [
        "# Preprocessing of validation data, get predictions\n",
        "y_pred = clf.predict(X_test)\n",
        "accuracy_score(y_test, y_pred).round(3)"
      ],
      "execution_count": 110,
      "outputs": [
        {
          "output_type": "execute_result",
          "data": {
            "text/plain": [
              "0.81"
            ]
          },
          "metadata": {},
          "execution_count": 110
        }
      ]
    }
  ]
}