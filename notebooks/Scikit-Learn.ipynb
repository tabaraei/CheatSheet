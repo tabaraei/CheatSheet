{
  "nbformat": 4,
  "nbformat_minor": 0,
  "metadata": {
    "colab": {
      "name": "Scikit-Learn.ipynb",
      "provenance": [],
      "collapsed_sections": [],
      "authorship_tag": "ABX9TyPhEOvFSkMDHIjzDAyZBFTw",
      "include_colab_link": true
    },
    "kernelspec": {
      "name": "python3",
      "display_name": "Python 3"
    },
    "language_info": {
      "name": "python"
    }
  },
  "cells": [
    {
      "cell_type": "markdown",
      "metadata": {
        "id": "view-in-github",
        "colab_type": "text"
      },
      "source": [
        "<a href=\"https://colab.research.google.com/github/tabaraei/CheatSheet/blob/master/notebooks/Scikit-Learn.ipynb\" target=\"_parent\"><img src=\"https://colab.research.google.com/assets/colab-badge.svg\" alt=\"Open In Colab\"/></a>"
      ]
    },
    {
      "cell_type": "markdown",
      "metadata": {
        "id": "wQXkS0eTnF2D"
      },
      "source": [
        "## Dataset"
      ]
    },
    {
      "cell_type": "markdown",
      "metadata": {
        "id": "uFphJUCwXdn_"
      },
      "source": [
        "### 1- Load the dataset"
      ]
    },
    {
      "cell_type": "markdown",
      "metadata": {
        "id": "baP13k0uRhOU"
      },
      "source": [
        "Please ensure that you have the latest scikit-learn version.\n",
        "Run `!pip install --upgrade scikit-learn` if necessary.\n",
        "\n",
        "You can load dataset from predifined datasets within sklearn, or using open-source datasets such as [openml](https://www.openml.org)!"
      ]
    },
    {
      "cell_type": "markdown",
      "metadata": {
        "id": "k9s4aPrdPfm7"
      },
      "source": [
        "#### 1-1- Regression data:"
      ]
    },
    {
      "cell_type": "code",
      "metadata": {
        "id": "_NZBnEl7GrfA",
        "outputId": "e7b49757-d6f6-4a1b-a72e-8b49016d7750",
        "colab": {
          "base_uri": "https://localhost:8080/",
          "height": 206
        }
      },
      "source": [
        "from sklearn.datasets import load_iris\n",
        "import pandas as pd\n",
        "\n",
        "dataset = load_iris(as_frame=True)\n",
        "reg_data = pd.DataFrame(dataset.data, columns=dataset.feature_names)\n",
        "reg_target = dataset.target\n",
        "dataset.frame.head()"
      ],
      "execution_count": 38,
      "outputs": [
        {
          "output_type": "execute_result",
          "data": {
            "text/html": [
              "<div>\n",
              "<style scoped>\n",
              "    .dataframe tbody tr th:only-of-type {\n",
              "        vertical-align: middle;\n",
              "    }\n",
              "\n",
              "    .dataframe tbody tr th {\n",
              "        vertical-align: top;\n",
              "    }\n",
              "\n",
              "    .dataframe thead th {\n",
              "        text-align: right;\n",
              "    }\n",
              "</style>\n",
              "<table border=\"1\" class=\"dataframe\">\n",
              "  <thead>\n",
              "    <tr style=\"text-align: right;\">\n",
              "      <th></th>\n",
              "      <th>sepal length (cm)</th>\n",
              "      <th>sepal width (cm)</th>\n",
              "      <th>petal length (cm)</th>\n",
              "      <th>petal width (cm)</th>\n",
              "      <th>target</th>\n",
              "    </tr>\n",
              "  </thead>\n",
              "  <tbody>\n",
              "    <tr>\n",
              "      <th>0</th>\n",
              "      <td>5.1</td>\n",
              "      <td>3.5</td>\n",
              "      <td>1.4</td>\n",
              "      <td>0.2</td>\n",
              "      <td>0</td>\n",
              "    </tr>\n",
              "    <tr>\n",
              "      <th>1</th>\n",
              "      <td>4.9</td>\n",
              "      <td>3.0</td>\n",
              "      <td>1.4</td>\n",
              "      <td>0.2</td>\n",
              "      <td>0</td>\n",
              "    </tr>\n",
              "    <tr>\n",
              "      <th>2</th>\n",
              "      <td>4.7</td>\n",
              "      <td>3.2</td>\n",
              "      <td>1.3</td>\n",
              "      <td>0.2</td>\n",
              "      <td>0</td>\n",
              "    </tr>\n",
              "    <tr>\n",
              "      <th>3</th>\n",
              "      <td>4.6</td>\n",
              "      <td>3.1</td>\n",
              "      <td>1.5</td>\n",
              "      <td>0.2</td>\n",
              "      <td>0</td>\n",
              "    </tr>\n",
              "    <tr>\n",
              "      <th>4</th>\n",
              "      <td>5.0</td>\n",
              "      <td>3.6</td>\n",
              "      <td>1.4</td>\n",
              "      <td>0.2</td>\n",
              "      <td>0</td>\n",
              "    </tr>\n",
              "  </tbody>\n",
              "</table>\n",
              "</div>"
            ],
            "text/plain": [
              "   sepal length (cm)  sepal width (cm)  ...  petal width (cm)  target\n",
              "0                5.1               3.5  ...               0.2       0\n",
              "1                4.9               3.0  ...               0.2       0\n",
              "2                4.7               3.2  ...               0.2       0\n",
              "3                4.6               3.1  ...               0.2       0\n",
              "4                5.0               3.6  ...               0.2       0\n",
              "\n",
              "[5 rows x 5 columns]"
            ]
          },
          "metadata": {},
          "execution_count": 38
        }
      ]
    },
    {
      "cell_type": "markdown",
      "metadata": {
        "id": "TZwic34NPRel"
      },
      "source": [
        "#### 1-2- Classification data"
      ]
    },
    {
      "cell_type": "code",
      "metadata": {
        "id": "ZM9xRrLVPEVp",
        "outputId": "f2bd088c-a698-4d18-c626-9e8555ea5887",
        "colab": {
          "base_uri": "https://localhost:8080/",
          "height": 327
        }
      },
      "source": [
        "from sklearn.datasets import fetch_openml\n",
        "import pandas as pd\n",
        "\n",
        "dataset = fetch_openml(name='adult', version=2, as_frame=True)\n",
        "cls_data = pd.DataFrame(dataset.data, columns=dataset.feature_names)\n",
        "cls_target = dataset.target\n",
        "dataset.frame.head()"
      ],
      "execution_count": 39,
      "outputs": [
        {
          "output_type": "execute_result",
          "data": {
            "text/html": [
              "<div>\n",
              "<style scoped>\n",
              "    .dataframe tbody tr th:only-of-type {\n",
              "        vertical-align: middle;\n",
              "    }\n",
              "\n",
              "    .dataframe tbody tr th {\n",
              "        vertical-align: top;\n",
              "    }\n",
              "\n",
              "    .dataframe thead th {\n",
              "        text-align: right;\n",
              "    }\n",
              "</style>\n",
              "<table border=\"1\" class=\"dataframe\">\n",
              "  <thead>\n",
              "    <tr style=\"text-align: right;\">\n",
              "      <th></th>\n",
              "      <th>age</th>\n",
              "      <th>workclass</th>\n",
              "      <th>fnlwgt</th>\n",
              "      <th>education</th>\n",
              "      <th>education-num</th>\n",
              "      <th>marital-status</th>\n",
              "      <th>occupation</th>\n",
              "      <th>relationship</th>\n",
              "      <th>race</th>\n",
              "      <th>sex</th>\n",
              "      <th>capital-gain</th>\n",
              "      <th>capital-loss</th>\n",
              "      <th>hours-per-week</th>\n",
              "      <th>native-country</th>\n",
              "      <th>class</th>\n",
              "    </tr>\n",
              "  </thead>\n",
              "  <tbody>\n",
              "    <tr>\n",
              "      <th>0</th>\n",
              "      <td>25.0</td>\n",
              "      <td>Private</td>\n",
              "      <td>226802.0</td>\n",
              "      <td>11th</td>\n",
              "      <td>7.0</td>\n",
              "      <td>Never-married</td>\n",
              "      <td>Machine-op-inspct</td>\n",
              "      <td>Own-child</td>\n",
              "      <td>Black</td>\n",
              "      <td>Male</td>\n",
              "      <td>0.0</td>\n",
              "      <td>0.0</td>\n",
              "      <td>40.0</td>\n",
              "      <td>United-States</td>\n",
              "      <td>&lt;=50K</td>\n",
              "    </tr>\n",
              "    <tr>\n",
              "      <th>1</th>\n",
              "      <td>38.0</td>\n",
              "      <td>Private</td>\n",
              "      <td>89814.0</td>\n",
              "      <td>HS-grad</td>\n",
              "      <td>9.0</td>\n",
              "      <td>Married-civ-spouse</td>\n",
              "      <td>Farming-fishing</td>\n",
              "      <td>Husband</td>\n",
              "      <td>White</td>\n",
              "      <td>Male</td>\n",
              "      <td>0.0</td>\n",
              "      <td>0.0</td>\n",
              "      <td>50.0</td>\n",
              "      <td>United-States</td>\n",
              "      <td>&lt;=50K</td>\n",
              "    </tr>\n",
              "    <tr>\n",
              "      <th>2</th>\n",
              "      <td>28.0</td>\n",
              "      <td>Local-gov</td>\n",
              "      <td>336951.0</td>\n",
              "      <td>Assoc-acdm</td>\n",
              "      <td>12.0</td>\n",
              "      <td>Married-civ-spouse</td>\n",
              "      <td>Protective-serv</td>\n",
              "      <td>Husband</td>\n",
              "      <td>White</td>\n",
              "      <td>Male</td>\n",
              "      <td>0.0</td>\n",
              "      <td>0.0</td>\n",
              "      <td>40.0</td>\n",
              "      <td>United-States</td>\n",
              "      <td>&gt;50K</td>\n",
              "    </tr>\n",
              "    <tr>\n",
              "      <th>3</th>\n",
              "      <td>44.0</td>\n",
              "      <td>Private</td>\n",
              "      <td>160323.0</td>\n",
              "      <td>Some-college</td>\n",
              "      <td>10.0</td>\n",
              "      <td>Married-civ-spouse</td>\n",
              "      <td>Machine-op-inspct</td>\n",
              "      <td>Husband</td>\n",
              "      <td>Black</td>\n",
              "      <td>Male</td>\n",
              "      <td>7688.0</td>\n",
              "      <td>0.0</td>\n",
              "      <td>40.0</td>\n",
              "      <td>United-States</td>\n",
              "      <td>&gt;50K</td>\n",
              "    </tr>\n",
              "    <tr>\n",
              "      <th>4</th>\n",
              "      <td>18.0</td>\n",
              "      <td>NaN</td>\n",
              "      <td>103497.0</td>\n",
              "      <td>Some-college</td>\n",
              "      <td>10.0</td>\n",
              "      <td>Never-married</td>\n",
              "      <td>NaN</td>\n",
              "      <td>Own-child</td>\n",
              "      <td>White</td>\n",
              "      <td>Female</td>\n",
              "      <td>0.0</td>\n",
              "      <td>0.0</td>\n",
              "      <td>30.0</td>\n",
              "      <td>United-States</td>\n",
              "      <td>&lt;=50K</td>\n",
              "    </tr>\n",
              "  </tbody>\n",
              "</table>\n",
              "</div>"
            ],
            "text/plain": [
              "    age  workclass    fnlwgt  ... hours-per-week  native-country  class\n",
              "0  25.0    Private  226802.0  ...           40.0   United-States  <=50K\n",
              "1  38.0    Private   89814.0  ...           50.0   United-States  <=50K\n",
              "2  28.0  Local-gov  336951.0  ...           40.0   United-States   >50K\n",
              "3  44.0    Private  160323.0  ...           40.0   United-States   >50K\n",
              "4  18.0        NaN  103497.0  ...           30.0   United-States  <=50K\n",
              "\n",
              "[5 rows x 15 columns]"
            ]
          },
          "metadata": {},
          "execution_count": 39
        }
      ]
    },
    {
      "cell_type": "markdown",
      "metadata": {
        "id": "mbB9Oxu9ZrlW"
      },
      "source": [
        "### 2- Train Test Split"
      ]
    },
    {
      "cell_type": "code",
      "metadata": {
        "id": "r_rkiiFMZzrU"
      },
      "source": [
        "from sklearn.model_selection import train_test_split\n",
        "\n",
        "X_train_reg, X_test_reg, y_train_reg, y_test_reg = \\\n",
        "    train_test_split(reg_data, reg_target, random_state=1, test_size=0.1)\n",
        "    \n",
        "X_train_cls, X_test_cls, y_train_cls, y_test_cls = \\\n",
        "    train_test_split(cls_data, cls_target, random_state=1, test_size=0.1)"
      ],
      "execution_count": 40,
      "outputs": []
    },
    {
      "cell_type": "markdown",
      "metadata": {
        "id": "2vb6Y63cosYk"
      },
      "source": [
        "## Preprocessing"
      ]
    },
    {
      "cell_type": "code",
      "metadata": {
        "id": "ReV0bpQCoxaw"
      },
      "source": [
        "from sklearn.preprocessing import OrdinalEncoder\n",
        "\n",
        "ordinal_encoder = OrdinalEncoder()"
      ],
      "execution_count": null,
      "outputs": []
    },
    {
      "cell_type": "code",
      "metadata": {
        "id": "t71WZIfFozsh"
      },
      "source": [
        "from sklearn.preprocessing import StandardScaler\n",
        "\n",
        "scaler = StandardScaler()\n",
        "scaler.fit(data_train)"
      ],
      "execution_count": null,
      "outputs": []
    },
    {
      "cell_type": "markdown",
      "metadata": {
        "id": "oHiNU2vELxcs"
      },
      "source": [
        "## Model"
      ]
    },
    {
      "cell_type": "markdown",
      "metadata": {
        "id": "p3pLi1hhWvck"
      },
      "source": [
        "Activate the diagram display to see the visualized model."
      ]
    },
    {
      "cell_type": "code",
      "metadata": {
        "id": "DxFVQKvzWuNe"
      },
      "source": [
        "from sklearn import set_config\n",
        "set_config(display='diagram')"
      ],
      "execution_count": 43,
      "outputs": []
    },
    {
      "cell_type": "markdown",
      "metadata": {
        "id": "oyL0f83nbjvN"
      },
      "source": [
        "### 1- Regression"
      ]
    },
    {
      "cell_type": "markdown",
      "metadata": {
        "id": "zq5n1z4wgLnG"
      },
      "source": [
        "#### 1-1- Linear Regression"
      ]
    },
    {
      "cell_type": "code",
      "metadata": {
        "id": "nDd-xkOrlYLj",
        "outputId": "0d81b70b-ac4b-4e21-a194-a5bb09d107a5",
        "colab": {
          "base_uri": "https://localhost:8080/",
          "height": 72
        }
      },
      "source": [
        "from sklearn.linear_model import LinearRegression\n",
        "\n",
        "X, y = X_train_reg, y_train_reg\n",
        "clf = LinearRegression()\n",
        "clf.fit(X, y)"
      ],
      "execution_count": 46,
      "outputs": [
        {
          "output_type": "execute_result",
          "data": {
            "text/html": [
              "<style>#sk-7ee98a90-36ce-4b60-9031-3bf77e5a7364 {color: black;background-color: white;}#sk-7ee98a90-36ce-4b60-9031-3bf77e5a7364 pre{padding: 0;}#sk-7ee98a90-36ce-4b60-9031-3bf77e5a7364 div.sk-toggleable {background-color: white;}#sk-7ee98a90-36ce-4b60-9031-3bf77e5a7364 label.sk-toggleable__label {cursor: pointer;display: block;width: 100%;margin-bottom: 0;padding: 0.2em 0.3em;box-sizing: border-box;text-align: center;}#sk-7ee98a90-36ce-4b60-9031-3bf77e5a7364 div.sk-toggleable__content {max-height: 0;max-width: 0;overflow: hidden;text-align: left;background-color: #f0f8ff;}#sk-7ee98a90-36ce-4b60-9031-3bf77e5a7364 div.sk-toggleable__content pre {margin: 0.2em;color: black;border-radius: 0.25em;background-color: #f0f8ff;}#sk-7ee98a90-36ce-4b60-9031-3bf77e5a7364 input.sk-toggleable__control:checked~div.sk-toggleable__content {max-height: 200px;max-width: 100%;overflow: auto;}#sk-7ee98a90-36ce-4b60-9031-3bf77e5a7364 div.sk-estimator input.sk-toggleable__control:checked~label.sk-toggleable__label {background-color: #d4ebff;}#sk-7ee98a90-36ce-4b60-9031-3bf77e5a7364 div.sk-label input.sk-toggleable__control:checked~label.sk-toggleable__label {background-color: #d4ebff;}#sk-7ee98a90-36ce-4b60-9031-3bf77e5a7364 input.sk-hidden--visually {border: 0;clip: rect(1px 1px 1px 1px);clip: rect(1px, 1px, 1px, 1px);height: 1px;margin: -1px;overflow: hidden;padding: 0;position: absolute;width: 1px;}#sk-7ee98a90-36ce-4b60-9031-3bf77e5a7364 div.sk-estimator {font-family: monospace;background-color: #f0f8ff;margin: 0.25em 0.25em;border: 1px dotted black;border-radius: 0.25em;box-sizing: border-box;}#sk-7ee98a90-36ce-4b60-9031-3bf77e5a7364 div.sk-estimator:hover {background-color: #d4ebff;}#sk-7ee98a90-36ce-4b60-9031-3bf77e5a7364 div.sk-parallel-item::after {content: \"\";width: 100%;border-bottom: 1px solid gray;flex-grow: 1;}#sk-7ee98a90-36ce-4b60-9031-3bf77e5a7364 div.sk-label:hover label.sk-toggleable__label {background-color: #d4ebff;}#sk-7ee98a90-36ce-4b60-9031-3bf77e5a7364 div.sk-serial::before {content: \"\";position: absolute;border-left: 1px solid gray;box-sizing: border-box;top: 2em;bottom: 0;left: 50%;}#sk-7ee98a90-36ce-4b60-9031-3bf77e5a7364 div.sk-serial {display: flex;flex-direction: column;align-items: center;background-color: white;}#sk-7ee98a90-36ce-4b60-9031-3bf77e5a7364 div.sk-item {z-index: 1;}#sk-7ee98a90-36ce-4b60-9031-3bf77e5a7364 div.sk-parallel {display: flex;align-items: stretch;justify-content: center;background-color: white;}#sk-7ee98a90-36ce-4b60-9031-3bf77e5a7364 div.sk-parallel-item {display: flex;flex-direction: column;position: relative;background-color: white;}#sk-7ee98a90-36ce-4b60-9031-3bf77e5a7364 div.sk-parallel-item:first-child::after {align-self: flex-end;width: 50%;}#sk-7ee98a90-36ce-4b60-9031-3bf77e5a7364 div.sk-parallel-item:last-child::after {align-self: flex-start;width: 50%;}#sk-7ee98a90-36ce-4b60-9031-3bf77e5a7364 div.sk-parallel-item:only-child::after {width: 0;}#sk-7ee98a90-36ce-4b60-9031-3bf77e5a7364 div.sk-dashed-wrapped {border: 1px dashed gray;margin: 0.2em;box-sizing: border-box;padding-bottom: 0.1em;background-color: white;position: relative;}#sk-7ee98a90-36ce-4b60-9031-3bf77e5a7364 div.sk-label label {font-family: monospace;font-weight: bold;background-color: white;display: inline-block;line-height: 1.2em;}#sk-7ee98a90-36ce-4b60-9031-3bf77e5a7364 div.sk-label-container {position: relative;z-index: 2;text-align: center;}#sk-7ee98a90-36ce-4b60-9031-3bf77e5a7364 div.sk-container {display: inline-block;position: relative;}</style><div id=\"sk-7ee98a90-36ce-4b60-9031-3bf77e5a7364\" class\"sk-top-container\"><div class=\"sk-container\"><div class=\"sk-item\"><div class=\"sk-estimator sk-toggleable\"><input class=\"sk-toggleable__control sk-hidden--visually\" id=\"1e4a3518-1770-4b7c-8619-caf8c73a40fd\" type=\"checkbox\" checked><label class=\"sk-toggleable__label\" for=\"1e4a3518-1770-4b7c-8619-caf8c73a40fd\">LinearRegression</label><div class=\"sk-toggleable__content\"><pre>LinearRegression()</pre></div></div></div></div></div>"
            ],
            "text/plain": [
              "LinearRegression()"
            ]
          },
          "metadata": {},
          "execution_count": 46
        }
      ]
    },
    {
      "cell_type": "markdown",
      "metadata": {
        "id": "lx60ZF_pdSNf"
      },
      "source": [
        "#### 1-2- Logistic Regression"
      ]
    },
    {
      "cell_type": "code",
      "metadata": {
        "id": "R2hfkpwndVab",
        "outputId": "fd1d58c0-1ee9-4f70-b88f-62861cd78bf1",
        "colab": {
          "base_uri": "https://localhost:8080/",
          "height": 72
        }
      },
      "source": [
        "from sklearn.linear_model import LogisticRegression\n",
        "\n",
        "X, y = X_train_reg, y_train_reg\n",
        "clf = LogisticRegression(random_state=0, max_iter=1000)\n",
        "clf.fit(X, y)"
      ],
      "execution_count": 48,
      "outputs": [
        {
          "output_type": "execute_result",
          "data": {
            "text/html": [
              "<style>#sk-b2721278-54fd-4028-959b-6b2bd2a34ff9 {color: black;background-color: white;}#sk-b2721278-54fd-4028-959b-6b2bd2a34ff9 pre{padding: 0;}#sk-b2721278-54fd-4028-959b-6b2bd2a34ff9 div.sk-toggleable {background-color: white;}#sk-b2721278-54fd-4028-959b-6b2bd2a34ff9 label.sk-toggleable__label {cursor: pointer;display: block;width: 100%;margin-bottom: 0;padding: 0.2em 0.3em;box-sizing: border-box;text-align: center;}#sk-b2721278-54fd-4028-959b-6b2bd2a34ff9 div.sk-toggleable__content {max-height: 0;max-width: 0;overflow: hidden;text-align: left;background-color: #f0f8ff;}#sk-b2721278-54fd-4028-959b-6b2bd2a34ff9 div.sk-toggleable__content pre {margin: 0.2em;color: black;border-radius: 0.25em;background-color: #f0f8ff;}#sk-b2721278-54fd-4028-959b-6b2bd2a34ff9 input.sk-toggleable__control:checked~div.sk-toggleable__content {max-height: 200px;max-width: 100%;overflow: auto;}#sk-b2721278-54fd-4028-959b-6b2bd2a34ff9 div.sk-estimator input.sk-toggleable__control:checked~label.sk-toggleable__label {background-color: #d4ebff;}#sk-b2721278-54fd-4028-959b-6b2bd2a34ff9 div.sk-label input.sk-toggleable__control:checked~label.sk-toggleable__label {background-color: #d4ebff;}#sk-b2721278-54fd-4028-959b-6b2bd2a34ff9 input.sk-hidden--visually {border: 0;clip: rect(1px 1px 1px 1px);clip: rect(1px, 1px, 1px, 1px);height: 1px;margin: -1px;overflow: hidden;padding: 0;position: absolute;width: 1px;}#sk-b2721278-54fd-4028-959b-6b2bd2a34ff9 div.sk-estimator {font-family: monospace;background-color: #f0f8ff;margin: 0.25em 0.25em;border: 1px dotted black;border-radius: 0.25em;box-sizing: border-box;}#sk-b2721278-54fd-4028-959b-6b2bd2a34ff9 div.sk-estimator:hover {background-color: #d4ebff;}#sk-b2721278-54fd-4028-959b-6b2bd2a34ff9 div.sk-parallel-item::after {content: \"\";width: 100%;border-bottom: 1px solid gray;flex-grow: 1;}#sk-b2721278-54fd-4028-959b-6b2bd2a34ff9 div.sk-label:hover label.sk-toggleable__label {background-color: #d4ebff;}#sk-b2721278-54fd-4028-959b-6b2bd2a34ff9 div.sk-serial::before {content: \"\";position: absolute;border-left: 1px solid gray;box-sizing: border-box;top: 2em;bottom: 0;left: 50%;}#sk-b2721278-54fd-4028-959b-6b2bd2a34ff9 div.sk-serial {display: flex;flex-direction: column;align-items: center;background-color: white;}#sk-b2721278-54fd-4028-959b-6b2bd2a34ff9 div.sk-item {z-index: 1;}#sk-b2721278-54fd-4028-959b-6b2bd2a34ff9 div.sk-parallel {display: flex;align-items: stretch;justify-content: center;background-color: white;}#sk-b2721278-54fd-4028-959b-6b2bd2a34ff9 div.sk-parallel-item {display: flex;flex-direction: column;position: relative;background-color: white;}#sk-b2721278-54fd-4028-959b-6b2bd2a34ff9 div.sk-parallel-item:first-child::after {align-self: flex-end;width: 50%;}#sk-b2721278-54fd-4028-959b-6b2bd2a34ff9 div.sk-parallel-item:last-child::after {align-self: flex-start;width: 50%;}#sk-b2721278-54fd-4028-959b-6b2bd2a34ff9 div.sk-parallel-item:only-child::after {width: 0;}#sk-b2721278-54fd-4028-959b-6b2bd2a34ff9 div.sk-dashed-wrapped {border: 1px dashed gray;margin: 0.2em;box-sizing: border-box;padding-bottom: 0.1em;background-color: white;position: relative;}#sk-b2721278-54fd-4028-959b-6b2bd2a34ff9 div.sk-label label {font-family: monospace;font-weight: bold;background-color: white;display: inline-block;line-height: 1.2em;}#sk-b2721278-54fd-4028-959b-6b2bd2a34ff9 div.sk-label-container {position: relative;z-index: 2;text-align: center;}#sk-b2721278-54fd-4028-959b-6b2bd2a34ff9 div.sk-container {display: inline-block;position: relative;}</style><div id=\"sk-b2721278-54fd-4028-959b-6b2bd2a34ff9\" class\"sk-top-container\"><div class=\"sk-container\"><div class=\"sk-item\"><div class=\"sk-estimator sk-toggleable\"><input class=\"sk-toggleable__control sk-hidden--visually\" id=\"ace09c79-12a1-4b4f-b99e-d07fd524d675\" type=\"checkbox\" checked><label class=\"sk-toggleable__label\" for=\"ace09c79-12a1-4b4f-b99e-d07fd524d675\">LogisticRegression</label><div class=\"sk-toggleable__content\"><pre>LogisticRegression(max_iter=1000, random_state=0)</pre></div></div></div></div></div>"
            ],
            "text/plain": [
              "LogisticRegression(max_iter=1000, random_state=0)"
            ]
          },
          "metadata": {},
          "execution_count": 48
        }
      ]
    },
    {
      "cell_type": "markdown",
      "metadata": {
        "id": "M1KSr8EwcVHP"
      },
      "source": [
        "### 2- Classification"
      ]
    },
    {
      "cell_type": "markdown",
      "metadata": {
        "id": "TR5csTrXW6N9"
      },
      "source": [
        "#### 2-1- Desicion Tree"
      ]
    },
    {
      "cell_type": "code",
      "metadata": {
        "colab": {
          "base_uri": "https://localhost:8080/",
          "height": 72
        },
        "id": "a8nKNW-hWLSJ",
        "outputId": "c7b1b5dd-5dd1-47f2-f434-ba1bcb00884a"
      },
      "source": [
        "from sklearn.tree import DecisionTreeClassifier\n",
        "\n",
        "X, y = X_train_cls.select_dtypes(exclude='category'), y_train_cls\n",
        "clf = DecisionTreeClassifier()\n",
        "clf.fit(X, y)"
      ],
      "execution_count": 59,
      "outputs": [
        {
          "output_type": "execute_result",
          "data": {
            "text/html": [
              "<style>#sk-206ee4d4-bc1a-43aa-9fa4-ca7eab5a1497 {color: black;background-color: white;}#sk-206ee4d4-bc1a-43aa-9fa4-ca7eab5a1497 pre{padding: 0;}#sk-206ee4d4-bc1a-43aa-9fa4-ca7eab5a1497 div.sk-toggleable {background-color: white;}#sk-206ee4d4-bc1a-43aa-9fa4-ca7eab5a1497 label.sk-toggleable__label {cursor: pointer;display: block;width: 100%;margin-bottom: 0;padding: 0.2em 0.3em;box-sizing: border-box;text-align: center;}#sk-206ee4d4-bc1a-43aa-9fa4-ca7eab5a1497 div.sk-toggleable__content {max-height: 0;max-width: 0;overflow: hidden;text-align: left;background-color: #f0f8ff;}#sk-206ee4d4-bc1a-43aa-9fa4-ca7eab5a1497 div.sk-toggleable__content pre {margin: 0.2em;color: black;border-radius: 0.25em;background-color: #f0f8ff;}#sk-206ee4d4-bc1a-43aa-9fa4-ca7eab5a1497 input.sk-toggleable__control:checked~div.sk-toggleable__content {max-height: 200px;max-width: 100%;overflow: auto;}#sk-206ee4d4-bc1a-43aa-9fa4-ca7eab5a1497 div.sk-estimator input.sk-toggleable__control:checked~label.sk-toggleable__label {background-color: #d4ebff;}#sk-206ee4d4-bc1a-43aa-9fa4-ca7eab5a1497 div.sk-label input.sk-toggleable__control:checked~label.sk-toggleable__label {background-color: #d4ebff;}#sk-206ee4d4-bc1a-43aa-9fa4-ca7eab5a1497 input.sk-hidden--visually {border: 0;clip: rect(1px 1px 1px 1px);clip: rect(1px, 1px, 1px, 1px);height: 1px;margin: -1px;overflow: hidden;padding: 0;position: absolute;width: 1px;}#sk-206ee4d4-bc1a-43aa-9fa4-ca7eab5a1497 div.sk-estimator {font-family: monospace;background-color: #f0f8ff;margin: 0.25em 0.25em;border: 1px dotted black;border-radius: 0.25em;box-sizing: border-box;}#sk-206ee4d4-bc1a-43aa-9fa4-ca7eab5a1497 div.sk-estimator:hover {background-color: #d4ebff;}#sk-206ee4d4-bc1a-43aa-9fa4-ca7eab5a1497 div.sk-parallel-item::after {content: \"\";width: 100%;border-bottom: 1px solid gray;flex-grow: 1;}#sk-206ee4d4-bc1a-43aa-9fa4-ca7eab5a1497 div.sk-label:hover label.sk-toggleable__label {background-color: #d4ebff;}#sk-206ee4d4-bc1a-43aa-9fa4-ca7eab5a1497 div.sk-serial::before {content: \"\";position: absolute;border-left: 1px solid gray;box-sizing: border-box;top: 2em;bottom: 0;left: 50%;}#sk-206ee4d4-bc1a-43aa-9fa4-ca7eab5a1497 div.sk-serial {display: flex;flex-direction: column;align-items: center;background-color: white;}#sk-206ee4d4-bc1a-43aa-9fa4-ca7eab5a1497 div.sk-item {z-index: 1;}#sk-206ee4d4-bc1a-43aa-9fa4-ca7eab5a1497 div.sk-parallel {display: flex;align-items: stretch;justify-content: center;background-color: white;}#sk-206ee4d4-bc1a-43aa-9fa4-ca7eab5a1497 div.sk-parallel-item {display: flex;flex-direction: column;position: relative;background-color: white;}#sk-206ee4d4-bc1a-43aa-9fa4-ca7eab5a1497 div.sk-parallel-item:first-child::after {align-self: flex-end;width: 50%;}#sk-206ee4d4-bc1a-43aa-9fa4-ca7eab5a1497 div.sk-parallel-item:last-child::after {align-self: flex-start;width: 50%;}#sk-206ee4d4-bc1a-43aa-9fa4-ca7eab5a1497 div.sk-parallel-item:only-child::after {width: 0;}#sk-206ee4d4-bc1a-43aa-9fa4-ca7eab5a1497 div.sk-dashed-wrapped {border: 1px dashed gray;margin: 0.2em;box-sizing: border-box;padding-bottom: 0.1em;background-color: white;position: relative;}#sk-206ee4d4-bc1a-43aa-9fa4-ca7eab5a1497 div.sk-label label {font-family: monospace;font-weight: bold;background-color: white;display: inline-block;line-height: 1.2em;}#sk-206ee4d4-bc1a-43aa-9fa4-ca7eab5a1497 div.sk-label-container {position: relative;z-index: 2;text-align: center;}#sk-206ee4d4-bc1a-43aa-9fa4-ca7eab5a1497 div.sk-container {display: inline-block;position: relative;}</style><div id=\"sk-206ee4d4-bc1a-43aa-9fa4-ca7eab5a1497\" class\"sk-top-container\"><div class=\"sk-container\"><div class=\"sk-item\"><div class=\"sk-estimator sk-toggleable\"><input class=\"sk-toggleable__control sk-hidden--visually\" id=\"5f0cc883-df4b-4410-bf28-578b3edd2830\" type=\"checkbox\" checked><label class=\"sk-toggleable__label\" for=\"5f0cc883-df4b-4410-bf28-578b3edd2830\">DecisionTreeClassifier</label><div class=\"sk-toggleable__content\"><pre>DecisionTreeClassifier()</pre></div></div></div></div></div>"
            ],
            "text/plain": [
              "DecisionTreeClassifier()"
            ]
          },
          "metadata": {},
          "execution_count": 59
        }
      ]
    },
    {
      "cell_type": "markdown",
      "metadata": {
        "id": "E50eqPZ7YdcH"
      },
      "source": [
        "## Evaluation"
      ]
    },
    {
      "cell_type": "markdown",
      "metadata": {
        "id": "VvFJ53IFnoOj"
      },
      "source": [
        "Predict and evaluate model performance on a model. First let's create a model:"
      ]
    },
    {
      "cell_type": "code",
      "metadata": {
        "id": "Aows5z6vncTE",
        "outputId": "5d94c8ef-d085-4f2c-ba99-bc52cec40690",
        "colab": {
          "base_uri": "https://localhost:8080/",
          "height": 72
        }
      },
      "source": [
        "X, y, X_test, y_test = X_train_reg, y_train_reg, X_test_reg, y_test_reg\n",
        "clf = LinearRegression()\n",
        "clf.fit(X, y)"
      ],
      "execution_count": 61,
      "outputs": [
        {
          "output_type": "execute_result",
          "data": {
            "text/html": [
              "<style>#sk-72ee7bbb-c995-4421-a7dc-8072ff70afd2 {color: black;background-color: white;}#sk-72ee7bbb-c995-4421-a7dc-8072ff70afd2 pre{padding: 0;}#sk-72ee7bbb-c995-4421-a7dc-8072ff70afd2 div.sk-toggleable {background-color: white;}#sk-72ee7bbb-c995-4421-a7dc-8072ff70afd2 label.sk-toggleable__label {cursor: pointer;display: block;width: 100%;margin-bottom: 0;padding: 0.2em 0.3em;box-sizing: border-box;text-align: center;}#sk-72ee7bbb-c995-4421-a7dc-8072ff70afd2 div.sk-toggleable__content {max-height: 0;max-width: 0;overflow: hidden;text-align: left;background-color: #f0f8ff;}#sk-72ee7bbb-c995-4421-a7dc-8072ff70afd2 div.sk-toggleable__content pre {margin: 0.2em;color: black;border-radius: 0.25em;background-color: #f0f8ff;}#sk-72ee7bbb-c995-4421-a7dc-8072ff70afd2 input.sk-toggleable__control:checked~div.sk-toggleable__content {max-height: 200px;max-width: 100%;overflow: auto;}#sk-72ee7bbb-c995-4421-a7dc-8072ff70afd2 div.sk-estimator input.sk-toggleable__control:checked~label.sk-toggleable__label {background-color: #d4ebff;}#sk-72ee7bbb-c995-4421-a7dc-8072ff70afd2 div.sk-label input.sk-toggleable__control:checked~label.sk-toggleable__label {background-color: #d4ebff;}#sk-72ee7bbb-c995-4421-a7dc-8072ff70afd2 input.sk-hidden--visually {border: 0;clip: rect(1px 1px 1px 1px);clip: rect(1px, 1px, 1px, 1px);height: 1px;margin: -1px;overflow: hidden;padding: 0;position: absolute;width: 1px;}#sk-72ee7bbb-c995-4421-a7dc-8072ff70afd2 div.sk-estimator {font-family: monospace;background-color: #f0f8ff;margin: 0.25em 0.25em;border: 1px dotted black;border-radius: 0.25em;box-sizing: border-box;}#sk-72ee7bbb-c995-4421-a7dc-8072ff70afd2 div.sk-estimator:hover {background-color: #d4ebff;}#sk-72ee7bbb-c995-4421-a7dc-8072ff70afd2 div.sk-parallel-item::after {content: \"\";width: 100%;border-bottom: 1px solid gray;flex-grow: 1;}#sk-72ee7bbb-c995-4421-a7dc-8072ff70afd2 div.sk-label:hover label.sk-toggleable__label {background-color: #d4ebff;}#sk-72ee7bbb-c995-4421-a7dc-8072ff70afd2 div.sk-serial::before {content: \"\";position: absolute;border-left: 1px solid gray;box-sizing: border-box;top: 2em;bottom: 0;left: 50%;}#sk-72ee7bbb-c995-4421-a7dc-8072ff70afd2 div.sk-serial {display: flex;flex-direction: column;align-items: center;background-color: white;}#sk-72ee7bbb-c995-4421-a7dc-8072ff70afd2 div.sk-item {z-index: 1;}#sk-72ee7bbb-c995-4421-a7dc-8072ff70afd2 div.sk-parallel {display: flex;align-items: stretch;justify-content: center;background-color: white;}#sk-72ee7bbb-c995-4421-a7dc-8072ff70afd2 div.sk-parallel-item {display: flex;flex-direction: column;position: relative;background-color: white;}#sk-72ee7bbb-c995-4421-a7dc-8072ff70afd2 div.sk-parallel-item:first-child::after {align-self: flex-end;width: 50%;}#sk-72ee7bbb-c995-4421-a7dc-8072ff70afd2 div.sk-parallel-item:last-child::after {align-self: flex-start;width: 50%;}#sk-72ee7bbb-c995-4421-a7dc-8072ff70afd2 div.sk-parallel-item:only-child::after {width: 0;}#sk-72ee7bbb-c995-4421-a7dc-8072ff70afd2 div.sk-dashed-wrapped {border: 1px dashed gray;margin: 0.2em;box-sizing: border-box;padding-bottom: 0.1em;background-color: white;position: relative;}#sk-72ee7bbb-c995-4421-a7dc-8072ff70afd2 div.sk-label label {font-family: monospace;font-weight: bold;background-color: white;display: inline-block;line-height: 1.2em;}#sk-72ee7bbb-c995-4421-a7dc-8072ff70afd2 div.sk-label-container {position: relative;z-index: 2;text-align: center;}#sk-72ee7bbb-c995-4421-a7dc-8072ff70afd2 div.sk-container {display: inline-block;position: relative;}</style><div id=\"sk-72ee7bbb-c995-4421-a7dc-8072ff70afd2\" class\"sk-top-container\"><div class=\"sk-container\"><div class=\"sk-item\"><div class=\"sk-estimator sk-toggleable\"><input class=\"sk-toggleable__control sk-hidden--visually\" id=\"2c339a72-5a0f-4986-9a4a-d1cd32c62788\" type=\"checkbox\" checked><label class=\"sk-toggleable__label\" for=\"2c339a72-5a0f-4986-9a4a-d1cd32c62788\">LinearRegression</label><div class=\"sk-toggleable__content\"><pre>LinearRegression()</pre></div></div></div></div></div>"
            ],
            "text/plain": [
              "LinearRegression()"
            ]
          },
          "metadata": {},
          "execution_count": 61
        }
      ]
    },
    {
      "cell_type": "markdown",
      "metadata": {
        "id": "2DAky7wyoNJI"
      },
      "source": [
        "### 1- Predict"
      ]
    },
    {
      "cell_type": "code",
      "metadata": {
        "id": "MKIIRFhAdE5K",
        "colab": {
          "base_uri": "https://localhost:8080/"
        },
        "outputId": "e6da9739-5aa0-4cb7-a77f-d24aba05c82b"
      },
      "source": [
        "y_pred = clf.predict(X)\n",
        "y_pred[:5]"
      ],
      "execution_count": 60,
      "outputs": [
        {
          "output_type": "execute_result",
          "data": {
            "text/plain": [
              "array(['<=50K', '>50K', '>50K', '<=50K', '>50K'], dtype=object)"
            ]
          },
          "metadata": {},
          "execution_count": 60
        }
      ]
    },
    {
      "cell_type": "code",
      "metadata": {
        "id": "uUMAyP9nZE3D",
        "outputId": "efbb8ddc-d324-47f6-8f0f-b753d79e3dae",
        "colab": {
          "base_uri": "https://localhost:8080/"
        }
      },
      "source": [
        "(y == y_pred).mean()"
      ],
      "execution_count": 54,
      "outputs": [
        {
          "output_type": "execute_result",
          "data": {
            "text/plain": [
              "0.9984075346361216"
            ]
          },
          "metadata": {},
          "execution_count": 54
        }
      ]
    },
    {
      "cell_type": "code",
      "metadata": {
        "id": "tuP24o6hQI0z",
        "outputId": "af9585c0-ac56-4ccc-8261-c7fcb702d9d1",
        "colab": {
          "base_uri": "https://localhost:8080/"
        }
      },
      "source": [
        "accuracy = clf.score(X_test, y_test)\n",
        "print(f\"The test accuracy using a {clf.__class__.__name__} is \"f\"{accuracy:.3f}\")"
      ],
      "execution_count": 63,
      "outputs": [
        {
          "output_type": "stream",
          "name": "stdout",
          "text": [
            "The test accuracy using a LinearRegression is 0.930\n"
          ]
        }
      ]
    }
  ]
}